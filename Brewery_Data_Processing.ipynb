{
 "cells": [
  {
   "cell_type": "markdown",
   "metadata": {},
   "source": [
    "# Brewery Dataset (Using Polars)"
   ]
  },
  {
   "cell_type": "markdown",
   "metadata": {},
   "source": [
    "## Dataset Inspection (Bronze)"
   ]
  },
  {
   "cell_type": "code",
   "execution_count": null,
   "metadata": {},
   "outputs": [],
   "source": [
    "import polars as pl\n",
    "import os"
   ]
  },
  {
   "cell_type": "code",
   "execution_count": null,
   "metadata": {},
   "outputs": [],
   "source": [
    "# Load brewery_operations.csv\n",
    "brewery_ds = pl.read_csv('bronze/brewery_data_complete_extended.csv')"
   ]
  },
  {
   "cell_type": "code",
   "execution_count": null,
   "metadata": {},
   "outputs": [],
   "source": [
    "brewery_ds.schema"
   ]
  },
  {
   "cell_type": "code",
   "execution_count": null,
   "metadata": {},
   "outputs": [],
   "source": [
    "brewery_ds.head()"
   ]
  },
  {
   "cell_type": "code",
   "execution_count": null,
   "metadata": {},
   "outputs": [],
   "source": [
    "brewery_ds.describe()"
   ]
  },
  {
   "cell_type": "markdown",
   "metadata": {},
   "source": [
    "The dataset does not contain any null values."
   ]
  },
  {
   "cell_type": "markdown",
   "metadata": {},
   "source": [
    "## Bronze -> Silver"
   ]
  },
  {
   "cell_type": "markdown",
   "metadata": {},
   "source": [
    "Brew date is stored as a string, transforming to Date object."
   ]
  },
  {
   "cell_type": "code",
   "execution_count": null,
   "metadata": {},
   "outputs": [],
   "source": [
    "# Convert 'Brew_Date' to datetime\n",
    "brewery_ds_dt = brewery_ds.with_columns(\n",
    "    pl.col('Brew_Date').str.to_datetime()\n",
    ")\n",
    "\n",
    "# Print an example of Brew_Date\n",
    "brewery_ds_dt.select(pl.col('Brew_Date')).head()"
   ]
  },
  {
   "cell_type": "markdown",
   "metadata": {},
   "source": [
    "Ingredient ratios are difficult to interpret. Splitting them into three columns that represent the percentage of each ingredient.\n",
    "According to clarification here: https://www.kaggle.com/datasets/ankurnapa/brewery-operations-and-market-analysis-dataset/discussion/460903\n",
    "The ratio represents water:grains:hops"
   ]
  },
  {
   "cell_type": "code",
   "execution_count": null,
   "metadata": {},
   "outputs": [],
   "source": [
    "# Split 'Ingredient_Ratio' into exactly three parts and cast to float\n",
    "brewery_ds_dt_s = brewery_ds_dt.with_columns(\n",
    "    pl.col('Ingredient_Ratio').str.split_exact(n=2, by=\":\").alias('Ingredients')\n",
    ")\n",
    "\n",
    "# Extract ratio values and cast to float\n",
    "brewery_ds_dt_ss = brewery_ds_dt_s.with_columns([\n",
    "    pl.col('Ingredients').struct.field('field_0').cast(pl.Float64).alias('Water_Ratio'),\n",
    "    pl.col('Ingredients').struct.field('field_1').cast(pl.Float64).alias('Grains_Ratio'),\n",
    "    pl.col('Ingredients').struct.field('field_2').cast(pl.Float64).alias('Hops_Ratio')\n",
    "])\n",
    "\n",
    "# Calculate total ratio\n",
    "brewery_ds_dt_sss = brewery_ds_dt_ss.with_columns(\n",
    "    (pl.col('Water_Ratio') + pl.col('Grains_Ratio') + pl.col('Hops_Ratio')).alias('Total_Ratio')\n",
    ")\n",
    "\n",
    "# Calculate percentages\n",
    "brewery_ds_dt_ssss = brewery_ds_dt_sss.with_columns([\n",
    "    (pl.col('Water_Ratio') / pl.col('Total_Ratio') * 100).alias('Water_Percentage'),\n",
    "    (pl.col('Grains_Ratio') / pl.col('Total_Ratio') * 100).alias('Grains_Percentage'),\n",
    "    (pl.col('Hops_Ratio') / pl.col('Total_Ratio') * 100).alias('Hops_Percentage')\n",
    "])\n",
    "\n",
    "# Drop unnecessary columns\n",
    "brewery_ds_dt_ss_d = brewery_ds_dt_ssss.drop(['Ingredients', 'Water_Ratio', 'Grains_Ratio', 'Hops_Ratio', 'Total_Ratio'])\n",
    "\n",
    "print(brewery_ds_dt_ss_d.head())"
   ]
  },
  {
   "cell_type": "markdown",
   "metadata": {},
   "source": [
    "Adding the losses during each stage of brewing to a total loss is an easy and intuitive transformation to be made.\n",
    "It is unclear, and unexplained in the Data Card, whether the volume loss is from the initial amount or from each sequential step. \n",
    "Operating under the assumption that volume losses are as percentages of the volume from the previous step."
   ]
  },
  {
   "cell_type": "code",
   "execution_count": null,
   "metadata": {},
   "outputs": [],
   "source": [
    "brewery_ds_dt_sst = brewery_ds_dt_ss_d.with_columns(\n",
    "    (\n",
    "        100 * (1 - (\n",
    "            (1 - pl.col('Loss_During_Brewing') / 100) *\n",
    "            (1 - pl.col('Loss_During_Fermentation') / 100) *\n",
    "            (1 - pl.col('Loss_During_Bottling_Kegging') / 100)\n",
    "        ))\n",
    "    ).alias('Total_Loss_Percentage')\n",
    ")\n",
    "\n",
    "print(brewery_ds_dt_sst.select(pl.col('Total_Loss_Percentage')).head())\n"
   ]
  },
  {
   "cell_type": "code",
   "execution_count": null,
   "metadata": {},
   "outputs": [],
   "source": [
    "# Save the dataset\n",
    "brewery_ds_dt_sst.write_csv('silver/brewery_data.csv')"
   ]
  },
  {
   "cell_type": "markdown",
   "metadata": {},
   "source": [
    "# Silver -> Gold: Ingredient Ratio effect on Alcohol Content and Quality Score"
   ]
  },
  {
   "cell_type": "markdown",
   "metadata": {},
   "source": [
    "We'll need the Ingredient Rations (Water, Grains, Hops), the Alcohol Content, Quality Score.\n",
    "Additional columns we'll include: Fermentation Time, Temperature, pH_Level, Gravity and Beer_Style, Batch_ID for identification"
   ]
  },
  {
   "cell_type": "code",
   "execution_count": 2,
   "metadata": {},
   "outputs": [
    {
     "name": "stdout",
     "output_type": "stream",
     "text": [
      "shape: (1, 11)\n",
      "┌──────────┬────────────┬────────────┬────────────┬───┬──────────┬─────────┬───────────┬───────────┐\n",
      "│ Batch_ID ┆ Beer_Style ┆ Water_Perc ┆ Grains_Per ┆ … ┆ pH_Level ┆ Gravity ┆ Alcohol_C ┆ Quality_S │\n",
      "│ ---      ┆ ---        ┆ entage     ┆ centage    ┆   ┆ ---      ┆ ---     ┆ ontent    ┆ core      │\n",
      "│ u32      ┆ u32        ┆ ---        ┆ ---        ┆   ┆ u32      ┆ u32     ┆ ---       ┆ ---       │\n",
      "│          ┆            ┆ u32        ┆ u32        ┆   ┆          ┆         ┆ u32       ┆ u32       │\n",
      "╞══════════╪════════════╪════════════╪════════════╪═══╪══════════╪═════════╪═══════════╪═══════════╡\n",
      "│ 6394088  ┆ 6394088    ┆ 6394088    ┆ 6394088    ┆ … ┆ 6394088  ┆ 6394088 ┆ 6394088   ┆ 6394088   │\n",
      "└──────────┴────────────┴────────────┴────────────┴───┴──────────┴─────────┴───────────┴───────────┘\n",
      "shape: (5, 11)\n",
      "┌──────────┬────────────┬────────────┬───────────┬───┬──────────┬──────────┬───────────┬───────────┐\n",
      "│ Batch_ID ┆ Beer_Style ┆ Water_Perc ┆ Grains_Pe ┆ … ┆ pH_Level ┆ Gravity  ┆ Alcohol_C ┆ Quality_S │\n",
      "│ ---      ┆ ---        ┆ entage     ┆ rcentage  ┆   ┆ ---      ┆ ---      ┆ ontent    ┆ core      │\n",
      "│ i64      ┆ str        ┆ ---        ┆ ---       ┆   ┆ f64      ┆ f64      ┆ ---       ┆ ---       │\n",
      "│          ┆            ┆ f64        ┆ f64       ┆   ┆          ┆          ┆ f64       ┆ f64       │\n",
      "╞══════════╪════════════╪════════════╪═══════════╪═══╪══════════╪══════════╪═══════════╪═══════════╡\n",
      "│ 7870796  ┆ Wheat Beer ┆ 67.567568  ┆ 21.621622 ┆ … ┆ 5.289845 ┆ 1.039504 ┆ 5.370842  ┆ 8.577016  │\n",
      "│ 9810411  ┆ Sour       ┆ 61.349693  ┆ 23.92638  ┆ … ┆ 5.275643 ┆ 1.059819 ┆ 5.096053  ┆ 7.420541  │\n",
      "│ 2623342  ┆ Wheat Beer ┆ 66.225166  ┆ 23.178808 ┆ … ┆ 4.778016 ┆ 1.037476 ┆ 4.824737  ┆ 8.451365  │\n",
      "│ 6441292  ┆ Lager      ┆ 66.666667  ┆ 22.666667 ┆ … ┆ 5.332881 ┆ 1.046689 ┆ 4.710403  ┆ 6.958183  │\n",
      "│ 8843420  ┆ Wheat Beer ┆ 58.479532  ┆ 26.315789 ┆ … ┆ 4.507213 ┆ 1.041581 ┆ 4.837025  ┆ 6.295633  │\n",
      "└──────────┴────────────┴────────────┴───────────┴───┴──────────┴──────────┴───────────┴───────────┘\n"
     ]
    }
   ],
   "source": [
    "import polars as pl\n",
    "silver_ds = pl.read_csv('silver/brewery_data.csv')\n",
    "gold_ds = silver_ds.select([\n",
    "    'Batch_ID',\n",
    "    'Beer_Style',\n",
    "    'Water_Percentage',\n",
    "    'Grains_Percentage',\n",
    "    'Hops_Percentage',\n",
    "    'Fermentation_Time',\n",
    "    'Temperature',\n",
    "    'pH_Level',\n",
    "    'Gravity',\n",
    "    'Alcohol_Content',\n",
    "    'Quality_Score'\n",
    "])\n",
    "\n",
    "# Calculate total ingredient percentage (as a sanity check)\n",
    "gold_ds_t = gold_ds.with_columns(\n",
    "    (\n",
    "        pl.col('Water_Percentage') +\n",
    "        pl.col('Grains_Percentage') +\n",
    "        pl.col('Hops_Percentage')\n",
    "    ).alias('Total_Ingredient_Percentage')\n",
    ")\n",
    "\n",
    "# Drop rows whose total ingredient percentage is not 100\n",
    "gold_ds_tf = gold_ds_t.filter(pl.col('Total_Ingredient_Percentage') == 100)\n",
    "\n",
    "# Drop the total ingredient percentage column\n",
    "gold_ds_tfs = gold_ds_tf.drop('Total_Ingredient_Percentage')\n",
    "\n",
    "print(gold_ds_tfs.count())\n",
    "print(gold_ds_tfs.head())\n"
   ]
  },
  {
   "cell_type": "code",
   "execution_count": 24,
   "metadata": {},
   "outputs": [
    {
     "name": "stdout",
     "output_type": "stream",
     "text": [
      "Mean pH Level: 4.999854772201371\n",
      "shape: (10, 3)\n",
      "┌──────────┬──────────┬───────────────────┐\n",
      "│ Batch_ID ┆ pH_Level ┆ Relative_pH_Level │\n",
      "│ ---      ┆ ---      ┆ ---               │\n",
      "│ i64      ┆ f64      ┆ str               │\n",
      "╞══════════╪══════════╪═══════════════════╡\n",
      "│ 7870796  ┆ 5.289845 ┆ More Alkaline     │\n",
      "│ 9810411  ┆ 5.275643 ┆ More Alkaline     │\n",
      "│ 2623342  ┆ 4.778016 ┆ More Acidic       │\n",
      "│ 6441292  ┆ 5.332881 ┆ More Alkaline     │\n",
      "│ 8843420  ┆ 4.507213 ┆ More Acidic       │\n",
      "│ 8178852  ┆ 4.911262 ┆ Close to Mean     │\n",
      "│ 5607233  ┆ 4.809827 ┆ More Acidic       │\n",
      "│ 3699698  ┆ 5.312025 ┆ More Alkaline     │\n",
      "│ 1816588  ┆ 5.473564 ┆ More Alkaline     │\n",
      "│ 4910947  ┆ 4.685796 ┆ More Acidic       │\n",
      "└──────────┴──────────┴───────────────────┘\n"
     ]
    }
   ],
   "source": [
    "mean_pH = gold_ds_tfs['pH_Level'].mean()\n",
    "print(f\"Mean pH Level: {mean_pH}\")\n",
    "\n",
    "tol = 0.1  \n",
    "def relative_pH(pH_value):\n",
    "    if pH_value < mean_pH - tol:\n",
    "        return 'More Acidic'\n",
    "    elif pH_value > mean_pH + tol:\n",
    "        return 'More Alkaline'\n",
    "    else:\n",
    "        return 'Close to Mean'\n",
    "\n",
    "\n",
    "# Add the 'Relative_pH_Level' column using apply()\n",
    "gold_ds_tfs_p = gold_ds_tfs.with_columns(\n",
    "    pl.col('pH_Level').map_elements(relative_pH, return_dtype=str).alias('Relative_pH_Level')\n",
    ")\n",
    "\n",
    "\n",
    "print(gold_ds_tfs_p.select(['Batch_ID', 'pH_Level', 'Relative_pH_Level']).head(10))\n"
   ]
  },
  {
   "cell_type": "code",
   "execution_count": 25,
   "metadata": {},
   "outputs": [],
   "source": [
    "# Save the dataset\n",
    "gold_ds_tfs_p.write_csv('gold/brewery_ratio_outcomes.csv')"
   ]
  }
 ],
 "metadata": {
  "kernelspec": {
   "display_name": "Python 3",
   "language": "python",
   "name": "python3"
  },
  "language_info": {
   "codemirror_mode": {
    "name": "ipython",
    "version": 3
   },
   "file_extension": ".py",
   "mimetype": "text/x-python",
   "name": "python",
   "nbconvert_exporter": "python",
   "pygments_lexer": "ipython3",
   "version": "3.12.6"
  }
 },
 "nbformat": 4,
 "nbformat_minor": 2
}
