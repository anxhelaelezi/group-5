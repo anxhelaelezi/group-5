{
 "cells": [
  {
   "cell_type": "markdown",
   "metadata": {},
   "source": [
    "# Games Dataset (Using Pandas)"
   ]
  },
  {
   "cell_type": "markdown",
   "metadata": {},
   "source": [
    "## Dataset Inspection (Bronze)"
   ]
  },
  {
   "cell_type": "markdown",
   "metadata": {},
   "source": [
    "Using Pandas for the Games dataset. Pandas is single threaded and doesn't handle large datasets too well."
   ]
  },
  {
   "cell_type": "code",
   "execution_count": null,
   "metadata": {},
   "outputs": [],
   "source": [
    "import pandas as pd\n",
    "\n",
    "games_bronze_df = pd.read_csv('bronze/games.csv', delimiter=',', index_col=False)\n",
    "games_bronze_df.head().T\n"
   ]
  },
  {
   "cell_type": "markdown",
   "metadata": {},
   "source": [
    "Upon closer inspection, it seems that the dataset has mismatched column names/values. \n",
    "Listing columns and unique values for each."
   ]
  },
  {
   "cell_type": "code",
   "execution_count": null,
   "metadata": {},
   "outputs": [],
   "source": [
    "# List all columns and their unique values\n",
    "for column in games_bronze_df.columns:\n",
    "    print(f\"\\n{column}:\\n\")\n",
    "    print(games_bronze_df[column].unique())\n"
   ]
  },
  {
   "cell_type": "markdown",
   "metadata": {},
   "source": [
    "There seems to be a shift, at Discount DLCs. The About the game column values correspond to Discount DLCs."
   ]
  },
  {
   "cell_type": "markdown",
   "metadata": {},
   "source": [
    "## Bronze -> Silver"
   ]
  },
  {
   "cell_type": "code",
   "execution_count": null,
   "metadata": {},
   "outputs": [],
   "source": [
    "import pandas as pd\n",
    "\n",
    "# Load the dataset\n",
    "games_bronze_df = pd.read_csv('bronze/games.csv',index_col=False)\n",
    "\n",
    "# Get the index of the 'DiscountDLC count' column\n",
    "idx = games_bronze_df.columns.get_loc('DiscountDLC count')\n",
    "\n",
    "# Get the list of columns starting from 'DiscountDLC count' to the end\n",
    "cols_to_fix = games_bronze_df.columns[idx:]\n",
    "\n",
    "# Shift the values of these columns to the left by one\n",
    "games_bronze_df[cols_to_fix[:-1]] = games_bronze_df[cols_to_fix[1:]].values\n",
    "\n",
    "# Drop the last column\n",
    "games_bronze_df.drop(columns=cols_to_fix[-1], inplace=True)\n",
    "games_bronze_df.columns = games_bronze_df.columns\n",
    "\n",
    "# Inspect the DataFrame\n",
    "for column in games_bronze_df.columns:\n",
    "    print(f\"\\n{column}:\\n\")\n",
    "    print(games_bronze_df[column].unique())"
   ]
  },
  {
   "cell_type": "markdown",
   "metadata": {},
   "source": [
    "From a cursory look at the data we see that there are a few columns with a significant number of null values. \n",
    "There are Bools, Float64, Int64 and Object types.\n",
    "Strings are stored as object types, a generic Pandas struct that stores a pointer to the actual content."
   ]
  },
  {
   "cell_type": "markdown",
   "metadata": {},
   "source": [
    "Focusing on the null values, we'll do a quick check of how many null values there are per column. The purpose here is to identify if there are any columns that completely null and hence safe to remove."
   ]
  },
  {
   "cell_type": "code",
   "execution_count": null,
   "metadata": {},
   "outputs": [],
   "source": [
    "missing_values = games_bronze_df.isnull().sum()\n",
    "total_rows = games_bronze_df.shape[0]\n",
    "\n",
    "print(missing_values.apply(lambda x: f\"{\"Empty\" if x == total_rows else (\"High Null Rate\" if x/total_rows > 0.5 else \"\")}      {x}/{total_rows}   {x/total_rows:.2%}\"))"
   ]
  },
  {
   "cell_type": "markdown",
   "metadata": {},
   "source": [
    "We see that there are no columns that are completely redundant, although a few have significantly higher rates of null values. \n",
    "'Reviews', 'Website', 'Support url', 'Metacritic url', 'Score rank', 'Notes' all have a significant number of null values. \n",
    "Score Rank would be useful but it has the highest rate of null values at 99.95%.\n",
    "\n",
    "Notes can be useful to indicate whether a title depicts violence, mature themes etc, however the high null rate and the non-standard wording of the notes would not make this endeavor fruitful. Similar case for Reviews, as it has a high null rate and we would need a sentiment analysis tool to get useful information out of this field."
   ]
  },
  {
   "cell_type": "code",
   "execution_count": null,
   "metadata": {},
   "outputs": [],
   "source": [
    "# Drop Unnecessary or High Null Rate Columns\n",
    "columns_to_drop = ['Reviews', 'Website', 'Support url', 'Metacritic url', 'Score rank', 'Notes']\n",
    "\n",
    "# Drop the columns\n",
    "games_silver_df = games_bronze_df.drop(columns=columns_to_drop)"
   ]
  },
  {
   "cell_type": "markdown",
   "metadata": {},
   "source": [
    "6 entries are missing a name, which is a critical piece of information. Dropping those rows."
   ]
  },
  {
   "cell_type": "code",
   "execution_count": null,
   "metadata": {},
   "outputs": [],
   "source": [
    "# Drop the rows with missing values in the 'Name' column\n",
    "games_silver_df = games_silver_df.dropna(subset=['Name'])"
   ]
  },
  {
   "cell_type": "markdown",
   "metadata": {},
   "source": [
    "Fill null entries with descriptive placeholders.\n",
    "We are purposefully keeping some NaN values because it is easier to parse those out when making the gold datasets. (Notably in the genre, category, tags).\n",
    "\n",
    "Dropping or filling them out at this stage would be premature and either lose information we need or make parsing harder in the gold datasets."
   ]
  },
  {
   "cell_type": "code",
   "execution_count": null,
   "metadata": {},
   "outputs": [],
   "source": [
    "\n",
    "games_silver_df['Release date'] = games_silver_df['Release date'].fillna(pd.to_datetime('1950-01-01'))\n",
    "games_silver_df['About the game'] = games_silver_df['About the game'].fillna('Not Provided')\n",
    "games_silver_df['Support email'] = games_silver_df['Support email'].fillna('Not Provided')\n",
    "games_silver_df['Screenshots'] = games_silver_df['Screenshots'].fillna('Not Provided') \n",
    "\n",
    "print(games_silver_df.info())"
   ]
  },
  {
   "cell_type": "markdown",
   "metadata": {},
   "source": [
    "Coerce objects to defined types in pandas"
   ]
  },
  {
   "cell_type": "code",
   "execution_count": null,
   "metadata": {},
   "outputs": [],
   "source": [
    "numeric_columns = ['AppID', 'Peak CCU', 'Required age', 'Price', 'Achievements', 'Positive', 'Negative', 'Average playtime forever', 'Average playtime two weeks', 'Median playtime forever', 'Median playtime two weeks', 'Recommendations']\n",
    "\n",
    "for col in numeric_columns:\n",
    "    games_silver_df[col] = pd.to_numeric(games_silver_df[col], errors='coerce')\n",
    "\n",
    "boolean_columns = ['Windows', 'Mac', 'Linux']\n",
    "\n",
    "for col in boolean_columns:\n",
    "    games_silver_df[col] = games_silver_df[col].astype(bool)\n"
   ]
  },
  {
   "cell_type": "code",
   "execution_count": null,
   "metadata": {},
   "outputs": [],
   "source": [
    "# Identify number of 0 values is numeric columns\n",
    "numeric_columns = games_silver_df.select_dtypes(include=['int64', 'float64']).columns\n",
    "\n",
    "# Check object columns too for 0 values\n",
    "numeric_columns = numeric_columns.append(games_silver_df.select_dtypes(include=['object']).columns)\n",
    "\n",
    "zero_values = games_silver_df[numeric_columns].eq(0).sum()\n",
    "\n",
    "print(zero_values.apply(lambda x: f\"{\"Empty\" if x == total_rows else (\"High Zero Rate\" if x/total_rows > 0.5 else \"\")}      {x}/{total_rows}   {x/total_rows:.2%}\"))"
   ]
  },
  {
   "cell_type": "markdown",
   "metadata": {},
   "source": [
    "- 0 required age implied 'E' for everyone as an age rating.\n",
    "- Peak CCU being 0 is not impossible considering that the dataset is scraping every game available on Steam (of which a significant number is not popular, or ever used).\n",
    "- Playtimes being at 0 is also a reasonable value because that implies the game was bought but never played. Number of games not being played in the past two weeks is appropriately higher.\n",
    "- User score being almost entirely 0 is surprising. It is unclear whether this is missing data, or that many games listed on Steam have no user reviews at all. \n",
    "- Metacritic being mostly 0 makes sense as they only score high profile videogame releases (steam includes non-game software in its listing)"
   ]
  },
  {
   "cell_type": "markdown",
   "metadata": {},
   "source": [
    "Drop Duplicates, only considering AppIDs."
   ]
  },
  {
   "cell_type": "code",
   "execution_count": null,
   "metadata": {},
   "outputs": [],
   "source": [
    "if len(games_silver_df['AppID'])-len(games_silver_df['AppID'].drop_duplicates()) == 0:\n",
    "    print('No duplicates found')\n",
    "else:\n",
    "    print('Duplicates found')\n",
    "    games_silver_df = games_silver_df.drop_duplicates(subset='AppID')\n"
   ]
  },
  {
   "cell_type": "markdown",
   "metadata": {},
   "source": [
    "Categories, Tags, Genres contain strings with comma separated 'words'. \n",
    "As part of processing we're splitting these into lists."
   ]
  },
  {
   "cell_type": "code",
   "execution_count": null,
   "metadata": {},
   "outputs": [],
   "source": [
    "# Convert to lists and lowercase\n",
    "games_silver_df['Categories'] = games_silver_df['Categories'].apply(lambda x: [item.strip().lower() for item in x.split(',')] if (isinstance(x,str) and not pd.isnull(x)) else [])\n",
    "games_silver_df['Genres'] = games_silver_df['Genres'].apply(lambda x: [item.strip().lower() for item in x.split(',')] if isinstance(x,str) and not pd.isnull(x) else [])\n",
    "games_silver_df['Tags'] = games_silver_df['Tags'].apply(lambda x: [item.strip().lower() for item in x.split(',')] if isinstance(x,str) and not pd.isnull(x) else [])\n",
    "\n",
    "# Remove duplicates\n",
    "games_silver_df['Categories'] = games_silver_df['Categories'].apply(lambda x: list(set(x)))\n",
    "games_silver_df['Genres'] = games_silver_df['Genres'].apply(lambda x: list(set(x)))\n",
    "games_silver_df['Tags'] = games_silver_df['Tags'].apply(lambda x: list(set(x)))\n"
   ]
  },
  {
   "cell_type": "code",
   "execution_count": null,
   "metadata": {},
   "outputs": [],
   "source": [
    "# See if this works\n",
    "print(games_silver_df['Categories'])\n",
    "print(games_silver_df['Genres'])\n",
    "print(games_silver_df['Tags'])"
   ]
  },
  {
   "cell_type": "code",
   "execution_count": null,
   "metadata": {},
   "outputs": [],
   "source": [
    "games_silver_df.head().T"
   ]
  },
  {
   "cell_type": "code",
   "execution_count": null,
   "metadata": {},
   "outputs": [],
   "source": [
    "# Save the silver DataFrame to a CSV file\n",
    "games_silver_df.to_csv('silver/games.csv', index=False)"
   ]
  },
  {
   "cell_type": "markdown",
   "metadata": {},
   "source": [
    "# Silver -> Gold: Metrics for Player Retention and reputation by Genre"
   ]
  },
  {
   "cell_type": "markdown",
   "metadata": {},
   "source": [
    "The first Gold Dataset will provide information on player retention and reputation by genre.\n",
    "Using playtime, user review rates to calculate the main metric. Providing additional information such as estimated players in genre and total revenue."
   ]
  },
  {
   "cell_type": "code",
   "execution_count": 1,
   "metadata": {},
   "outputs": [
    {
     "name": "stdout",
     "output_type": "stream",
     "text": [
      "gold_genre_df loaded from silver/games.csv\n"
     ]
    }
   ],
   "source": [
    "import pandas as pd\n",
    "from pprint import pprint\n",
    "try:\n",
    "    gold_genre_df = games_silver_df.copy()\n",
    "    print('gold_genre_df copied from games_silver_df')\n",
    "except NameError:\n",
    "    gold_genre_df = pd.read_csv('silver/games.csv', index_col=False)\n",
    "    print('gold_genre_df loaded from silver/games.csv')\n",
    "    \n"
   ]
  },
  {
   "cell_type": "markdown",
   "metadata": {},
   "source": [
    "### Most Common Genre"
   ]
  },
  {
   "cell_type": "markdown",
   "metadata": {},
   "source": [
    "Drop rows with missing genres"
   ]
  },
  {
   "cell_type": "code",
   "execution_count": 2,
   "metadata": {},
   "outputs": [
    {
     "name": "stdout",
     "output_type": "stream",
     "text": [
      "array([\"['indie', 'sports', 'casual']\", \"['action', 'indie']\",\n",
      "       \"['action', 'adventure', 'indie', 'strategy']\", ...,\n",
      "       \"['action', 'adventure', 'indie', 'game development']\",\n",
      "       \"['action', 'rpg', 'indie', 'free to play', 'racing', 'strategy']\",\n",
      "       \"['action', 'indie', 'free to play', 'casual', 'massively multiplayer', 'strategy']\"],\n",
      "      dtype=object)\n"
     ]
    }
   ],
   "source": [
    "# Rows with Empty genres\n",
    "empty_genres = gold_genre_df['Genres'].apply(lambda x: len(x) == 0 if isinstance(x, list) else pd.isnull(x))\n",
    "gold_genres_df = gold_genre_df[~empty_genres]\n",
    "\n",
    "# Print out what this results in\n",
    "pprint(gold_genres_df[\"Genres\"].apply(lambda x: str(x)).unique())\n"
   ]
  },
  {
   "cell_type": "code",
   "execution_count": 3,
   "metadata": {},
   "outputs": [
    {
     "name": "stdout",
     "output_type": "stream",
     "text": [
      "                                                                            0  \\\n",
      "AppID                                                                   20200   \n",
      "Name                                                         Galactic Bowling   \n",
      "Release date                                                     Oct 21, 2008   \n",
      "Estimated owners                                                    0 - 20000   \n",
      "Peak CCU                                                                    0   \n",
      "Required age                                                                0   \n",
      "Price                                                                   19.99   \n",
      "DiscountDLC count                                                           0   \n",
      "About the game              Galactic Bowling is an exaggerated and stylize...   \n",
      "Supported languages                                               ['English']   \n",
      "Full audio languages                                                       []   \n",
      "Header image                https://cdn.akamai.steamstatic.com/steam/apps/...   \n",
      "Support email                                                    Not Provided   \n",
      "Windows                                                                  True   \n",
      "Mac                                                                     False   \n",
      "Linux                                                                   False   \n",
      "Metacritic score                                                            0   \n",
      "User score                                                                  0   \n",
      "Positive                                                                    6   \n",
      "Negative                                                                   11   \n",
      "Achievements                                                               30   \n",
      "Recommendations                                                             0   \n",
      "Average playtime forever                                                    0   \n",
      "Average playtime two weeks                                                  0   \n",
      "Median playtime forever                                                     0   \n",
      "Median playtime two weeks                                                   0   \n",
      "Developers                                              Perpetual FX Creative   \n",
      "Publishers                                              Perpetual FX Creative   \n",
      "Categories                  ['single-player', 'partial controller support'...   \n",
      "Genres                                                                  indie   \n",
      "Tags                                 ['indie', 'sports', 'bowling', 'casual']   \n",
      "Screenshots                 https://cdn.akamai.steamstatic.com/steam/apps/...   \n",
      "\n",
      "                                                                            0  \\\n",
      "AppID                                                                   20200   \n",
      "Name                                                         Galactic Bowling   \n",
      "Release date                                                     Oct 21, 2008   \n",
      "Estimated owners                                                    0 - 20000   \n",
      "Peak CCU                                                                    0   \n",
      "Required age                                                                0   \n",
      "Price                                                                   19.99   \n",
      "DiscountDLC count                                                           0   \n",
      "About the game              Galactic Bowling is an exaggerated and stylize...   \n",
      "Supported languages                                               ['English']   \n",
      "Full audio languages                                                       []   \n",
      "Header image                https://cdn.akamai.steamstatic.com/steam/apps/...   \n",
      "Support email                                                    Not Provided   \n",
      "Windows                                                                  True   \n",
      "Mac                                                                     False   \n",
      "Linux                                                                   False   \n",
      "Metacritic score                                                            0   \n",
      "User score                                                                  0   \n",
      "Positive                                                                    6   \n",
      "Negative                                                                   11   \n",
      "Achievements                                                               30   \n",
      "Recommendations                                                             0   \n",
      "Average playtime forever                                                    0   \n",
      "Average playtime two weeks                                                  0   \n",
      "Median playtime forever                                                     0   \n",
      "Median playtime two weeks                                                   0   \n",
      "Developers                                              Perpetual FX Creative   \n",
      "Publishers                                              Perpetual FX Creative   \n",
      "Categories                  ['single-player', 'partial controller support'...   \n",
      "Genres                                                                 sports   \n",
      "Tags                                 ['indie', 'sports', 'bowling', 'casual']   \n",
      "Screenshots                 https://cdn.akamai.steamstatic.com/steam/apps/...   \n",
      "\n",
      "                                                                            0  \\\n",
      "AppID                                                                   20200   \n",
      "Name                                                         Galactic Bowling   \n",
      "Release date                                                     Oct 21, 2008   \n",
      "Estimated owners                                                    0 - 20000   \n",
      "Peak CCU                                                                    0   \n",
      "Required age                                                                0   \n",
      "Price                                                                   19.99   \n",
      "DiscountDLC count                                                           0   \n",
      "About the game              Galactic Bowling is an exaggerated and stylize...   \n",
      "Supported languages                                               ['English']   \n",
      "Full audio languages                                                       []   \n",
      "Header image                https://cdn.akamai.steamstatic.com/steam/apps/...   \n",
      "Support email                                                    Not Provided   \n",
      "Windows                                                                  True   \n",
      "Mac                                                                     False   \n",
      "Linux                                                                   False   \n",
      "Metacritic score                                                            0   \n",
      "User score                                                                  0   \n",
      "Positive                                                                    6   \n",
      "Negative                                                                   11   \n",
      "Achievements                                                               30   \n",
      "Recommendations                                                             0   \n",
      "Average playtime forever                                                    0   \n",
      "Average playtime two weeks                                                  0   \n",
      "Median playtime forever                                                     0   \n",
      "Median playtime two weeks                                                   0   \n",
      "Developers                                              Perpetual FX Creative   \n",
      "Publishers                                              Perpetual FX Creative   \n",
      "Categories                  ['single-player', 'partial controller support'...   \n",
      "Genres                                                                 casual   \n",
      "Tags                                 ['indie', 'sports', 'bowling', 'casual']   \n",
      "Screenshots                 https://cdn.akamai.steamstatic.com/steam/apps/...   \n",
      "\n",
      "                                                                            1  \\\n",
      "AppID                                                                  655370   \n",
      "Name                                                             Train Bandit   \n",
      "Release date                                                     Oct 12, 2017   \n",
      "Estimated owners                                                    0 - 20000   \n",
      "Peak CCU                                                                    0   \n",
      "Required age                                                                0   \n",
      "Price                                                                    0.99   \n",
      "DiscountDLC count                                                           0   \n",
      "About the game              THE LAW!! Looks to be a showdown atop a train....   \n",
      "Supported languages         ['English', 'French', 'Italian', 'German', 'Sp...   \n",
      "Full audio languages                                                       []   \n",
      "Header image                https://cdn.akamai.steamstatic.com/steam/apps/...   \n",
      "Support email                                         support@rustymoyher.com   \n",
      "Windows                                                                  True   \n",
      "Mac                                                                      True   \n",
      "Linux                                                                   False   \n",
      "Metacritic score                                                            0   \n",
      "User score                                                                  0   \n",
      "Positive                                                                   53   \n",
      "Negative                                                                    5   \n",
      "Achievements                                                               12   \n",
      "Recommendations                                                             0   \n",
      "Average playtime forever                                                    0   \n",
      "Average playtime two weeks                                                  0   \n",
      "Median playtime forever                                                     0   \n",
      "Median playtime two weeks                                                   0   \n",
      "Developers                                                       Rusty Moyher   \n",
      "Publishers                                                       Wild Rooster   \n",
      "Categories                  ['remote play on tv', 'single-player', 'steam ...   \n",
      "Genres                                                                 action   \n",
      "Tags                        ['indie', '2d', 'violent', 'action', 'minimali...   \n",
      "Screenshots                 https://cdn.akamai.steamstatic.com/steam/apps/...   \n",
      "\n",
      "                                                                            1  \n",
      "AppID                                                                  655370  \n",
      "Name                                                             Train Bandit  \n",
      "Release date                                                     Oct 12, 2017  \n",
      "Estimated owners                                                    0 - 20000  \n",
      "Peak CCU                                                                    0  \n",
      "Required age                                                                0  \n",
      "Price                                                                    0.99  \n",
      "DiscountDLC count                                                           0  \n",
      "About the game              THE LAW!! Looks to be a showdown atop a train....  \n",
      "Supported languages         ['English', 'French', 'Italian', 'German', 'Sp...  \n",
      "Full audio languages                                                       []  \n",
      "Header image                https://cdn.akamai.steamstatic.com/steam/apps/...  \n",
      "Support email                                         support@rustymoyher.com  \n",
      "Windows                                                                  True  \n",
      "Mac                                                                      True  \n",
      "Linux                                                                   False  \n",
      "Metacritic score                                                            0  \n",
      "User score                                                                  0  \n",
      "Positive                                                                   53  \n",
      "Negative                                                                    5  \n",
      "Achievements                                                               12  \n",
      "Recommendations                                                             0  \n",
      "Average playtime forever                                                    0  \n",
      "Average playtime two weeks                                                  0  \n",
      "Median playtime forever                                                     0  \n",
      "Median playtime two weeks                                                   0  \n",
      "Developers                                                       Rusty Moyher  \n",
      "Publishers                                                       Wild Rooster  \n",
      "Categories                  ['remote play on tv', 'single-player', 'steam ...  \n",
      "Genres                                                                  indie  \n",
      "Tags                        ['indie', '2d', 'violent', 'action', 'minimali...  \n",
      "Screenshots                 https://cdn.akamai.steamstatic.com/steam/apps/...  \n"
     ]
    }
   ],
   "source": [
    "import ast\n",
    "# Explode the Genres column\n",
    "gold_genre_df[\"Genres\"] = gold_genre_df[\"Genres\"].apply(ast.literal_eval)\n",
    "gold_genre_df = gold_genre_df.explode('Genres')\n",
    "\n",
    "gold_genre_df = gold_genre_df.dropna(subset=['Genres'])\n",
    "\n",
    "# See the result\n",
    "pprint(gold_genre_df.head().T)"
   ]
  },
  {
   "cell_type": "markdown",
   "metadata": {},
   "source": [
    "### Group by Genre and developer "
   ]
  },
  {
   "cell_type": "code",
   "execution_count": 4,
   "metadata": {},
   "outputs": [],
   "source": [
    "import numpy as np\n",
    "\n",
    "gold_genre_df['Total_Reviews'] = gold_genre_df['Positive'] + gold_genre_df['Negative']\n",
    "gold_genre_df['Total_Reviews'] = gold_genre_df['Total_Reviews'].replace(0, np.nan)\n",
    "gold_genre_df['Positive_Review_Rate'] = gold_genre_df['Positive'] / gold_genre_df['Total_Reviews']\n",
    "gold_genre_df['Positive_Review_Rate'] = gold_genre_df['Positive_Review_Rate'].fillna(0)"
   ]
  },
  {
   "cell_type": "code",
   "execution_count": 5,
   "metadata": {},
   "outputs": [],
   "source": [
    "def estimate_owners_range(owners_range):\n",
    "    if pd.isnull(owners_range):\n",
    "        return np.nan\n",
    "    try:\n",
    "        low, high = owners_range.split(' - ')\n",
    "        low = int(low.replace(',', '').strip())\n",
    "        high = int(high.replace(',', '').strip())\n",
    "        return (low + high) / 2  # Average of the range\n",
    "    except:\n",
    "        return np.nan\n",
    "\n",
    "gold_genre_df['Estimated_Owners'] = gold_genre_df['Estimated owners'].apply(estimate_owners_range)\n"
   ]
  },
  {
   "cell_type": "code",
   "execution_count": 6,
   "metadata": {},
   "outputs": [],
   "source": [
    "gold_genre_df['Price'] = pd.to_numeric(gold_genre_df['Price'], errors='coerce').fillna(0)\n",
    "gold_genre_df['Estimated_Owners'] = gold_genre_df['Estimated_Owners'].fillna(0)\n",
    "\n",
    "gold_genre_df['Total_Revenue'] = gold_genre_df['Estimated_Owners'] * gold_genre_df['Price']\n"
   ]
  },
  {
   "cell_type": "code",
   "execution_count": 7,
   "metadata": {},
   "outputs": [
    {
     "data": {
      "text/html": [
       "<div>\n",
       "<style scoped>\n",
       "    .dataframe tbody tr th:only-of-type {\n",
       "        vertical-align: middle;\n",
       "    }\n",
       "\n",
       "    .dataframe tbody tr th {\n",
       "        vertical-align: top;\n",
       "    }\n",
       "\n",
       "    .dataframe thead th {\n",
       "        text-align: right;\n",
       "    }\n",
       "</style>\n",
       "<table border=\"1\" class=\"dataframe\">\n",
       "  <thead>\n",
       "    <tr style=\"text-align: right;\">\n",
       "      <th></th>\n",
       "      <th>Genres</th>\n",
       "      <th>Average_Playtime_Forever</th>\n",
       "      <th>Average_Positive_Review_Rate</th>\n",
       "      <th>Total_Estimated_Players</th>\n",
       "      <th>Total_Revenue</th>\n",
       "      <th>Number_of_Games</th>\n",
       "    </tr>\n",
       "  </thead>\n",
       "  <tbody>\n",
       "    <tr>\n",
       "      <th>2</th>\n",
       "      <td>action</td>\n",
       "      <td>89.770182</td>\n",
       "      <td>0.5693</td>\n",
       "      <td>4.749815e+09</td>\n",
       "      <td>6.389563e+10</td>\n",
       "      <td>38004</td>\n",
       "    </tr>\n",
       "    <tr>\n",
       "      <th>3</th>\n",
       "      <td>adventure</td>\n",
       "      <td>84.134090</td>\n",
       "      <td>0.5624</td>\n",
       "      <td>2.765970e+09</td>\n",
       "      <td>4.137617e+10</td>\n",
       "      <td>35864</td>\n",
       "    </tr>\n",
       "    <tr>\n",
       "      <th>21</th>\n",
       "      <td>rpg</td>\n",
       "      <td>150.509576</td>\n",
       "      <td>0.5387</td>\n",
       "      <td>1.877345e+09</td>\n",
       "      <td>3.524506e+10</td>\n",
       "      <td>16657</td>\n",
       "    </tr>\n",
       "    <tr>\n",
       "      <th>15</th>\n",
       "      <td>indie</td>\n",
       "      <td>59.240322</td>\n",
       "      <td>0.5677</td>\n",
       "      <td>3.273505e+09</td>\n",
       "      <td>3.241613e+10</td>\n",
       "      <td>64501</td>\n",
       "    </tr>\n",
       "    <tr>\n",
       "      <th>27</th>\n",
       "      <td>strategy</td>\n",
       "      <td>138.939020</td>\n",
       "      <td>0.5560</td>\n",
       "      <td>1.449030e+09</td>\n",
       "      <td>1.928588e+10</td>\n",
       "      <td>17760</td>\n",
       "    </tr>\n",
       "    <tr>\n",
       "      <th>24</th>\n",
       "      <td>simulation</td>\n",
       "      <td>130.053794</td>\n",
       "      <td>0.5177</td>\n",
       "      <td>1.328075e+09</td>\n",
       "      <td>1.802461e+10</td>\n",
       "      <td>18608</td>\n",
       "    </tr>\n",
       "    <tr>\n",
       "      <th>6</th>\n",
       "      <td>casual</td>\n",
       "      <td>47.189351</td>\n",
       "      <td>0.5205</td>\n",
       "      <td>1.356245e+09</td>\n",
       "      <td>8.449390e+09</td>\n",
       "      <td>39308</td>\n",
       "    </tr>\n",
       "    <tr>\n",
       "      <th>16</th>\n",
       "      <td>massively multiplayer</td>\n",
       "      <td>286.138315</td>\n",
       "      <td>0.4346</td>\n",
       "      <td>9.214850e+08</td>\n",
       "      <td>7.725984e+09</td>\n",
       "      <td>2422</td>\n",
       "    </tr>\n",
       "    <tr>\n",
       "      <th>9</th>\n",
       "      <td>early access</td>\n",
       "      <td>64.999421</td>\n",
       "      <td>0.5230</td>\n",
       "      <td>5.298050e+08</td>\n",
       "      <td>7.590049e+09</td>\n",
       "      <td>12097</td>\n",
       "    </tr>\n",
       "    <tr>\n",
       "      <th>26</th>\n",
       "      <td>sports</td>\n",
       "      <td>135.245425</td>\n",
       "      <td>0.5361</td>\n",
       "      <td>2.975950e+08</td>\n",
       "      <td>2.977051e+09</td>\n",
       "      <td>4262</td>\n",
       "    </tr>\n",
       "  </tbody>\n",
       "</table>\n",
       "</div>"
      ],
      "text/plain": [
       "                   Genres  Average_Playtime_Forever  \\\n",
       "2                  action                 89.770182   \n",
       "3               adventure                 84.134090   \n",
       "21                    rpg                150.509576   \n",
       "15                  indie                 59.240322   \n",
       "27               strategy                138.939020   \n",
       "24             simulation                130.053794   \n",
       "6                  casual                 47.189351   \n",
       "16  massively multiplayer                286.138315   \n",
       "9            early access                 64.999421   \n",
       "26                 sports                135.245425   \n",
       "\n",
       "    Average_Positive_Review_Rate  Total_Estimated_Players  Total_Revenue  \\\n",
       "2                         0.5693             4.749815e+09   6.389563e+10   \n",
       "3                         0.5624             2.765970e+09   4.137617e+10   \n",
       "21                        0.5387             1.877345e+09   3.524506e+10   \n",
       "15                        0.5677             3.273505e+09   3.241613e+10   \n",
       "27                        0.5560             1.449030e+09   1.928588e+10   \n",
       "24                        0.5177             1.328075e+09   1.802461e+10   \n",
       "6                         0.5205             1.356245e+09   8.449390e+09   \n",
       "16                        0.4346             9.214850e+08   7.725984e+09   \n",
       "9                         0.5230             5.298050e+08   7.590049e+09   \n",
       "26                        0.5361             2.975950e+08   2.977051e+09   \n",
       "\n",
       "    Number_of_Games  \n",
       "2             38004  \n",
       "3             35864  \n",
       "21            16657  \n",
       "15            64501  \n",
       "27            17760  \n",
       "24            18608  \n",
       "6             39308  \n",
       "16             2422  \n",
       "9             12097  \n",
       "26             4262  "
      ]
     },
     "execution_count": 7,
     "metadata": {},
     "output_type": "execute_result"
    }
   ],
   "source": [
    "# Group by 'Genres' and calculate metrics\n",
    "genre_metrics = gold_genre_df.groupby('Genres').agg(\n",
    "    Average_Playtime_Forever=('Average playtime forever', 'mean'),\n",
    "    Average_Positive_Review_Rate=('Positive_Review_Rate', 'mean'),\n",
    "    Total_Estimated_Players=('Estimated_Owners', 'sum'),\n",
    "    Total_Revenue=('Total_Revenue', 'sum'),\n",
    "    Number_of_Games=('AppID', 'count')\n",
    ").reset_index()\n",
    "\n",
    "genre_metrics = genre_metrics.round({\n",
    "    'Average_Player_Retention': 4,\n",
    "    'Average_Positive_Review_Rate': 4,\n",
    "    'Total_Estimated_Players': 0,\n",
    "    'Total_Revenue': 2\n",
    "})\n",
    "\n",
    "# Filter out genres with less than 10 games, with average playtime at 0 and total estimated players at 0\n",
    "genre_metrics = genre_metrics[(genre_metrics['Number_of_Games'] >= 10) & (genre_metrics['Average_Playtime_Forever'] > 0) & (genre_metrics['Total_Estimated_Players'] > 0)]\n",
    "\n",
    "genre_metrics = genre_metrics.sort_values('Total_Revenue', ascending=False)\n",
    "genre_metrics.head(10)"
   ]
  },
  {
   "cell_type": "code",
   "execution_count": 8,
   "metadata": {},
   "outputs": [],
   "source": [
    "# Save the gold DataFrame to a CSV file\n",
    "genre_metrics.to_csv('gold/games_genre_metrics.csv', index=False)"
   ]
  },
  {
   "cell_type": "markdown",
   "metadata": {},
   "source": [
    "# Silver -> Gold: Total Revenue by Year released"
   ]
  },
  {
   "cell_type": "code",
   "execution_count": null,
   "metadata": {},
   "outputs": [],
   "source": [
    "import pandas as pd\n",
    "from pprint import pprint\n",
    "try:\n",
    "    revenue_df = games_silver_df.copy()\n",
    "    print('gold_genre_df copied from games_silver_df')\n",
    "except NameError:\n",
    "    revenue_df = pd.read_csv('silver/games.csv', index_col=False)\n",
    "    print('gold_genre_df loaded from silver/games.csv')"
   ]
  },
  {
   "cell_type": "code",
   "execution_count": null,
   "metadata": {},
   "outputs": [],
   "source": [
    "# Convert 'Release date' to datetime\n",
    "revenue_df['Release date'] = pd.to_datetime(revenue_df['Release date'], errors='coerce')\n",
    "\n",
    "revenue_df['Release_Year'] = revenue_df['Release date'].dt.year\n",
    "revenue_df['Release_Month'] = revenue_df['Release date'].dt.month\n",
    "\n",
    "revenue_df = revenue_df.dropna(subset=['Release_Year', 'Release_Month']) # Most likely not needed"
   ]
  },
  {
   "cell_type": "code",
   "execution_count": null,
   "metadata": {},
   "outputs": [],
   "source": [
    "def estimate_owners_range(owners_range):\n",
    "    if pd.isnull(owners_range):\n",
    "        return np.nan\n",
    "    try:\n",
    "        low, high = owners_range.split(' - ')\n",
    "        low = int(low.replace(',', '').strip())\n",
    "        high = int(high.replace(',', '').strip())\n",
    "        return (low + high) / 2 \n",
    "    except:\n",
    "        return np.nan\n",
    "\n",
    "revenue_df['Estimated_Owners'] = revenue_df['Estimated owners'].apply(estimate_owners_range)\n",
    "revenue_df['Estimated_Revenue'] = revenue_df['Estimated_Owners'] * revenue_df['Price']"
   ]
  },
  {
   "cell_type": "code",
   "execution_count": null,
   "metadata": {},
   "outputs": [],
   "source": [
    "monthly_revenue = revenue_df.groupby(['Release_Year']).agg(\n",
    "    Total_Estimated_Revenue=('Estimated_Revenue', 'sum'),\n",
    "    Total_Estimated_Owners=('Estimated_Owners', 'sum'),\n",
    "    Number_of_Games=('AppID', 'count')\n",
    ").reset_index()\n",
    "\n",
    "# Drop years with 0 total estimated owners\n",
    "monthly_revenue = monthly_revenue[monthly_revenue['Total_Estimated_Owners'] > 0]\n",
    "\n",
    "monthly_revenue\n"
   ]
  },
  {
   "cell_type": "code",
   "execution_count": null,
   "metadata": {},
   "outputs": [],
   "source": [
    "# Save the gold DataFrame to a CSV file\n",
    "monthly_revenue.to_csv('gold/games_yearly_revenue.csv', index=False)"
   ]
  }
 ],
 "metadata": {
  "kernelspec": {
   "display_name": "Python 3",
   "language": "python",
   "name": "python3"
  },
  "language_info": {
   "codemirror_mode": {
    "name": "ipython",
    "version": 3
   },
   "file_extension": ".py",
   "mimetype": "text/x-python",
   "name": "python",
   "nbconvert_exporter": "python",
   "pygments_lexer": "ipython3",
   "version": "3.12.6"
  }
 },
 "nbformat": 4,
 "nbformat_minor": 2
}
