{
 "cells": [
  {
   "cell_type": "markdown",
   "metadata": {},
   "source": [
    "# Housing Dataset (Using PySparks)"
   ]
  },
  {
   "cell_type": "markdown",
   "metadata": {},
   "source": [
    "## Bronze -> Silver"
   ]
  },
  {
   "cell_type": "code",
   "execution_count": 1,
   "metadata": {},
   "outputs": [
    {
     "name": "stderr",
     "output_type": "stream",
     "text": [
      "24/10/04 21:23:59 WARN Utils: Your hostname, morokei resolves to a loopback address: 127.0.0.2; using 192.168.68.64 instead (on interface wlo1)\n",
      "24/10/04 21:23:59 WARN Utils: Set SPARK_LOCAL_IP if you need to bind to another address\n",
      "Setting default log level to \"WARN\".\n",
      "To adjust logging level use sc.setLogLevel(newLevel). For SparkR, use setLogLevel(newLevel).\n",
      "24/10/04 21:23:59 WARN NativeCodeLoader: Unable to load native-hadoop library for your platform... using builtin-java classes where applicable\n",
      "24/10/04 21:24:00 WARN Utils: Service 'SparkUI' could not bind on port 4040. Attempting port 4041.\n"
     ]
    }
   ],
   "source": [
    "from pyspark.sql import SparkSession\n",
    "from pprint import pprint\n",
    "import os\n",
    "os.environ[\"JAVA_HOME\"] = \"/nix/store/pj3ni0dwh1j63wxac3aj9jn61047c8ia-openjdk-headless-11.0.23+9/lib/openjdk\"\n",
    "\n",
    "# Initialize Spark Session\n",
    "spark = SparkSession.builder \\\n",
    "    .appName(\"HoustonHousingData\") \\\n",
    "    .config(\"spark.sql.debug.maxToStringFields\", 4000) \\\n",
    "    .getOrCreate()\n",
    "\n"
   ]
  },
  {
   "cell_type": "markdown",
   "metadata": {},
   "source": [
    "The dataset contains nested fields. Part of the transformations applied to make the silver dataset we need to flatten these out.\n",
    "\n",
    "There are various ways we can do this, but the most straightforward one is to use pandas to normalize the json file before using it with pyspark"
   ]
  },
  {
   "cell_type": "code",
   "execution_count": 2,
   "metadata": {},
   "outputs": [],
   "source": [
    "# Load the data with pandas and normalize it\n",
    "import pandas as pd\n",
    "bronze_df_pandas = pd.read_json(\"bronze/houston_housing market 2024_light.json\")"
   ]
  },
  {
   "cell_type": "code",
   "execution_count": 3,
   "metadata": {},
   "outputs": [
    {
     "name": "stdout",
     "output_type": "stream",
     "text": [
      "<class 'pandas.core.frame.DataFrame'>\n",
      "RangeIndex: 25948 entries, 0 to 25947\n",
      "Columns: 344 entries, zpid to carouselPhotos_213_url\n",
      "dtypes: bool(22), float64(45), int64(9), object(268)\n",
      "memory usage: 64.3+ MB\n"
     ]
    }
   ],
   "source": [
    "import pandas as pd\n",
    "\n",
    "# Function to flatten a nested JSON object\n",
    "def flatten_json(y):\n",
    "    out = {}\n",
    "\n",
    "    def flatten(x, name=''):\n",
    "        if isinstance(x, dict):\n",
    "            # If the value is a dictionary, recurse deeper\n",
    "            for a in x:\n",
    "                flatten(x[a], name + a + '_')\n",
    "        elif isinstance(x, list):\n",
    "            # If the value is a list, iterate and recurse\n",
    "            i = 0\n",
    "            for a in x:\n",
    "                flatten(a, name + str(i) + '_')\n",
    "                i += 1\n",
    "        else:\n",
    "            # If the value is a primitive (not a dict or list), add to output\n",
    "            out[name[:-1]] = x\n",
    "\n",
    "    flatten(y)\n",
    "    return out\n",
    "\n",
    "bronze_df_pandas_flattened = pd.DataFrame([flatten_json(row) for row in bronze_df_pandas.to_dict(orient=\"records\")])\n",
    "\n",
    "bronze_df_pandas_flattened.info()"
   ]
  },
  {
   "cell_type": "code",
   "execution_count": 7,
   "metadata": {},
   "outputs": [
    {
     "name": "stderr",
     "output_type": "stream",
     "text": [
      "/tmp/ipykernel_277185/3985251375.py:2: FutureWarning: errors='ignore' is deprecated and will raise in a future version. Use to_numeric without passing `errors` and catch exceptions explicitly instead\n",
      "  bronze_df_pandas_flattened[col] = pd.to_numeric(bronze_df_pandas_flattened[col], errors='ignore')\n"
     ]
    }
   ],
   "source": [
    "for col in bronze_df_pandas_flattened.columns:\n",
    "    bronze_df_pandas_flattened[col] = pd.to_numeric(bronze_df_pandas_flattened[col], errors='ignore')\n"
   ]
  },
  {
   "cell_type": "code",
   "execution_count": 8,
   "metadata": {},
   "outputs": [],
   "source": [
    "# Convert pandas DataFrame back to Spark DataFrame\n",
    "silver_df_spark = spark.createDataFrame(bronze_df_pandas_flattened)\n"
   ]
  },
  {
   "cell_type": "code",
   "execution_count": 9,
   "metadata": {},
   "outputs": [
    {
     "name": "stderr",
     "output_type": "stream",
     "text": [
      "24/10/04 21:37:30 WARN TaskSetManager: Stage 0 contains a task of very large size (10590 KiB). The maximum recommended task size is 1000 KiB.\n",
      "                                                                                \r"
     ]
    },
    {
     "name": "stdout",
     "output_type": "stream",
     "text": [
      "+---------+---------+---------------+---------------------------+--------------------+--------+--------------------+----------+--------------+---------------+--------+----------------+--------------------+--------------------+-----------+------------+--------------+--------------------+----+-----+------+----------------+-----------------+-------------+-----------------+-----------------+---------------------+------------------------------+------------------------+---------------------+----------------------+-------------------------+--------------------------+----------------------+--------------------------+-------------------------+---------------------------+-------------------------+---------------------------+-----------------------------+---------------------------+--------------------------------+--------------------------+------------------------------+-----------------------------------------+-----------------------------+----------------------------------------+---------------------------------+----------------------------+-----------------------------+-----------------------------------+---------------------------------+------------------------------+-------------------------+------------------------+---------------------------------+-----------------------------+----------------------------+----------------------------------+-------+-------------------+--------------------+-------+-----------------+---------+--------------------------+----------+--------+---------+-------------------------+-----------------+-----------------+----+-------+--------------------+--------------------+--------------------+--------------------+--------------------+--------------------+--------------------+--------------------+--------------------+--------------------+--------------------+---------------------+---------------------+---------------------+---------------------+---------------------+---------------------+---------------------+---------------------+---------------------+---------------------+---------------------+---------------------+---------------------+---------------------+---------------------+---------------------+---------------------+---------------------+---------------------+---------------------+---------------------+---------------------+---------------------+---------------------+---------------------+---------------------+---------------------+---------------------+---------------------+---------------------+---------------------+---------------------+---------------------+---------------------+---------------------+---------------------+---------------------+------------+-------------------+-------------------+--------------------+-------------+-----------------+-----------+-------------+---------------------+-------------------+-------------+-------------+-----------+-----------+-----------+----------------+---------------------------------+-------------------------------+----------------------------+---------------------+---------------------+---------------------+------------------------+-------------------------+----------------------------------------------+--------------------------+----------------------------------------------------------------------+--------------------------------------------------------------------+--------------------------------------------+----------------------------------+------------------------------------+---------------------+---------------------+---------------------+----------------------------------------------------------------------+--------------------------------------------------------------------+----------------------------------------------------------------------+--------------------------------------------------------------------+----------------------------------------------------------------------+--------------------------------------------------------------------+----------------------------------------------------------------------+--------------------------------------------------------------------+--------------+---------------------------+----------------------------+---------------------+----------------------------------------------+---------------------------+------------+----------------------------------------------------------------------+--------------------------------------------------------------------+----------------------------------------------------------------------+--------------------------------------------------------------------+----------------------------------------------------------------------+--------------------------------------------------------------------+---------------------+---------------------+---------------------+---------------------+---------------------+---------------------+---------------------+---------------------+---------------------+---------------------+---------------------+---------------------+---------------------+---------------------+---------------------+---------------------+---------------------+---------------------+---------------------+---------------------+---------------------+----------------------------------------------------------------------+--------------------------------------------------------------------+---------------------+---------------------+---------------------+---------------------+---------------------+---------------------+---------------------+---------------------+---------------------+---------------------+---------------------+---------------------+---------------------+---------------------+---------------------+---------------------+---------------------+---------------------+---------------------+---------------------+---------------------+---------------------+---------------------+---------------------+---------------------+---------------------+----------------------+----------------------+----------------------+----------------------+----------------------+----------------------+----------------------+----------------------+----------------------+----------------------+----------------------+----------------------+----------------------+----------------------+----------------------+----------------------+----------------------+----------------------+----------------------+----------------------+----------------------+----------------------+----------------------+----------------------+----------------------+----------------------+----------------------+----------------------+----------------------+----------------------+----------------------+----------------------+----------------------+----------------------+----------------------+----------------------------------------------------------------------+--------------------------------------------------------------------+----------------------+----------------------+----------------------+----------------------+----------------------+----------------------+----------------------+----------------------+----------------------+----------------------+----------------------+----------------------+----------------------+----------------------+----------------------+----------------------+----------------------+----------------------+----------------------+----------------------+----------------------+----------------------+----------------------+----------------------+----------------------+----------------------+----------------------+----------------------+----------------------+----------------------+----------------------+----------------------+----------------------+----------------------+----------------------+----------------------+----------------------+----------------------+----------------------+----------------------+----------------------+----------------------+----------------------+----------------------+----------------------+----------------------+----------------------+----------------------+----------------------+----------------------+----------------------+----------------------+----------------------+----------------------+----------------------+----------------------+----------------------+----------------------+----------------------+----------------------+----------------------+----------------------+--------------------------------------+-----------------------------------------------+----------------------+----------------------+----------------------+----------------------+----------------------+----------------------+----------------------+----------------------+----------------------+----------------------+----------------------+----------------------+----------------------+----------------------+----------------------+----------------------+----------------------+\n",
      "|     zpid|       id|rawHomeStatusCd|marketingStatusSimplifiedCd|              imgSrc|hasImage|           detailUrl|statusType|    statusText|countryCurrency|   price|unformattedPrice|             address|       addressStreet|addressCity|addressState|addressZipcode|isUndisclosedAddress|beds|baths|  area|latLong_latitude|latLong_longitude|isZillowOwned|variableData_type|variableData_text|hdpData_homeInfo_zpid|hdpData_homeInfo_streetAddress|hdpData_homeInfo_zipcode|hdpData_homeInfo_city|hdpData_homeInfo_state|hdpData_homeInfo_latitude|hdpData_homeInfo_longitude|hdpData_homeInfo_price|hdpData_homeInfo_bathrooms|hdpData_homeInfo_bedrooms|hdpData_homeInfo_livingArea|hdpData_homeInfo_homeType|hdpData_homeInfo_homeStatus|hdpData_homeInfo_daysOnZillow|hdpData_homeInfo_isFeatured|hdpData_homeInfo_shouldHighlight|hdpData_homeInfo_zestimate|hdpData_homeInfo_rentZestimate|hdpData_homeInfo_listing_sub_type_is_FSBA|hdpData_homeInfo_isUnmappable|hdpData_homeInfo_isPreforeclosureAuction|hdpData_homeInfo_homeStatusForHDP|hdpData_homeInfo_priceForHDP|hdpData_homeInfo_timeOnZillow|hdpData_homeInfo_isNonOwnerOccupied|hdpData_homeInfo_isPremierBuilder|hdpData_homeInfo_isZillowOwned|hdpData_homeInfo_currency|hdpData_homeInfo_country|hdpData_homeInfo_taxAssessedValue|hdpData_homeInfo_lotAreaValue|hdpData_homeInfo_lotAreaUnit|hdpData_homeInfo_isShowcaseListing|isSaved|isUserClaimingOwner|isUserConfirmedClaim|  pgapt|            sgapt|zestimate|shouldShowZestimateAsPrice|has3DModel|hasVideo|isHomeRec|hasAdditionalAttributions|isFeaturedListing|isShowcaseListing|list|relaxed|          brokerName|carouselPhotos_0_url|carouselPhotos_1_url|carouselPhotos_2_url|carouselPhotos_3_url|carouselPhotos_4_url|carouselPhotos_5_url|carouselPhotos_6_url|carouselPhotos_7_url|carouselPhotos_8_url|carouselPhotos_9_url|carouselPhotos_10_url|carouselPhotos_11_url|carouselPhotos_12_url|carouselPhotos_13_url|carouselPhotos_14_url|carouselPhotos_15_url|carouselPhotos_16_url|carouselPhotos_17_url|carouselPhotos_18_url|carouselPhotos_19_url|carouselPhotos_20_url|carouselPhotos_21_url|carouselPhotos_22_url|carouselPhotos_23_url|carouselPhotos_24_url|carouselPhotos_25_url|carouselPhotos_26_url|carouselPhotos_27_url|carouselPhotos_28_url|carouselPhotos_29_url|carouselPhotos_30_url|carouselPhotos_31_url|carouselPhotos_32_url|carouselPhotos_33_url|carouselPhotos_34_url|carouselPhotos_35_url|carouselPhotos_36_url|carouselPhotos_37_url|carouselPhotos_38_url|carouselPhotos_39_url|carouselPhotos_40_url|carouselPhotos_41_url|carouselPhotos_42_url|carouselPhotos_43_url|carouselPhotos_44_url|carouselPhotos_45_url|carouselPhotos_46_url|hasOpenHouse| openHouseStartDate|   openHouseEndDate|openHouseDescription|lotAreaString|providerListingId|builderName|streetViewURL|streetViewMetadataURL|isPropertyResultCDP|flexFieldText|flexFieldType|info3String|info6String|info2String|availabilityDate|hdpData_homeInfo_datePriceChanged|hdpData_homeInfo_priceReduction|hdpData_homeInfo_priceChange|carouselPhotos_47_url|carouselPhotos_48_url|carouselPhotos_49_url|variableData_data_isRead|variableData_data_isFresh|hdpData_homeInfo_listing_sub_type_is_openHouse|hdpData_homeInfo_openHouse|hdpData_homeInfo_open_house_info_open_house_showing_0_open_house_start|hdpData_homeInfo_open_house_info_open_house_showing_0_open_house_end|hdpData_homeInfo_listing_sub_type_is_newHome|hdpData_homeInfo_providerListingID|hdpData_homeInfo_newConstructionType|carouselPhotos_50_url|carouselPhotos_51_url|carouselPhotos_52_url|hdpData_homeInfo_open_house_info_open_house_showing_1_open_house_start|hdpData_homeInfo_open_house_info_open_house_showing_1_open_house_end|hdpData_homeInfo_open_house_info_open_house_showing_2_open_house_start|hdpData_homeInfo_open_house_info_open_house_showing_2_open_house_end|hdpData_homeInfo_open_house_info_open_house_showing_3_open_house_start|hdpData_homeInfo_open_house_info_open_house_showing_3_open_house_end|hdpData_homeInfo_open_house_info_open_house_showing_4_open_house_start|hdpData_homeInfo_open_house_info_open_house_showing_4_open_house_end|carouselPhotos|hdpData_homeInfo_group_type|hdpData_homeInfo_priceSuffix|hdpData_homeInfo_unit|hdpData_homeInfo_listing_sub_type_is_bankOwned|hdpData_homeInfo_videoCount|variableData|hdpData_homeInfo_open_house_info_open_house_showing_5_open_house_start|hdpData_homeInfo_open_house_info_open_house_showing_5_open_house_end|hdpData_homeInfo_open_house_info_open_house_showing_6_open_house_start|hdpData_homeInfo_open_house_info_open_house_showing_6_open_house_end|hdpData_homeInfo_open_house_info_open_house_showing_7_open_house_start|hdpData_homeInfo_open_house_info_open_house_showing_7_open_house_end|carouselPhotos_53_url|carouselPhotos_54_url|carouselPhotos_55_url|carouselPhotos_56_url|carouselPhotos_57_url|carouselPhotos_58_url|carouselPhotos_59_url|carouselPhotos_60_url|carouselPhotos_61_url|carouselPhotos_62_url|carouselPhotos_63_url|carouselPhotos_64_url|carouselPhotos_65_url|carouselPhotos_66_url|carouselPhotos_67_url|carouselPhotos_68_url|carouselPhotos_69_url|carouselPhotos_70_url|carouselPhotos_71_url|carouselPhotos_72_url|carouselPhotos_73_url|hdpData_homeInfo_open_house_info_open_house_showing_8_open_house_start|hdpData_homeInfo_open_house_info_open_house_showing_8_open_house_end|carouselPhotos_74_url|carouselPhotos_75_url|carouselPhotos_76_url|carouselPhotos_77_url|carouselPhotos_78_url|carouselPhotos_79_url|carouselPhotos_80_url|carouselPhotos_81_url|carouselPhotos_82_url|carouselPhotos_83_url|carouselPhotos_84_url|carouselPhotos_85_url|carouselPhotos_86_url|carouselPhotos_87_url|carouselPhotos_88_url|carouselPhotos_89_url|carouselPhotos_90_url|carouselPhotos_91_url|carouselPhotos_92_url|carouselPhotos_93_url|carouselPhotos_94_url|carouselPhotos_95_url|carouselPhotos_96_url|carouselPhotos_97_url|carouselPhotos_98_url|carouselPhotos_99_url|carouselPhotos_100_url|carouselPhotos_101_url|carouselPhotos_102_url|carouselPhotos_103_url|carouselPhotos_104_url|carouselPhotos_105_url|carouselPhotos_106_url|carouselPhotos_107_url|carouselPhotos_108_url|carouselPhotos_109_url|carouselPhotos_110_url|carouselPhotos_111_url|carouselPhotos_112_url|carouselPhotos_113_url|carouselPhotos_114_url|carouselPhotos_115_url|carouselPhotos_116_url|carouselPhotos_117_url|carouselPhotos_118_url|carouselPhotos_119_url|carouselPhotos_120_url|carouselPhotos_121_url|carouselPhotos_122_url|carouselPhotos_123_url|carouselPhotos_124_url|carouselPhotos_125_url|carouselPhotos_126_url|carouselPhotos_127_url|carouselPhotos_128_url|carouselPhotos_129_url|carouselPhotos_130_url|carouselPhotos_131_url|carouselPhotos_132_url|carouselPhotos_133_url|carouselPhotos_134_url|hdpData_homeInfo_open_house_info_open_house_showing_9_open_house_start|hdpData_homeInfo_open_house_info_open_house_showing_9_open_house_end|carouselPhotos_135_url|carouselPhotos_136_url|carouselPhotos_137_url|carouselPhotos_138_url|carouselPhotos_139_url|carouselPhotos_140_url|carouselPhotos_141_url|carouselPhotos_142_url|carouselPhotos_143_url|carouselPhotos_144_url|carouselPhotos_145_url|carouselPhotos_146_url|carouselPhotos_147_url|carouselPhotos_148_url|carouselPhotos_149_url|carouselPhotos_150_url|carouselPhotos_151_url|carouselPhotos_152_url|carouselPhotos_153_url|carouselPhotos_154_url|carouselPhotos_155_url|carouselPhotos_156_url|carouselPhotos_157_url|carouselPhotos_158_url|carouselPhotos_159_url|carouselPhotos_160_url|carouselPhotos_161_url|carouselPhotos_162_url|carouselPhotos_163_url|carouselPhotos_164_url|carouselPhotos_165_url|carouselPhotos_166_url|carouselPhotos_167_url|carouselPhotos_168_url|carouselPhotos_169_url|carouselPhotos_170_url|carouselPhotos_171_url|carouselPhotos_172_url|carouselPhotos_173_url|carouselPhotos_174_url|carouselPhotos_175_url|carouselPhotos_176_url|carouselPhotos_177_url|carouselPhotos_178_url|carouselPhotos_179_url|carouselPhotos_180_url|carouselPhotos_181_url|carouselPhotos_182_url|carouselPhotos_183_url|carouselPhotos_184_url|carouselPhotos_185_url|carouselPhotos_186_url|carouselPhotos_187_url|carouselPhotos_188_url|carouselPhotos_189_url|carouselPhotos_190_url|carouselPhotos_191_url|carouselPhotos_192_url|carouselPhotos_193_url|carouselPhotos_194_url|carouselPhotos_195_url|carouselPhotos_196_url|hdpData_homeInfo_isRentalWithBasePrice|hdpData_homeInfo_listing_sub_type_is_forAuction|carouselPhotos_197_url|carouselPhotos_198_url|carouselPhotos_199_url|carouselPhotos_200_url|carouselPhotos_201_url|carouselPhotos_202_url|carouselPhotos_203_url|carouselPhotos_204_url|carouselPhotos_205_url|carouselPhotos_206_url|carouselPhotos_207_url|carouselPhotos_208_url|carouselPhotos_209_url|carouselPhotos_210_url|carouselPhotos_211_url|carouselPhotos_212_url|carouselPhotos_213_url|\n",
      "+---------+---------+---------------+---------------------------+--------------------+--------+--------------------+----------+--------------+---------------+--------+----------------+--------------------+--------------------+-----------+------------+--------------+--------------------+----+-----+------+----------------+-----------------+-------------+-----------------+-----------------+---------------------+------------------------------+------------------------+---------------------+----------------------+-------------------------+--------------------------+----------------------+--------------------------+-------------------------+---------------------------+-------------------------+---------------------------+-----------------------------+---------------------------+--------------------------------+--------------------------+------------------------------+-----------------------------------------+-----------------------------+----------------------------------------+---------------------------------+----------------------------+-----------------------------+-----------------------------------+---------------------------------+------------------------------+-------------------------+------------------------+---------------------------------+-----------------------------+----------------------------+----------------------------------+-------+-------------------+--------------------+-------+-----------------+---------+--------------------------+----------+--------+---------+-------------------------+-----------------+-----------------+----+-------+--------------------+--------------------+--------------------+--------------------+--------------------+--------------------+--------------------+--------------------+--------------------+--------------------+--------------------+---------------------+---------------------+---------------------+---------------------+---------------------+---------------------+---------------------+---------------------+---------------------+---------------------+---------------------+---------------------+---------------------+---------------------+---------------------+---------------------+---------------------+---------------------+---------------------+---------------------+---------------------+---------------------+---------------------+---------------------+---------------------+---------------------+---------------------+---------------------+---------------------+---------------------+---------------------+---------------------+---------------------+---------------------+---------------------+---------------------+---------------------+------------+-------------------+-------------------+--------------------+-------------+-----------------+-----------+-------------+---------------------+-------------------+-------------+-------------+-----------+-----------+-----------+----------------+---------------------------------+-------------------------------+----------------------------+---------------------+---------------------+---------------------+------------------------+-------------------------+----------------------------------------------+--------------------------+----------------------------------------------------------------------+--------------------------------------------------------------------+--------------------------------------------+----------------------------------+------------------------------------+---------------------+---------------------+---------------------+----------------------------------------------------------------------+--------------------------------------------------------------------+----------------------------------------------------------------------+--------------------------------------------------------------------+----------------------------------------------------------------------+--------------------------------------------------------------------+----------------------------------------------------------------------+--------------------------------------------------------------------+--------------+---------------------------+----------------------------+---------------------+----------------------------------------------+---------------------------+------------+----------------------------------------------------------------------+--------------------------------------------------------------------+----------------------------------------------------------------------+--------------------------------------------------------------------+----------------------------------------------------------------------+--------------------------------------------------------------------+---------------------+---------------------+---------------------+---------------------+---------------------+---------------------+---------------------+---------------------+---------------------+---------------------+---------------------+---------------------+---------------------+---------------------+---------------------+---------------------+---------------------+---------------------+---------------------+---------------------+---------------------+----------------------------------------------------------------------+--------------------------------------------------------------------+---------------------+---------------------+---------------------+---------------------+---------------------+---------------------+---------------------+---------------------+---------------------+---------------------+---------------------+---------------------+---------------------+---------------------+---------------------+---------------------+---------------------+---------------------+---------------------+---------------------+---------------------+---------------------+---------------------+---------------------+---------------------+---------------------+----------------------+----------------------+----------------------+----------------------+----------------------+----------------------+----------------------+----------------------+----------------------+----------------------+----------------------+----------------------+----------------------+----------------------+----------------------+----------------------+----------------------+----------------------+----------------------+----------------------+----------------------+----------------------+----------------------+----------------------+----------------------+----------------------+----------------------+----------------------+----------------------+----------------------+----------------------+----------------------+----------------------+----------------------+----------------------+----------------------------------------------------------------------+--------------------------------------------------------------------+----------------------+----------------------+----------------------+----------------------+----------------------+----------------------+----------------------+----------------------+----------------------+----------------------+----------------------+----------------------+----------------------+----------------------+----------------------+----------------------+----------------------+----------------------+----------------------+----------------------+----------------------+----------------------+----------------------+----------------------+----------------------+----------------------+----------------------+----------------------+----------------------+----------------------+----------------------+----------------------+----------------------+----------------------+----------------------+----------------------+----------------------+----------------------+----------------------+----------------------+----------------------+----------------------+----------------------+----------------------+----------------------+----------------------+----------------------+----------------------+----------------------+----------------------+----------------------+----------------------+----------------------+----------------------+----------------------+----------------------+----------------------+----------------------+----------------------+----------------------+----------------------+----------------------+--------------------------------------+-----------------------------------------------+----------------------+----------------------+----------------------+----------------------+----------------------+----------------------+----------------------+----------------------+----------------------+----------------------+----------------------+----------------------+----------------------+----------------------+----------------------+----------------------+----------------------+\n",
      "|305340899|305340899|        ForSale|          For Sale by Agent|https://photos.zi...|     1.0|https://www.zillo...|  FOR_SALE|House for sale|              $|$450,000|          450000|13234 Vallentine ...|13234 Vallentine ...|    Houston|          TX|         77044|               false| 4.0|  3.0|1943.0|       29.865578|        -95.19615|        false|          DAYS_ON|18 days on Zillow|            305340899|          13234 Vallentine ...|                   77044|              Houston|                    TX|                29.865578|                 -95.19615|                450000|                       3.0|                      4.0|                     1943.0|            SINGLE_FAMILY|                   FOR_SALE|                           18|                      false|                           false|                  439700.0|                        2099.0|                                      1.0|                        false|                                   false|                         FOR_SALE|                      450000|                   1600524000|                               true|                            false|                         false|                      USD|                     USA|                         244880.0|                     6769.224|                        sqft|                             false|  false|              false|               false|ForSale|For Sale (Broker)| 439700.0|                     false|     false|   false|    false|                     true|            false|            false|true|  false|   Realty Associates|https://photos.zi...|https://photos.zi...|https://photos.zi...|https://photos.zi...|https://photos.zi...|https://photos.zi...|https://photos.zi...|https://photos.zi...|https://photos.zi...|https://photos.zi...| https://photos.zi...| https://photos.zi...| https://photos.zi...| https://photos.zi...| https://photos.zi...| https://photos.zi...| https://photos.zi...| https://photos.zi...| https://photos.zi...| https://photos.zi...| https://photos.zi...| https://photos.zi...| https://photos.zi...| https://photos.zi...| https://photos.zi...| https://photos.zi...| https://photos.zi...| https://photos.zi...| https://photos.zi...| https://photos.zi...| https://photos.zi...| https://photos.zi...| https://photos.zi...| https://photos.zi...| https://photos.zi...| https://photos.zi...| https://photos.zi...| https://photos.zi...| https://photos.zi...| https://photos.zi...| https://photos.zi...| https://photos.zi...| https://photos.zi...| https://photos.zi...| https://photos.zi...| https://photos.zi...| https://photos.zi...|         NaN|                NaN|                NaN|                 NaN|          NaN|              NaN|        NaN|          NaN|                  NaN|                NaN|          NaN|          NaN|        NaN|        NaN|        NaN|             NaN|                              NaN|                            NaN|                         NaN|                  NaN|                  NaN|                  NaN|                     NaN|                      NaN|                                           NaN|                       NaN|                                                                   NaN|                                                                 NaN|                                         NaN|                               NaN|                                 NaN|                  NaN|                  NaN|                  NaN|                                                                   NaN|                                                                 NaN|                                                                   NaN|                                                                 NaN|                                                                   NaN|                                                                 NaN|                                                                   NaN|                                                                 NaN|           NaN|                        NaN|                         NaN|                  NaN|                                           NaN|                        NaN|         NaN|                                                                   NaN|                                                                 NaN|                                                                   NaN|                                                                 NaN|                                                                   NaN|                                                                 NaN|                  NaN|                  NaN|                  NaN|                  NaN|                  NaN|                  NaN|                  NaN|                  NaN|                  NaN|                  NaN|                  NaN|                  NaN|                  NaN|                  NaN|                  NaN|                  NaN|                  NaN|                  NaN|                  NaN|                  NaN|                  NaN|                                                                   NaN|                                                                 NaN|                  NaN|                  NaN|                  NaN|                  NaN|                  NaN|                  NaN|                  NaN|                  NaN|                  NaN|                  NaN|                  NaN|                  NaN|                  NaN|                  NaN|                  NaN|                  NaN|                  NaN|                  NaN|                  NaN|                  NaN|                  NaN|                  NaN|                  NaN|                  NaN|                  NaN|                  NaN|                   NaN|                   NaN|                   NaN|                   NaN|                   NaN|                   NaN|                   NaN|                   NaN|                   NaN|                   NaN|                   NaN|                   NaN|                   NaN|                   NaN|                   NaN|                   NaN|                   NaN|                   NaN|                   NaN|                   NaN|                   NaN|                   NaN|                   NaN|                   NaN|                   NaN|                   NaN|                   NaN|                   NaN|                   NaN|                   NaN|                   NaN|                   NaN|                   NaN|                   NaN|                   NaN|                                                                   NaN|                                                                 NaN|                   NaN|                   NaN|                   NaN|                   NaN|                   NaN|                   NaN|                   NaN|                   NaN|                   NaN|                   NaN|                   NaN|                   NaN|                   NaN|                   NaN|                   NaN|                   NaN|                   NaN|                   NaN|                   NaN|                   NaN|                   NaN|                   NaN|                   NaN|                   NaN|                   NaN|                   NaN|                   NaN|                   NaN|                   NaN|                   NaN|                   NaN|                   NaN|                   NaN|                   NaN|                   NaN|                   NaN|                   NaN|                   NaN|                   NaN|                   NaN|                   NaN|                   NaN|                   NaN|                   NaN|                   NaN|                   NaN|                   NaN|                   NaN|                   NaN|                   NaN|                   NaN|                   NaN|                   NaN|                   NaN|                   NaN|                   NaN|                   NaN|                   NaN|                   NaN|                   NaN|                   NaN|                   NaN|                                   NaN|                                            NaN|                   NaN|                   NaN|                   NaN|                   NaN|                   NaN|                   NaN|                   NaN|                   NaN|                   NaN|                   NaN|                   NaN|                   NaN|                   NaN|                   NaN|                   NaN|                   NaN|                   NaN|\n",
      "|160934721|160934721|        ForSale|          For Sale by Agent|https://photos.zi...|     1.0|https://www.zillo...|  FOR_SALE|House for sale|              $|$285,000|          285000|12235 Greencanyon...|12235 Greencanyon Dr|    Houston|          TX|         77044|               false| 4.0|  4.0|2638.0|       29.894386|        -95.21654|        false|          DAYS_ON|76 days on Zillow|            160934721|          12235 Greencanyon Dr|                   77044|              Houston|                    TX|                29.894386|                 -95.21654|                285000|                       4.0|                      4.0|                     2638.0|            SINGLE_FAMILY|                   FOR_SALE|                           76|                      false|                           false|                  275900.0|                        2749.0|                                      1.0|                        false|                                   false|                         FOR_SALE|                      285000|                   6631344000|                               true|                            false|                         false|                      USD|                     USA|                         409661.0|                     6181.164|                        sqft|                             false|  false|              false|               false|ForSale|For Sale (Broker)| 275900.0|                     false|     false|   false|    false|                     true|            false|            false|true|  false|Circa Real Estate...|https://photos.zi...|https://photos.zi...|https://photos.zi...|https://photos.zi...|https://photos.zi...|https://photos.zi...|https://photos.zi...|https://photos.zi...|https://photos.zi...|https://photos.zi...| https://photos.zi...| https://photos.zi...| https://photos.zi...| https://photos.zi...| https://photos.zi...| https://photos.zi...|                  NaN|                  NaN|                  NaN|                  NaN|                  NaN|                  NaN|                  NaN|                  NaN|                  NaN|                  NaN|                  NaN|                  NaN|                  NaN|                  NaN|                  NaN|                  NaN|                  NaN|                  NaN|                  NaN|                  NaN|                  NaN|                  NaN|                  NaN|                  NaN|                  NaN|                  NaN|                  NaN|                  NaN|                  NaN|                  NaN|                  NaN|         NaN|                NaN|                NaN|                 NaN|          NaN|              NaN|        NaN|          NaN|                  NaN|                NaN|          NaN|          NaN|        NaN|        NaN|        NaN|             NaN|                              NaN|                            NaN|                         NaN|                  NaN|                  NaN|                  NaN|                     NaN|                      NaN|                                           NaN|                       NaN|                                                                   NaN|                                                                 NaN|                                         NaN|                               NaN|                                 NaN|                  NaN|                  NaN|                  NaN|                                                                   NaN|                                                                 NaN|                                                                   NaN|                                                                 NaN|                                                                   NaN|                                                                 NaN|                                                                   NaN|                                                                 NaN|           NaN|                        NaN|                         NaN|                  NaN|                                           NaN|                        NaN|         NaN|                                                                   NaN|                                                                 NaN|                                                                   NaN|                                                                 NaN|                                                                   NaN|                                                                 NaN|                  NaN|                  NaN|                  NaN|                  NaN|                  NaN|                  NaN|                  NaN|                  NaN|                  NaN|                  NaN|                  NaN|                  NaN|                  NaN|                  NaN|                  NaN|                  NaN|                  NaN|                  NaN|                  NaN|                  NaN|                  NaN|                                                                   NaN|                                                                 NaN|                  NaN|                  NaN|                  NaN|                  NaN|                  NaN|                  NaN|                  NaN|                  NaN|                  NaN|                  NaN|                  NaN|                  NaN|                  NaN|                  NaN|                  NaN|                  NaN|                  NaN|                  NaN|                  NaN|                  NaN|                  NaN|                  NaN|                  NaN|                  NaN|                  NaN|                  NaN|                   NaN|                   NaN|                   NaN|                   NaN|                   NaN|                   NaN|                   NaN|                   NaN|                   NaN|                   NaN|                   NaN|                   NaN|                   NaN|                   NaN|                   NaN|                   NaN|                   NaN|                   NaN|                   NaN|                   NaN|                   NaN|                   NaN|                   NaN|                   NaN|                   NaN|                   NaN|                   NaN|                   NaN|                   NaN|                   NaN|                   NaN|                   NaN|                   NaN|                   NaN|                   NaN|                                                                   NaN|                                                                 NaN|                   NaN|                   NaN|                   NaN|                   NaN|                   NaN|                   NaN|                   NaN|                   NaN|                   NaN|                   NaN|                   NaN|                   NaN|                   NaN|                   NaN|                   NaN|                   NaN|                   NaN|                   NaN|                   NaN|                   NaN|                   NaN|                   NaN|                   NaN|                   NaN|                   NaN|                   NaN|                   NaN|                   NaN|                   NaN|                   NaN|                   NaN|                   NaN|                   NaN|                   NaN|                   NaN|                   NaN|                   NaN|                   NaN|                   NaN|                   NaN|                   NaN|                   NaN|                   NaN|                   NaN|                   NaN|                   NaN|                   NaN|                   NaN|                   NaN|                   NaN|                   NaN|                   NaN|                   NaN|                   NaN|                   NaN|                   NaN|                   NaN|                   NaN|                   NaN|                   NaN|                   NaN|                   NaN|                                   NaN|                                            NaN|                   NaN|                   NaN|                   NaN|                   NaN|                   NaN|                   NaN|                   NaN|                   NaN|                   NaN|                   NaN|                   NaN|                   NaN|                   NaN|                   NaN|                   NaN|                   NaN|                   NaN|\n",
      "|121106557|121106557|        ForSale|          For Sale by Agent|https://photos.zi...|     1.0|https://www.zillo...|  FOR_SALE|House for sale|              $|$554,000|          554000|13807 Bend Rock W...| 13807 Bend Rock Way|    Houston|          TX|         77044|               false| 5.0|  4.0|3804.0|        29.96752|        -95.15717|        false|  PRICE_REDUCTION| $23,000 (May 25)|            121106557|           13807 Bend Rock Way|                   77044|              Houston|                    TX|                 29.96752|                 -95.15717|                554000|                       4.0|                      5.0|                     3804.0|            SINGLE_FAMILY|                   FOR_SALE|                          119|                      false|                           false|                  531300.0|                        4200.0|                                      1.0|                        false|                                   false|                         FOR_SALE|                      554000|                  10335081000|                               true|                            false|                         false|                      USD|                     USA|                         551517.0|                        0.406|                       acres|                             false|  false|              false|               false|ForSale|For Sale (Broker)| 531300.0|                     false|     false|   false|    false|                     true|            false|            false|true|  false|          JLA Realty|https://photos.zi...|https://photos.zi...|https://photos.zi...|https://photos.zi...|https://photos.zi...|https://photos.zi...|https://photos.zi...|https://photos.zi...|https://photos.zi...|https://photos.zi...| https://photos.zi...| https://photos.zi...| https://photos.zi...| https://photos.zi...| https://photos.zi...| https://photos.zi...| https://photos.zi...| https://photos.zi...| https://photos.zi...| https://photos.zi...| https://photos.zi...| https://photos.zi...| https://photos.zi...| https://photos.zi...| https://photos.zi...| https://photos.zi...| https://photos.zi...| https://photos.zi...| https://photos.zi...| https://photos.zi...| https://photos.zi...| https://photos.zi...| https://photos.zi...| https://photos.zi...| https://photos.zi...| https://photos.zi...| https://photos.zi...| https://photos.zi...| https://photos.zi...| https://photos.zi...| https://photos.zi...| https://photos.zi...| https://photos.zi...| https://photos.zi...| https://photos.zi...| https://photos.zi...| https://photos.zi...|         NaN|                NaN|                NaN|                 NaN|          NaN|              NaN|        NaN|          NaN|                  NaN|                NaN|          NaN|          NaN|        NaN|        NaN|        NaN|             NaN|                     1.7166204E12|               $23,000 (May 25)|                    -23000.0| https://photos.zi...| https://photos.zi...| https://photos.zi...|                     NaN|                      NaN|                                           NaN|                       NaN|                                                                   NaN|                                                                 NaN|                                         NaN|                               NaN|                                 NaN|                  NaN|                  NaN|                  NaN|                                                                   NaN|                                                                 NaN|                                                                   NaN|                                                                 NaN|                                                                   NaN|                                                                 NaN|                                                                   NaN|                                                                 NaN|           NaN|                        NaN|                         NaN|                  NaN|                                           NaN|                        NaN|         NaN|                                                                   NaN|                                                                 NaN|                                                                   NaN|                                                                 NaN|                                                                   NaN|                                                                 NaN|                  NaN|                  NaN|                  NaN|                  NaN|                  NaN|                  NaN|                  NaN|                  NaN|                  NaN|                  NaN|                  NaN|                  NaN|                  NaN|                  NaN|                  NaN|                  NaN|                  NaN|                  NaN|                  NaN|                  NaN|                  NaN|                                                                   NaN|                                                                 NaN|                  NaN|                  NaN|                  NaN|                  NaN|                  NaN|                  NaN|                  NaN|                  NaN|                  NaN|                  NaN|                  NaN|                  NaN|                  NaN|                  NaN|                  NaN|                  NaN|                  NaN|                  NaN|                  NaN|                  NaN|                  NaN|                  NaN|                  NaN|                  NaN|                  NaN|                  NaN|                   NaN|                   NaN|                   NaN|                   NaN|                   NaN|                   NaN|                   NaN|                   NaN|                   NaN|                   NaN|                   NaN|                   NaN|                   NaN|                   NaN|                   NaN|                   NaN|                   NaN|                   NaN|                   NaN|                   NaN|                   NaN|                   NaN|                   NaN|                   NaN|                   NaN|                   NaN|                   NaN|                   NaN|                   NaN|                   NaN|                   NaN|                   NaN|                   NaN|                   NaN|                   NaN|                                                                   NaN|                                                                 NaN|                   NaN|                   NaN|                   NaN|                   NaN|                   NaN|                   NaN|                   NaN|                   NaN|                   NaN|                   NaN|                   NaN|                   NaN|                   NaN|                   NaN|                   NaN|                   NaN|                   NaN|                   NaN|                   NaN|                   NaN|                   NaN|                   NaN|                   NaN|                   NaN|                   NaN|                   NaN|                   NaN|                   NaN|                   NaN|                   NaN|                   NaN|                   NaN|                   NaN|                   NaN|                   NaN|                   NaN|                   NaN|                   NaN|                   NaN|                   NaN|                   NaN|                   NaN|                   NaN|                   NaN|                   NaN|                   NaN|                   NaN|                   NaN|                   NaN|                   NaN|                   NaN|                   NaN|                   NaN|                   NaN|                   NaN|                   NaN|                   NaN|                   NaN|                   NaN|                   NaN|                   NaN|                   NaN|                                   NaN|                                            NaN|                   NaN|                   NaN|                   NaN|                   NaN|                   NaN|                   NaN|                   NaN|                   NaN|                   NaN|                   NaN|                   NaN|                   NaN|                   NaN|                   NaN|                   NaN|                   NaN|                   NaN|\n",
      "| 28549516| 28549516|        ForSale|          For Sale by Agent|https://photos.zi...|     1.0|https://www.zillo...|  FOR_SALE|House for sale|              $|$498,000|          498000|14606 Kings Head ...| 14606 Kings Head Dr|    Houston|          TX|         77044|               false| 5.0|  3.0|3042.0|        29.93202|       -95.185394|        false|     TIME_ON_INFO|     12 hours ago|             28549516|           14606 Kings Head Dr|                   77044|              Houston|                    TX|                 29.93202|                -95.185394|                498000|                       3.0|                      5.0|                     3042.0|            SINGLE_FAMILY|                   FOR_SALE|                            0|                      false|                           false|                  498000.0|                        2998.0|                                      1.0|                        false|                                   false|                         FOR_SALE|                      498000|                     44178000|                               true|                            false|                         false|                      USD|                     USA|                         363851.0|                      7993.26|                        sqft|                             false|  false|              false|               false|ForSale|For Sale (Broker)| 498000.0|                     false|     false|   false|    false|                     true|            false|            false|true|  false|Compass RE Texas,...|https://photos.zi...|https://photos.zi...|https://photos.zi...|https://photos.zi...|https://photos.zi...|https://photos.zi...|https://photos.zi...|https://photos.zi...|https://photos.zi...|https://photos.zi...| https://photos.zi...| https://photos.zi...| https://photos.zi...| https://photos.zi...| https://photos.zi...| https://photos.zi...| https://photos.zi...| https://photos.zi...| https://photos.zi...| https://photos.zi...| https://photos.zi...| https://photos.zi...| https://photos.zi...| https://photos.zi...| https://photos.zi...| https://photos.zi...| https://photos.zi...| https://photos.zi...| https://photos.zi...| https://photos.zi...| https://photos.zi...| https://photos.zi...| https://photos.zi...| https://photos.zi...| https://photos.zi...| https://photos.zi...| https://photos.zi...| https://photos.zi...| https://photos.zi...| https://photos.zi...| https://photos.zi...| https://photos.zi...| https://photos.zi...| https://photos.zi...| https://photos.zi...| https://photos.zi...| https://photos.zi...|         NaN|                NaN|                NaN|                 NaN|          NaN|              NaN|        NaN|          NaN|                  NaN|                NaN|          NaN|          NaN|        NaN|        NaN|        NaN|             NaN|                              NaN|                            NaN|                         NaN| https://photos.zi...| https://photos.zi...| https://photos.zi...|                     NaN|                      0.0|                                           NaN|                       NaN|                                                                   NaN|                                                                 NaN|                                         NaN|                               NaN|                                 NaN|                  NaN|                  NaN|                  NaN|                                                                   NaN|                                                                 NaN|                                                                   NaN|                                                                 NaN|                                                                   NaN|                                                                 NaN|                                                                   NaN|                                                                 NaN|           NaN|                        NaN|                         NaN|                  NaN|                                           NaN|                        NaN|         NaN|                                                                   NaN|                                                                 NaN|                                                                   NaN|                                                                 NaN|                                                                   NaN|                                                                 NaN|                  NaN|                  NaN|                  NaN|                  NaN|                  NaN|                  NaN|                  NaN|                  NaN|                  NaN|                  NaN|                  NaN|                  NaN|                  NaN|                  NaN|                  NaN|                  NaN|                  NaN|                  NaN|                  NaN|                  NaN|                  NaN|                                                                   NaN|                                                                 NaN|                  NaN|                  NaN|                  NaN|                  NaN|                  NaN|                  NaN|                  NaN|                  NaN|                  NaN|                  NaN|                  NaN|                  NaN|                  NaN|                  NaN|                  NaN|                  NaN|                  NaN|                  NaN|                  NaN|                  NaN|                  NaN|                  NaN|                  NaN|                  NaN|                  NaN|                  NaN|                   NaN|                   NaN|                   NaN|                   NaN|                   NaN|                   NaN|                   NaN|                   NaN|                   NaN|                   NaN|                   NaN|                   NaN|                   NaN|                   NaN|                   NaN|                   NaN|                   NaN|                   NaN|                   NaN|                   NaN|                   NaN|                   NaN|                   NaN|                   NaN|                   NaN|                   NaN|                   NaN|                   NaN|                   NaN|                   NaN|                   NaN|                   NaN|                   NaN|                   NaN|                   NaN|                                                                   NaN|                                                                 NaN|                   NaN|                   NaN|                   NaN|                   NaN|                   NaN|                   NaN|                   NaN|                   NaN|                   NaN|                   NaN|                   NaN|                   NaN|                   NaN|                   NaN|                   NaN|                   NaN|                   NaN|                   NaN|                   NaN|                   NaN|                   NaN|                   NaN|                   NaN|                   NaN|                   NaN|                   NaN|                   NaN|                   NaN|                   NaN|                   NaN|                   NaN|                   NaN|                   NaN|                   NaN|                   NaN|                   NaN|                   NaN|                   NaN|                   NaN|                   NaN|                   NaN|                   NaN|                   NaN|                   NaN|                   NaN|                   NaN|                   NaN|                   NaN|                   NaN|                   NaN|                   NaN|                   NaN|                   NaN|                   NaN|                   NaN|                   NaN|                   NaN|                   NaN|                   NaN|                   NaN|                   NaN|                   NaN|                                   NaN|                                            NaN|                   NaN|                   NaN|                   NaN|                   NaN|                   NaN|                   NaN|                   NaN|                   NaN|                   NaN|                   NaN|                   NaN|                   NaN|                   NaN|                   NaN|                   NaN|                   NaN|                   NaN|\n",
      "|123238565|123238565|        ForSale|          For Sale by Agent|https://photos.zi...|     1.0|https://www.zillo...|  FOR_SALE|House for sale|              $|$459,000|          459000|14434 Mountain Cl...|14434 Mountain Cl...|    Houston|          TX|         77044|               false| 4.0|  4.0|3420.0|        29.92655|        -95.16345|        false|       OPEN_HOUSE|Open: Sun. 12-4pm|            123238565|          14434 Mountain Cl...|                   77044|              Houston|                    TX|                 29.92655|                 -95.16345|                459000|                       4.0|                      4.0|                     3420.0|            SINGLE_FAMILY|                   FOR_SALE|                           34|                      false|                           false|                  444100.0|                        3200.0|                                      1.0|                        false|                                   false|                         FOR_SALE|                      459000|                   3001347000|                               true|                            false|                         false|                      USD|                     USA|                         468061.0|                     7501.032|                        sqft|                             false|  false|              false|               false|ForSale|For Sale (Broker)| 444100.0|                     false|     false|   false|    false|                     true|            false|            false|true|  false|          JLA Realty|https://photos.zi...|https://photos.zi...|https://photos.zi...|https://photos.zi...|https://photos.zi...|https://photos.zi...|https://photos.zi...|https://photos.zi...|https://photos.zi...|https://photos.zi...| https://photos.zi...| https://photos.zi...| https://photos.zi...| https://photos.zi...| https://photos.zi...| https://photos.zi...| https://photos.zi...| https://photos.zi...| https://photos.zi...| https://photos.zi...| https://photos.zi...| https://photos.zi...| https://photos.zi...| https://photos.zi...| https://photos.zi...| https://photos.zi...| https://photos.zi...| https://photos.zi...| https://photos.zi...| https://photos.zi...| https://photos.zi...| https://photos.zi...| https://photos.zi...| https://photos.zi...| https://photos.zi...| https://photos.zi...| https://photos.zi...| https://photos.zi...| https://photos.zi...| https://photos.zi...| https://photos.zi...|                  NaN|                  NaN|                  NaN|                  NaN|                  NaN|                  NaN|         1.0|2024-06-09T12:00:00|2024-06-09T16:00:00|Open House - 0:00...|          NaN|              NaN|        NaN|          NaN|                  NaN|                NaN|          NaN|          NaN|        NaN|        NaN|        NaN|             NaN|                              NaN|                            NaN|                         NaN|                  NaN|                  NaN|                  NaN|                     NaN|                      NaN|                                           1.0|               Sun. 12-4pm|                                                          1.7179596E12|                                                         1.717974E12|                                         NaN|                               NaN|                                 NaN|                  NaN|                  NaN|                  NaN|                                                                   NaN|                                                                 NaN|                                                                   NaN|                                                                 NaN|                                                                   NaN|                                                                 NaN|                                                                   NaN|                                                                 NaN|           NaN|                        NaN|                         NaN|                  NaN|                                           NaN|                        NaN|         NaN|                                                                   NaN|                                                                 NaN|                                                                   NaN|                                                                 NaN|                                                                   NaN|                                                                 NaN|                  NaN|                  NaN|                  NaN|                  NaN|                  NaN|                  NaN|                  NaN|                  NaN|                  NaN|                  NaN|                  NaN|                  NaN|                  NaN|                  NaN|                  NaN|                  NaN|                  NaN|                  NaN|                  NaN|                  NaN|                  NaN|                                                                   NaN|                                                                 NaN|                  NaN|                  NaN|                  NaN|                  NaN|                  NaN|                  NaN|                  NaN|                  NaN|                  NaN|                  NaN|                  NaN|                  NaN|                  NaN|                  NaN|                  NaN|                  NaN|                  NaN|                  NaN|                  NaN|                  NaN|                  NaN|                  NaN|                  NaN|                  NaN|                  NaN|                  NaN|                   NaN|                   NaN|                   NaN|                   NaN|                   NaN|                   NaN|                   NaN|                   NaN|                   NaN|                   NaN|                   NaN|                   NaN|                   NaN|                   NaN|                   NaN|                   NaN|                   NaN|                   NaN|                   NaN|                   NaN|                   NaN|                   NaN|                   NaN|                   NaN|                   NaN|                   NaN|                   NaN|                   NaN|                   NaN|                   NaN|                   NaN|                   NaN|                   NaN|                   NaN|                   NaN|                                                                   NaN|                                                                 NaN|                   NaN|                   NaN|                   NaN|                   NaN|                   NaN|                   NaN|                   NaN|                   NaN|                   NaN|                   NaN|                   NaN|                   NaN|                   NaN|                   NaN|                   NaN|                   NaN|                   NaN|                   NaN|                   NaN|                   NaN|                   NaN|                   NaN|                   NaN|                   NaN|                   NaN|                   NaN|                   NaN|                   NaN|                   NaN|                   NaN|                   NaN|                   NaN|                   NaN|                   NaN|                   NaN|                   NaN|                   NaN|                   NaN|                   NaN|                   NaN|                   NaN|                   NaN|                   NaN|                   NaN|                   NaN|                   NaN|                   NaN|                   NaN|                   NaN|                   NaN|                   NaN|                   NaN|                   NaN|                   NaN|                   NaN|                   NaN|                   NaN|                   NaN|                   NaN|                   NaN|                   NaN|                   NaN|                                   NaN|                                            NaN|                   NaN|                   NaN|                   NaN|                   NaN|                   NaN|                   NaN|                   NaN|                   NaN|                   NaN|                   NaN|                   NaN|                   NaN|                   NaN|                   NaN|                   NaN|                   NaN|                   NaN|\n",
      "+---------+---------+---------------+---------------------------+--------------------+--------+--------------------+----------+--------------+---------------+--------+----------------+--------------------+--------------------+-----------+------------+--------------+--------------------+----+-----+------+----------------+-----------------+-------------+-----------------+-----------------+---------------------+------------------------------+------------------------+---------------------+----------------------+-------------------------+--------------------------+----------------------+--------------------------+-------------------------+---------------------------+-------------------------+---------------------------+-----------------------------+---------------------------+--------------------------------+--------------------------+------------------------------+-----------------------------------------+-----------------------------+----------------------------------------+---------------------------------+----------------------------+-----------------------------+-----------------------------------+---------------------------------+------------------------------+-------------------------+------------------------+---------------------------------+-----------------------------+----------------------------+----------------------------------+-------+-------------------+--------------------+-------+-----------------+---------+--------------------------+----------+--------+---------+-------------------------+-----------------+-----------------+----+-------+--------------------+--------------------+--------------------+--------------------+--------------------+--------------------+--------------------+--------------------+--------------------+--------------------+--------------------+---------------------+---------------------+---------------------+---------------------+---------------------+---------------------+---------------------+---------------------+---------------------+---------------------+---------------------+---------------------+---------------------+---------------------+---------------------+---------------------+---------------------+---------------------+---------------------+---------------------+---------------------+---------------------+---------------------+---------------------+---------------------+---------------------+---------------------+---------------------+---------------------+---------------------+---------------------+---------------------+---------------------+---------------------+---------------------+---------------------+---------------------+------------+-------------------+-------------------+--------------------+-------------+-----------------+-----------+-------------+---------------------+-------------------+-------------+-------------+-----------+-----------+-----------+----------------+---------------------------------+-------------------------------+----------------------------+---------------------+---------------------+---------------------+------------------------+-------------------------+----------------------------------------------+--------------------------+----------------------------------------------------------------------+--------------------------------------------------------------------+--------------------------------------------+----------------------------------+------------------------------------+---------------------+---------------------+---------------------+----------------------------------------------------------------------+--------------------------------------------------------------------+----------------------------------------------------------------------+--------------------------------------------------------------------+----------------------------------------------------------------------+--------------------------------------------------------------------+----------------------------------------------------------------------+--------------------------------------------------------------------+--------------+---------------------------+----------------------------+---------------------+----------------------------------------------+---------------------------+------------+----------------------------------------------------------------------+--------------------------------------------------------------------+----------------------------------------------------------------------+--------------------------------------------------------------------+----------------------------------------------------------------------+--------------------------------------------------------------------+---------------------+---------------------+---------------------+---------------------+---------------------+---------------------+---------------------+---------------------+---------------------+---------------------+---------------------+---------------------+---------------------+---------------------+---------------------+---------------------+---------------------+---------------------+---------------------+---------------------+---------------------+----------------------------------------------------------------------+--------------------------------------------------------------------+---------------------+---------------------+---------------------+---------------------+---------------------+---------------------+---------------------+---------------------+---------------------+---------------------+---------------------+---------------------+---------------------+---------------------+---------------------+---------------------+---------------------+---------------------+---------------------+---------------------+---------------------+---------------------+---------------------+---------------------+---------------------+---------------------+----------------------+----------------------+----------------------+----------------------+----------------------+----------------------+----------------------+----------------------+----------------------+----------------------+----------------------+----------------------+----------------------+----------------------+----------------------+----------------------+----------------------+----------------------+----------------------+----------------------+----------------------+----------------------+----------------------+----------------------+----------------------+----------------------+----------------------+----------------------+----------------------+----------------------+----------------------+----------------------+----------------------+----------------------+----------------------+----------------------------------------------------------------------+--------------------------------------------------------------------+----------------------+----------------------+----------------------+----------------------+----------------------+----------------------+----------------------+----------------------+----------------------+----------------------+----------------------+----------------------+----------------------+----------------------+----------------------+----------------------+----------------------+----------------------+----------------------+----------------------+----------------------+----------------------+----------------------+----------------------+----------------------+----------------------+----------------------+----------------------+----------------------+----------------------+----------------------+----------------------+----------------------+----------------------+----------------------+----------------------+----------------------+----------------------+----------------------+----------------------+----------------------+----------------------+----------------------+----------------------+----------------------+----------------------+----------------------+----------------------+----------------------+----------------------+----------------------+----------------------+----------------------+----------------------+----------------------+----------------------+----------------------+----------------------+----------------------+----------------------+----------------------+----------------------+--------------------------------------+-----------------------------------------------+----------------------+----------------------+----------------------+----------------------+----------------------+----------------------+----------------------+----------------------+----------------------+----------------------+----------------------+----------------------+----------------------+----------------------+----------------------+----------------------+----------------------+\n",
      "only showing top 5 rows\n",
      "\n"
     ]
    }
   ],
   "source": [
    "silver_df_spark.show(5)\n"
   ]
  },
  {
   "cell_type": "markdown",
   "metadata": {},
   "source": [
    "Check for missing values.\n",
    "In case there are string values that write NaN, we replace them with NULL (since they won't be counted in either check we do)"
   ]
  },
  {
   "cell_type": "code",
   "execution_count": 19,
   "metadata": {},
   "outputs": [],
   "source": [
    "from pyspark.sql.functions import when, col\n",
    "\n",
    "for c in silver_df_spark.columns:\n",
    "    if silver_df_spark.schema[c].dataType.simpleString() == 'string':\n",
    "        silver_df_spark = silver_df_spark.withColumn(c, when(col(c) == \"NaN\", None).otherwise(col(c)))\n"
   ]
  },
  {
   "cell_type": "code",
   "execution_count": 20,
   "metadata": {},
   "outputs": [
    {
     "name": "stderr",
     "output_type": "stream",
     "text": [
      "24/10/04 21:46:49 WARN TaskSetManager: Stage 22 contains a task of very large size (10590 KiB). The maximum recommended task size is 1000 KiB.\n",
      "[Stage 22:===================>                                     (4 + 8) / 12]\r"
     ]
    },
    {
     "name": "stdout",
     "output_type": "stream",
     "text": [
      "+----+---+---------------+---------------------------+------+--------+---------+----------+----------+---------------+-----+----------------+-------+-------------+-----------+------------+--------------+--------------------+----+-----+----+----------------+-----------------+-------------+-----------------+-----------------+---------------------+------------------------------+------------------------+---------------------+----------------------+-------------------------+--------------------------+----------------------+--------------------------+-------------------------+---------------------------+-------------------------+---------------------------+-----------------------------+---------------------------+--------------------------------+--------------------------+------------------------------+-----------------------------------------+-----------------------------+----------------------------------------+---------------------------------+----------------------------+-----------------------------+-----------------------------------+---------------------------------+------------------------------+-------------------------+------------------------+---------------------------------+-----------------------------+----------------------------+----------------------------------+-------+-------------------+--------------------+-----+-----+---------+--------------------------+----------+--------+---------+-------------------------+-----------------+-----------------+----+-------+----------+--------------------+--------------------+--------------------+--------------------+--------------------+--------------------+--------------------+--------------------+--------------------+--------------------+---------------------+---------------------+---------------------+---------------------+---------------------+---------------------+---------------------+---------------------+---------------------+---------------------+---------------------+---------------------+---------------------+---------------------+---------------------+---------------------+---------------------+---------------------+---------------------+---------------------+---------------------+---------------------+---------------------+---------------------+---------------------+---------------------+---------------------+---------------------+---------------------+---------------------+---------------------+---------------------+---------------------+---------------------+---------------------+---------------------+---------------------+------------+------------------+----------------+--------------------+-------------+-----------------+-----------+-------------+---------------------+-------------------+-------------+-------------+-----------+-----------+-----------+----------------+---------------------------------+-------------------------------+----------------------------+---------------------+---------------------+---------------------+------------------------+-------------------------+----------------------------------------------+--------------------------+----------------------------------------------------------------------+--------------------------------------------------------------------+--------------------------------------------+----------------------------------+------------------------------------+---------------------+---------------------+---------------------+----------------------------------------------------------------------+--------------------------------------------------------------------+----------------------------------------------------------------------+--------------------------------------------------------------------+----------------------------------------------------------------------+--------------------------------------------------------------------+----------------------------------------------------------------------+--------------------------------------------------------------------+--------------+---------------------------+----------------------------+---------------------+----------------------------------------------+---------------------------+------------+----------------------------------------------------------------------+--------------------------------------------------------------------+----------------------------------------------------------------------+--------------------------------------------------------------------+----------------------------------------------------------------------+--------------------------------------------------------------------+---------------------+---------------------+---------------------+---------------------+---------------------+---------------------+---------------------+---------------------+---------------------+---------------------+---------------------+---------------------+---------------------+---------------------+---------------------+---------------------+---------------------+---------------------+---------------------+---------------------+---------------------+----------------------------------------------------------------------+--------------------------------------------------------------------+---------------------+---------------------+---------------------+---------------------+---------------------+---------------------+---------------------+---------------------+---------------------+---------------------+---------------------+---------------------+---------------------+---------------------+---------------------+---------------------+---------------------+---------------------+---------------------+---------------------+---------------------+---------------------+---------------------+---------------------+---------------------+---------------------+----------------------+----------------------+----------------------+----------------------+----------------------+----------------------+----------------------+----------------------+----------------------+----------------------+----------------------+----------------------+----------------------+----------------------+----------------------+----------------------+----------------------+----------------------+----------------------+----------------------+----------------------+----------------------+----------------------+----------------------+----------------------+----------------------+----------------------+----------------------+----------------------+----------------------+----------------------+----------------------+----------------------+----------------------+----------------------+----------------------------------------------------------------------+--------------------------------------------------------------------+----------------------+----------------------+----------------------+----------------------+----------------------+----------------------+----------------------+----------------------+----------------------+----------------------+----------------------+----------------------+----------------------+----------------------+----------------------+----------------------+----------------------+----------------------+----------------------+----------------------+----------------------+----------------------+----------------------+----------------------+----------------------+----------------------+----------------------+----------------------+----------------------+----------------------+----------------------+----------------------+----------------------+----------------------+----------------------+----------------------+----------------------+----------------------+----------------------+----------------------+----------------------+----------------------+----------------------+----------------------+----------------------+----------------------+----------------------+----------------------+----------------------+----------------------+----------------------+----------------------+----------------------+----------------------+----------------------+----------------------+----------------------+----------------------+----------------------+----------------------+----------------------+----------------------+--------------------------------------+-----------------------------------------------+----------------------+----------------------+----------------------+----------------------+----------------------+----------------------+----------------------+----------------------+----------------------+----------------------+----------------------+----------------------+----------------------+----------------------+----------------------+----------------------+----------------------+\n",
      "|zpid| id|rawHomeStatusCd|marketingStatusSimplifiedCd|imgSrc|hasImage|detailUrl|statusType|statusText|countryCurrency|price|unformattedPrice|address|addressStreet|addressCity|addressState|addressZipcode|isUndisclosedAddress|beds|baths|area|latLong_latitude|latLong_longitude|isZillowOwned|variableData_type|variableData_text|hdpData_homeInfo_zpid|hdpData_homeInfo_streetAddress|hdpData_homeInfo_zipcode|hdpData_homeInfo_city|hdpData_homeInfo_state|hdpData_homeInfo_latitude|hdpData_homeInfo_longitude|hdpData_homeInfo_price|hdpData_homeInfo_bathrooms|hdpData_homeInfo_bedrooms|hdpData_homeInfo_livingArea|hdpData_homeInfo_homeType|hdpData_homeInfo_homeStatus|hdpData_homeInfo_daysOnZillow|hdpData_homeInfo_isFeatured|hdpData_homeInfo_shouldHighlight|hdpData_homeInfo_zestimate|hdpData_homeInfo_rentZestimate|hdpData_homeInfo_listing_sub_type_is_FSBA|hdpData_homeInfo_isUnmappable|hdpData_homeInfo_isPreforeclosureAuction|hdpData_homeInfo_homeStatusForHDP|hdpData_homeInfo_priceForHDP|hdpData_homeInfo_timeOnZillow|hdpData_homeInfo_isNonOwnerOccupied|hdpData_homeInfo_isPremierBuilder|hdpData_homeInfo_isZillowOwned|hdpData_homeInfo_currency|hdpData_homeInfo_country|hdpData_homeInfo_taxAssessedValue|hdpData_homeInfo_lotAreaValue|hdpData_homeInfo_lotAreaUnit|hdpData_homeInfo_isShowcaseListing|isSaved|isUserClaimingOwner|isUserConfirmedClaim|pgapt|sgapt|zestimate|shouldShowZestimateAsPrice|has3DModel|hasVideo|isHomeRec|hasAdditionalAttributions|isFeaturedListing|isShowcaseListing|list|relaxed|brokerName|carouselPhotos_0_url|carouselPhotos_1_url|carouselPhotos_2_url|carouselPhotos_3_url|carouselPhotos_4_url|carouselPhotos_5_url|carouselPhotos_6_url|carouselPhotos_7_url|carouselPhotos_8_url|carouselPhotos_9_url|carouselPhotos_10_url|carouselPhotos_11_url|carouselPhotos_12_url|carouselPhotos_13_url|carouselPhotos_14_url|carouselPhotos_15_url|carouselPhotos_16_url|carouselPhotos_17_url|carouselPhotos_18_url|carouselPhotos_19_url|carouselPhotos_20_url|carouselPhotos_21_url|carouselPhotos_22_url|carouselPhotos_23_url|carouselPhotos_24_url|carouselPhotos_25_url|carouselPhotos_26_url|carouselPhotos_27_url|carouselPhotos_28_url|carouselPhotos_29_url|carouselPhotos_30_url|carouselPhotos_31_url|carouselPhotos_32_url|carouselPhotos_33_url|carouselPhotos_34_url|carouselPhotos_35_url|carouselPhotos_36_url|carouselPhotos_37_url|carouselPhotos_38_url|carouselPhotos_39_url|carouselPhotos_40_url|carouselPhotos_41_url|carouselPhotos_42_url|carouselPhotos_43_url|carouselPhotos_44_url|carouselPhotos_45_url|carouselPhotos_46_url|hasOpenHouse|openHouseStartDate|openHouseEndDate|openHouseDescription|lotAreaString|providerListingId|builderName|streetViewURL|streetViewMetadataURL|isPropertyResultCDP|flexFieldText|flexFieldType|info3String|info6String|info2String|availabilityDate|hdpData_homeInfo_datePriceChanged|hdpData_homeInfo_priceReduction|hdpData_homeInfo_priceChange|carouselPhotos_47_url|carouselPhotos_48_url|carouselPhotos_49_url|variableData_data_isRead|variableData_data_isFresh|hdpData_homeInfo_listing_sub_type_is_openHouse|hdpData_homeInfo_openHouse|hdpData_homeInfo_open_house_info_open_house_showing_0_open_house_start|hdpData_homeInfo_open_house_info_open_house_showing_0_open_house_end|hdpData_homeInfo_listing_sub_type_is_newHome|hdpData_homeInfo_providerListingID|hdpData_homeInfo_newConstructionType|carouselPhotos_50_url|carouselPhotos_51_url|carouselPhotos_52_url|hdpData_homeInfo_open_house_info_open_house_showing_1_open_house_start|hdpData_homeInfo_open_house_info_open_house_showing_1_open_house_end|hdpData_homeInfo_open_house_info_open_house_showing_2_open_house_start|hdpData_homeInfo_open_house_info_open_house_showing_2_open_house_end|hdpData_homeInfo_open_house_info_open_house_showing_3_open_house_start|hdpData_homeInfo_open_house_info_open_house_showing_3_open_house_end|hdpData_homeInfo_open_house_info_open_house_showing_4_open_house_start|hdpData_homeInfo_open_house_info_open_house_showing_4_open_house_end|carouselPhotos|hdpData_homeInfo_group_type|hdpData_homeInfo_priceSuffix|hdpData_homeInfo_unit|hdpData_homeInfo_listing_sub_type_is_bankOwned|hdpData_homeInfo_videoCount|variableData|hdpData_homeInfo_open_house_info_open_house_showing_5_open_house_start|hdpData_homeInfo_open_house_info_open_house_showing_5_open_house_end|hdpData_homeInfo_open_house_info_open_house_showing_6_open_house_start|hdpData_homeInfo_open_house_info_open_house_showing_6_open_house_end|hdpData_homeInfo_open_house_info_open_house_showing_7_open_house_start|hdpData_homeInfo_open_house_info_open_house_showing_7_open_house_end|carouselPhotos_53_url|carouselPhotos_54_url|carouselPhotos_55_url|carouselPhotos_56_url|carouselPhotos_57_url|carouselPhotos_58_url|carouselPhotos_59_url|carouselPhotos_60_url|carouselPhotos_61_url|carouselPhotos_62_url|carouselPhotos_63_url|carouselPhotos_64_url|carouselPhotos_65_url|carouselPhotos_66_url|carouselPhotos_67_url|carouselPhotos_68_url|carouselPhotos_69_url|carouselPhotos_70_url|carouselPhotos_71_url|carouselPhotos_72_url|carouselPhotos_73_url|hdpData_homeInfo_open_house_info_open_house_showing_8_open_house_start|hdpData_homeInfo_open_house_info_open_house_showing_8_open_house_end|carouselPhotos_74_url|carouselPhotos_75_url|carouselPhotos_76_url|carouselPhotos_77_url|carouselPhotos_78_url|carouselPhotos_79_url|carouselPhotos_80_url|carouselPhotos_81_url|carouselPhotos_82_url|carouselPhotos_83_url|carouselPhotos_84_url|carouselPhotos_85_url|carouselPhotos_86_url|carouselPhotos_87_url|carouselPhotos_88_url|carouselPhotos_89_url|carouselPhotos_90_url|carouselPhotos_91_url|carouselPhotos_92_url|carouselPhotos_93_url|carouselPhotos_94_url|carouselPhotos_95_url|carouselPhotos_96_url|carouselPhotos_97_url|carouselPhotos_98_url|carouselPhotos_99_url|carouselPhotos_100_url|carouselPhotos_101_url|carouselPhotos_102_url|carouselPhotos_103_url|carouselPhotos_104_url|carouselPhotos_105_url|carouselPhotos_106_url|carouselPhotos_107_url|carouselPhotos_108_url|carouselPhotos_109_url|carouselPhotos_110_url|carouselPhotos_111_url|carouselPhotos_112_url|carouselPhotos_113_url|carouselPhotos_114_url|carouselPhotos_115_url|carouselPhotos_116_url|carouselPhotos_117_url|carouselPhotos_118_url|carouselPhotos_119_url|carouselPhotos_120_url|carouselPhotos_121_url|carouselPhotos_122_url|carouselPhotos_123_url|carouselPhotos_124_url|carouselPhotos_125_url|carouselPhotos_126_url|carouselPhotos_127_url|carouselPhotos_128_url|carouselPhotos_129_url|carouselPhotos_130_url|carouselPhotos_131_url|carouselPhotos_132_url|carouselPhotos_133_url|carouselPhotos_134_url|hdpData_homeInfo_open_house_info_open_house_showing_9_open_house_start|hdpData_homeInfo_open_house_info_open_house_showing_9_open_house_end|carouselPhotos_135_url|carouselPhotos_136_url|carouselPhotos_137_url|carouselPhotos_138_url|carouselPhotos_139_url|carouselPhotos_140_url|carouselPhotos_141_url|carouselPhotos_142_url|carouselPhotos_143_url|carouselPhotos_144_url|carouselPhotos_145_url|carouselPhotos_146_url|carouselPhotos_147_url|carouselPhotos_148_url|carouselPhotos_149_url|carouselPhotos_150_url|carouselPhotos_151_url|carouselPhotos_152_url|carouselPhotos_153_url|carouselPhotos_154_url|carouselPhotos_155_url|carouselPhotos_156_url|carouselPhotos_157_url|carouselPhotos_158_url|carouselPhotos_159_url|carouselPhotos_160_url|carouselPhotos_161_url|carouselPhotos_162_url|carouselPhotos_163_url|carouselPhotos_164_url|carouselPhotos_165_url|carouselPhotos_166_url|carouselPhotos_167_url|carouselPhotos_168_url|carouselPhotos_169_url|carouselPhotos_170_url|carouselPhotos_171_url|carouselPhotos_172_url|carouselPhotos_173_url|carouselPhotos_174_url|carouselPhotos_175_url|carouselPhotos_176_url|carouselPhotos_177_url|carouselPhotos_178_url|carouselPhotos_179_url|carouselPhotos_180_url|carouselPhotos_181_url|carouselPhotos_182_url|carouselPhotos_183_url|carouselPhotos_184_url|carouselPhotos_185_url|carouselPhotos_186_url|carouselPhotos_187_url|carouselPhotos_188_url|carouselPhotos_189_url|carouselPhotos_190_url|carouselPhotos_191_url|carouselPhotos_192_url|carouselPhotos_193_url|carouselPhotos_194_url|carouselPhotos_195_url|carouselPhotos_196_url|hdpData_homeInfo_isRentalWithBasePrice|hdpData_homeInfo_listing_sub_type_is_forAuction|carouselPhotos_197_url|carouselPhotos_198_url|carouselPhotos_199_url|carouselPhotos_200_url|carouselPhotos_201_url|carouselPhotos_202_url|carouselPhotos_203_url|carouselPhotos_204_url|carouselPhotos_205_url|carouselPhotos_206_url|carouselPhotos_207_url|carouselPhotos_208_url|carouselPhotos_209_url|carouselPhotos_210_url|carouselPhotos_211_url|carouselPhotos_212_url|carouselPhotos_213_url|\n",
      "+----+---+---------------+---------------------------+------+--------+---------+----------+----------+---------------+-----+----------------+-------+-------------+-----------+------------+--------------+--------------------+----+-----+----+----------------+-----------------+-------------+-----------------+-----------------+---------------------+------------------------------+------------------------+---------------------+----------------------+-------------------------+--------------------------+----------------------+--------------------------+-------------------------+---------------------------+-------------------------+---------------------------+-----------------------------+---------------------------+--------------------------------+--------------------------+------------------------------+-----------------------------------------+-----------------------------+----------------------------------------+---------------------------------+----------------------------+-----------------------------+-----------------------------------+---------------------------------+------------------------------+-------------------------+------------------------+---------------------------------+-----------------------------+----------------------------+----------------------------------+-------+-------------------+--------------------+-----+-----+---------+--------------------------+----------+--------+---------+-------------------------+-----------------+-----------------+----+-------+----------+--------------------+--------------------+--------------------+--------------------+--------------------+--------------------+--------------------+--------------------+--------------------+--------------------+---------------------+---------------------+---------------------+---------------------+---------------------+---------------------+---------------------+---------------------+---------------------+---------------------+---------------------+---------------------+---------------------+---------------------+---------------------+---------------------+---------------------+---------------------+---------------------+---------------------+---------------------+---------------------+---------------------+---------------------+---------------------+---------------------+---------------------+---------------------+---------------------+---------------------+---------------------+---------------------+---------------------+---------------------+---------------------+---------------------+---------------------+------------+------------------+----------------+--------------------+-------------+-----------------+-----------+-------------+---------------------+-------------------+-------------+-------------+-----------+-----------+-----------+----------------+---------------------------------+-------------------------------+----------------------------+---------------------+---------------------+---------------------+------------------------+-------------------------+----------------------------------------------+--------------------------+----------------------------------------------------------------------+--------------------------------------------------------------------+--------------------------------------------+----------------------------------+------------------------------------+---------------------+---------------------+---------------------+----------------------------------------------------------------------+--------------------------------------------------------------------+----------------------------------------------------------------------+--------------------------------------------------------------------+----------------------------------------------------------------------+--------------------------------------------------------------------+----------------------------------------------------------------------+--------------------------------------------------------------------+--------------+---------------------------+----------------------------+---------------------+----------------------------------------------+---------------------------+------------+----------------------------------------------------------------------+--------------------------------------------------------------------+----------------------------------------------------------------------+--------------------------------------------------------------------+----------------------------------------------------------------------+--------------------------------------------------------------------+---------------------+---------------------+---------------------+---------------------+---------------------+---------------------+---------------------+---------------------+---------------------+---------------------+---------------------+---------------------+---------------------+---------------------+---------------------+---------------------+---------------------+---------------------+---------------------+---------------------+---------------------+----------------------------------------------------------------------+--------------------------------------------------------------------+---------------------+---------------------+---------------------+---------------------+---------------------+---------------------+---------------------+---------------------+---------------------+---------------------+---------------------+---------------------+---------------------+---------------------+---------------------+---------------------+---------------------+---------------------+---------------------+---------------------+---------------------+---------------------+---------------------+---------------------+---------------------+---------------------+----------------------+----------------------+----------------------+----------------------+----------------------+----------------------+----------------------+----------------------+----------------------+----------------------+----------------------+----------------------+----------------------+----------------------+----------------------+----------------------+----------------------+----------------------+----------------------+----------------------+----------------------+----------------------+----------------------+----------------------+----------------------+----------------------+----------------------+----------------------+----------------------+----------------------+----------------------+----------------------+----------------------+----------------------+----------------------+----------------------------------------------------------------------+--------------------------------------------------------------------+----------------------+----------------------+----------------------+----------------------+----------------------+----------------------+----------------------+----------------------+----------------------+----------------------+----------------------+----------------------+----------------------+----------------------+----------------------+----------------------+----------------------+----------------------+----------------------+----------------------+----------------------+----------------------+----------------------+----------------------+----------------------+----------------------+----------------------+----------------------+----------------------+----------------------+----------------------+----------------------+----------------------+----------------------+----------------------+----------------------+----------------------+----------------------+----------------------+----------------------+----------------------+----------------------+----------------------+----------------------+----------------------+----------------------+----------------------+----------------------+----------------------+----------------------+----------------------+----------------------+----------------------+----------------------+----------------------+----------------------+----------------------+----------------------+----------------------+----------------------+----------------------+----------------------+--------------------------------------+-----------------------------------------------+----------------------+----------------------+----------------------+----------------------+----------------------+----------------------+----------------------+----------------------+----------------------+----------------------+----------------------+----------------------+----------------------+----------------------+----------------------+----------------------+----------------------+\n",
      "|   0|  0|              0|                          0|     0|       0|        0|         0|         0|              0|    0|               0|      0|            0|          0|           0|             0|                   0|   0|    0|   0|               0|                0|            0|            12117|            12117|                    0|                             0|                       0|                    0|                     0|                        0|                         0|                     0|                         0|                        0|                          0|                        0|                          0|                            0|                          0|                               0|                         0|                             0|                                        0|                            0|                                       0|                                0|                           0|                            0|                                  0|                                0|                             0|                        0|                       0|                                0|                            0|                        5938|                                 0|      0|                  0|                   0|    0|    0|        0|                         0|         0|       0|        0|                        0|                0|                0|   0|      0|      4156|                  90|                 291|                 493|                 822|                1135|                1521|                2157|                2676|                3138|                3524|                 3973|                 4415|                 4824|                 5235|                 5677|                 6161|                 6648|                 7226|                 7739|                 8276|                 8805|                 9369|                 9913|                10467|                11068|                11704|                12282|                12845|                13494|                14067|                14669|                15244|                15976|                16454|                16999|                17471|                17935|                18459|                18908|                19328|                19776|                20163|                20602|                20984|                21346|                21790|                22158|           0|             24713|           24713|               24713|        22881|                0|      18061|        25839|                25839|                  0|        13831|        13831|      25925|      25935|      25947|           25939|                                0|                          16990|                           0|                22564|                23003|                23514|                       0|                        0|                                             0|                     24713|                                                                     0|                                                                   0|                                           0|                                 0|                               17184|                24735|                24800|                24868|                                                                     0|                                                                   0|                                                                     0|                                                                   0|                                                                     0|                                                                   0|                                                                     0|                                                                   0|             0|                      22548|                       22548|                20102|                                             0|                          0|           0|                                                                     0|                                                                   0|                                                                     0|                                                                   0|                                                                     0|                                                                   0|                24935|                24992|                25048|                25090|                25129|                25162|                25188|                25221|                25249|                25277|                25311|                25339|                25368|                25400|                25425|                25454|                25486|                25519|                25537|                25554|                25587|                                                                     0|                                                                   0|                25610|                25634|                25654|                25675|                25685|                25695|                25705|                25712|                25725|                25743|                25756|                25766|                25771|                25776|                25783|                25789|                25793|                25796|                25798|                25805|                25809|                25811|                25813|                25815|                25819|                25825|                 25829|                 25831|                 25834|                 25838|                 25839|                 25843|                 25843|                 25844|                 25846|                 25849|                 25852|                 25852|                 25853|                 25853|                 25854|                 25856|                 25858|                 25858|                 25860|                 25860|                 25862|                 25863|                 25865|                 25866|                 25868|                 25870|                 25873|                 25874|                 25877|                 25879|                 25880|                 25881|                 25884|                 25885|                 25885|                                                                     0|                                                                   0|                 25886|                 25886|                 25886|                 25886|                 25886|                 25886|                 25886|                 25886|                 25886|                 25886|                 25886|                 25886|                 25886|                 25886|                 25886|                 25886|                 25887|                 25888|                 25889|                 25889|                 25889|                 25889|                 25889|                 25889|                 25889|                 25889|                 25889|                 25890|                 25894|                 25900|                 25900|                 25900|                 25900|                 25900|                 25902|                 25905|                 25907|                 25911|                 25911|                 25912|                 25914|                 25914|                 25918|                 25920|                 25921|                 25921|                 25925|                 25926|                 25927|                 25927|                 25929|                 25931|                 25932|                 25932|                 25932|                 25934|                 25934|                 25935|                 25936|                 25936|                 25936|                 25936|                                     0|                                              0|                 25938|                 25939|                 25939|                 25939|                 25942|                 25942|                 25943|                 25943|                 25944|                 25946|                 25946|                 25946|                 25946|                 25946|                 25947|                 25947|                 25947|\n",
      "+----+---+---------------+---------------------------+------+--------+---------+----------+----------+---------------+-----+----------------+-------+-------------+-----------+------------+--------------+--------------------+----+-----+----+----------------+-----------------+-------------+-----------------+-----------------+---------------------+------------------------------+------------------------+---------------------+----------------------+-------------------------+--------------------------+----------------------+--------------------------+-------------------------+---------------------------+-------------------------+---------------------------+-----------------------------+---------------------------+--------------------------------+--------------------------+------------------------------+-----------------------------------------+-----------------------------+----------------------------------------+---------------------------------+----------------------------+-----------------------------+-----------------------------------+---------------------------------+------------------------------+-------------------------+------------------------+---------------------------------+-----------------------------+----------------------------+----------------------------------+-------+-------------------+--------------------+-----+-----+---------+--------------------------+----------+--------+---------+-------------------------+-----------------+-----------------+----+-------+----------+--------------------+--------------------+--------------------+--------------------+--------------------+--------------------+--------------------+--------------------+--------------------+--------------------+---------------------+---------------------+---------------------+---------------------+---------------------+---------------------+---------------------+---------------------+---------------------+---------------------+---------------------+---------------------+---------------------+---------------------+---------------------+---------------------+---------------------+---------------------+---------------------+---------------------+---------------------+---------------------+---------------------+---------------------+---------------------+---------------------+---------------------+---------------------+---------------------+---------------------+---------------------+---------------------+---------------------+---------------------+---------------------+---------------------+---------------------+------------+------------------+----------------+--------------------+-------------+-----------------+-----------+-------------+---------------------+-------------------+-------------+-------------+-----------+-----------+-----------+----------------+---------------------------------+-------------------------------+----------------------------+---------------------+---------------------+---------------------+------------------------+-------------------------+----------------------------------------------+--------------------------+----------------------------------------------------------------------+--------------------------------------------------------------------+--------------------------------------------+----------------------------------+------------------------------------+---------------------+---------------------+---------------------+----------------------------------------------------------------------+--------------------------------------------------------------------+----------------------------------------------------------------------+--------------------------------------------------------------------+----------------------------------------------------------------------+--------------------------------------------------------------------+----------------------------------------------------------------------+--------------------------------------------------------------------+--------------+---------------------------+----------------------------+---------------------+----------------------------------------------+---------------------------+------------+----------------------------------------------------------------------+--------------------------------------------------------------------+----------------------------------------------------------------------+--------------------------------------------------------------------+----------------------------------------------------------------------+--------------------------------------------------------------------+---------------------+---------------------+---------------------+---------------------+---------------------+---------------------+---------------------+---------------------+---------------------+---------------------+---------------------+---------------------+---------------------+---------------------+---------------------+---------------------+---------------------+---------------------+---------------------+---------------------+---------------------+----------------------------------------------------------------------+--------------------------------------------------------------------+---------------------+---------------------+---------------------+---------------------+---------------------+---------------------+---------------------+---------------------+---------------------+---------------------+---------------------+---------------------+---------------------+---------------------+---------------------+---------------------+---------------------+---------------------+---------------------+---------------------+---------------------+---------------------+---------------------+---------------------+---------------------+---------------------+----------------------+----------------------+----------------------+----------------------+----------------------+----------------------+----------------------+----------------------+----------------------+----------------------+----------------------+----------------------+----------------------+----------------------+----------------------+----------------------+----------------------+----------------------+----------------------+----------------------+----------------------+----------------------+----------------------+----------------------+----------------------+----------------------+----------------------+----------------------+----------------------+----------------------+----------------------+----------------------+----------------------+----------------------+----------------------+----------------------------------------------------------------------+--------------------------------------------------------------------+----------------------+----------------------+----------------------+----------------------+----------------------+----------------------+----------------------+----------------------+----------------------+----------------------+----------------------+----------------------+----------------------+----------------------+----------------------+----------------------+----------------------+----------------------+----------------------+----------------------+----------------------+----------------------+----------------------+----------------------+----------------------+----------------------+----------------------+----------------------+----------------------+----------------------+----------------------+----------------------+----------------------+----------------------+----------------------+----------------------+----------------------+----------------------+----------------------+----------------------+----------------------+----------------------+----------------------+----------------------+----------------------+----------------------+----------------------+----------------------+----------------------+----------------------+----------------------+----------------------+----------------------+----------------------+----------------------+----------------------+----------------------+----------------------+----------------------+----------------------+----------------------+----------------------+--------------------------------------+-----------------------------------------------+----------------------+----------------------+----------------------+----------------------+----------------------+----------------------+----------------------+----------------------+----------------------+----------------------+----------------------+----------------------+----------------------+----------------------+----------------------+----------------------+----------------------+\n",
      "\n"
     ]
    },
    {
     "name": "stderr",
     "output_type": "stream",
     "text": [
      "                                                                                \r"
     ]
    }
   ],
   "source": [
    "from pyspark.sql.functions import col, sum\n",
    "\n",
    "# Count NULL values for each column\n",
    "null_counts = silver_df_spark.select([sum(col(c).isNull().cast(\"int\")).alias(c) for c in silver_df_spark.columns])\n",
    "null_counts.show()\n"
   ]
  },
  {
   "cell_type": "code",
   "execution_count": 17,
   "metadata": {},
   "outputs": [
    {
     "name": "stderr",
     "output_type": "stream",
     "text": [
      "24/10/04 21:43:38 WARN TaskSetManager: Stage 19 contains a task of very large size (10590 KiB). The maximum recommended task size is 1000 KiB.\n",
      "[Stage 19:====>                                                   (1 + 11) / 12]\r"
     ]
    },
    {
     "name": "stdout",
     "output_type": "stream",
     "text": [
      "+--------+----+-----+----+----------------+-----------------+-------------------------+--------------------------+--------------------------+-------------------------+---------------------------+--------------------------+------------------------------+-----------------------------------------+---------------------------------+-----------------------------+---------+------------+-----------------+-------------------+---------------------------------+----------------------------+------------------------+-------------------------+----------------------------------------------+----------------------------------------------------------------------+--------------------------------------------------------------------+--------------------------------------------+----------------------------------+----------------------------------------------------------------------+--------------------------------------------------------------------+----------------------------------------------------------------------+--------------------------------------------------------------------+----------------------------------------------------------------------+--------------------------------------------------------------------+----------------------------------------------------------------------+--------------------------------------------------------------------+--------------+----------------------------------------------+---------------------------+------------+----------------------------------------------------------------------+--------------------------------------------------------------------+----------------------------------------------------------------------+--------------------------------------------------------------------+----------------------------------------------------------------------+--------------------------------------------------------------------+----------------------------------------------------------------------+--------------------------------------------------------------------+----------------------------------------------------------------------+--------------------------------------------------------------------+--------------------------------------+-----------------------------------------------+\n",
      "|hasImage|beds|baths|area|latLong_latitude|latLong_longitude|hdpData_homeInfo_latitude|hdpData_homeInfo_longitude|hdpData_homeInfo_bathrooms|hdpData_homeInfo_bedrooms|hdpData_homeInfo_livingArea|hdpData_homeInfo_zestimate|hdpData_homeInfo_rentZestimate|hdpData_homeInfo_listing_sub_type_is_FSBA|hdpData_homeInfo_taxAssessedValue|hdpData_homeInfo_lotAreaValue|zestimate|hasOpenHouse|providerListingId|isPropertyResultCDP|hdpData_homeInfo_datePriceChanged|hdpData_homeInfo_priceChange|variableData_data_isRead|variableData_data_isFresh|hdpData_homeInfo_listing_sub_type_is_openHouse|hdpData_homeInfo_open_house_info_open_house_showing_0_open_house_start|hdpData_homeInfo_open_house_info_open_house_showing_0_open_house_end|hdpData_homeInfo_listing_sub_type_is_newHome|hdpData_homeInfo_providerListingID|hdpData_homeInfo_open_house_info_open_house_showing_1_open_house_start|hdpData_homeInfo_open_house_info_open_house_showing_1_open_house_end|hdpData_homeInfo_open_house_info_open_house_showing_2_open_house_start|hdpData_homeInfo_open_house_info_open_house_showing_2_open_house_end|hdpData_homeInfo_open_house_info_open_house_showing_3_open_house_start|hdpData_homeInfo_open_house_info_open_house_showing_3_open_house_end|hdpData_homeInfo_open_house_info_open_house_showing_4_open_house_start|hdpData_homeInfo_open_house_info_open_house_showing_4_open_house_end|carouselPhotos|hdpData_homeInfo_listing_sub_type_is_bankOwned|hdpData_homeInfo_videoCount|variableData|hdpData_homeInfo_open_house_info_open_house_showing_5_open_house_start|hdpData_homeInfo_open_house_info_open_house_showing_5_open_house_end|hdpData_homeInfo_open_house_info_open_house_showing_6_open_house_start|hdpData_homeInfo_open_house_info_open_house_showing_6_open_house_end|hdpData_homeInfo_open_house_info_open_house_showing_7_open_house_start|hdpData_homeInfo_open_house_info_open_house_showing_7_open_house_end|hdpData_homeInfo_open_house_info_open_house_showing_8_open_house_start|hdpData_homeInfo_open_house_info_open_house_showing_8_open_house_end|hdpData_homeInfo_open_house_info_open_house_showing_9_open_house_start|hdpData_homeInfo_open_house_info_open_house_showing_9_open_house_end|hdpData_homeInfo_isRentalWithBasePrice|hdpData_homeInfo_listing_sub_type_is_forAuction|\n",
      "+--------+----+-----+----+----------------+-----------------+-------------------------+--------------------------+--------------------------+-------------------------+---------------------------+--------------------------+------------------------------+-----------------------------------------+---------------------------------+-----------------------------+---------+------------+-----------------+-------------------+---------------------------------+----------------------------+------------------------+-------------------------+----------------------------------------------+----------------------------------------------------------------------+--------------------------------------------------------------------+--------------------------------------------+----------------------------------+----------------------------------------------------------------------+--------------------------------------------------------------------+----------------------------------------------------------------------+--------------------------------------------------------------------+----------------------------------------------------------------------+--------------------------------------------------------------------+----------------------------------------------------------------------+--------------------------------------------------------------------+--------------+----------------------------------------------+---------------------------+------------+----------------------------------------------------------------------+--------------------------------------------------------------------+----------------------------------------------------------------------+--------------------------------------------------------------------+----------------------------------------------------------------------+--------------------------------------------------------------------+----------------------------------------------------------------------+--------------------------------------------------------------------+----------------------------------------------------------------------+--------------------------------------------------------------------+--------------------------------------+-----------------------------------------------+\n",
      "|     109|3153|   37|3156|              10|               10|                       10|                        10|                        37|                     3153|                       3156|                      4427|                          1393|                                     8823|                            10377|                         5938|     4427|       24713|            20157|              22548|                            13339|                       13339|                   25948|                    25749|                                         24713|                                                                 24713|                                                               24713|                                       17184|                             20157|                                                                 25423|                                                               25423|                                                                 25637|                                                               25637|                                                                 25681|                                                               25681|                                                                 25745|                                                               25745|         25948|                                         25892|                      25871|       25948|                                                                 25793|                                                               25793|                                                                 25860|                                                               25860|                                                                 25870|                                                               25870|                                                                 25938|                                                               25938|                                                                 25945|                                                               25945|                                 25945|                                          25945|\n",
      "+--------+----+-----+----+----------------+-----------------+-------------------------+--------------------------+--------------------------+-------------------------+---------------------------+--------------------------+------------------------------+-----------------------------------------+---------------------------------+-----------------------------+---------+------------+-----------------+-------------------+---------------------------------+----------------------------+------------------------+-------------------------+----------------------------------------------+----------------------------------------------------------------------+--------------------------------------------------------------------+--------------------------------------------+----------------------------------+----------------------------------------------------------------------+--------------------------------------------------------------------+----------------------------------------------------------------------+--------------------------------------------------------------------+----------------------------------------------------------------------+--------------------------------------------------------------------+----------------------------------------------------------------------+--------------------------------------------------------------------+--------------+----------------------------------------------+---------------------------+------------+----------------------------------------------------------------------+--------------------------------------------------------------------+----------------------------------------------------------------------+--------------------------------------------------------------------+----------------------------------------------------------------------+--------------------------------------------------------------------+----------------------------------------------------------------------+--------------------------------------------------------------------+----------------------------------------------------------------------+--------------------------------------------------------------------+--------------------------------------+-----------------------------------------------+\n",
      "\n"
     ]
    },
    {
     "name": "stderr",
     "output_type": "stream",
     "text": [
      "                                                                                \r"
     ]
    }
   ],
   "source": [
    "\n",
    "from pyspark.sql.functions import isnan\n",
    "\n",
    "# Count NaN values for each column (only applicable to numeric columns)\n",
    "nan_counts = silver_df_spark.select([sum(isnan(c).cast(\"int\")).alias(c) for c in silver_df_spark.columns if silver_df_spark.schema[c].dataType.simpleString() in ['double', 'float']])\n",
    "nan_counts.show()\n"
   ]
  },
  {
   "cell_type": "code",
   "execution_count": 21,
   "metadata": {},
   "outputs": [
    {
     "name": "stderr",
     "output_type": "stream",
     "text": [
      "24/10/04 21:48:48 WARN TaskSetManager: Stage 25 contains a task of very large size (10590 KiB). The maximum recommended task size is 1000 KiB.\n",
      "24/10/04 21:48:51 WARN TaskSetManager: Stage 28 contains a task of very large size (10590 KiB). The maximum recommended task size is 1000 KiB.\n",
      "24/10/04 21:48:55 WARN TaskSetManager: Stage 31 contains a task of very large size (10590 KiB). The maximum recommended task size is 1000 KiB.\n",
      "                                                                                \r"
     ]
    }
   ],
   "source": [
    "total_rows = silver_df_spark.count()\n",
    "null_counts_df = null_counts.toPandas().T.reset_index()  # Transpose to make columns as rows\n",
    "null_counts_df.columns = ['Column', 'Null Count']  # Rename columns\n",
    "\n",
    "nan_counts_df = nan_counts.toPandas().T.reset_index()  # Transpose to make columns as rows\n",
    "nan_counts_df.columns = ['Column', 'NaN Count']  # Rename columns\n",
    "\n",
    "summary_df = pd.merge(null_counts_df, nan_counts_df, on='Column', how='outer').fillna(0)\n",
    "\n",
    "summary_df['Null Percentage'] = (summary_df['Null Count'] / total_rows) * 100\n",
    "summary_df['NaN Percentage'] = (summary_df['NaN Count'] / total_rows) * 100\n"
   ]
  },
  {
   "cell_type": "code",
   "execution_count": 25,
   "metadata": {},
   "outputs": [
    {
     "data": {
      "text/html": [
       "<div>\n",
       "<style scoped>\n",
       "    .dataframe tbody tr th:only-of-type {\n",
       "        vertical-align: middle;\n",
       "    }\n",
       "\n",
       "    .dataframe tbody tr th {\n",
       "        vertical-align: top;\n",
       "    }\n",
       "\n",
       "    .dataframe thead th {\n",
       "        text-align: right;\n",
       "    }\n",
       "</style>\n",
       "<table border=\"1\" class=\"dataframe\">\n",
       "  <thead>\n",
       "    <tr style=\"text-align: right;\">\n",
       "      <th></th>\n",
       "      <th>Column</th>\n",
       "      <th>Null Count</th>\n",
       "      <th>NaN Count</th>\n",
       "      <th>Null Percentage</th>\n",
       "      <th>NaN Percentage</th>\n",
       "    </tr>\n",
       "  </thead>\n",
       "  <tbody>\n",
       "    <tr>\n",
       "      <th>138</th>\n",
       "      <td>carouselPhotos_213_url</td>\n",
       "      <td>25947</td>\n",
       "      <td>0.0</td>\n",
       "      <td>99.996146</td>\n",
       "      <td>0.000000</td>\n",
       "    </tr>\n",
       "    <tr>\n",
       "      <th>136</th>\n",
       "      <td>carouselPhotos_211_url</td>\n",
       "      <td>25947</td>\n",
       "      <td>0.0</td>\n",
       "      <td>99.996146</td>\n",
       "      <td>0.000000</td>\n",
       "    </tr>\n",
       "    <tr>\n",
       "      <th>305</th>\n",
       "      <td>info2String</td>\n",
       "      <td>25947</td>\n",
       "      <td>0.0</td>\n",
       "      <td>99.996146</td>\n",
       "      <td>0.000000</td>\n",
       "    </tr>\n",
       "    <tr>\n",
       "      <th>137</th>\n",
       "      <td>carouselPhotos_212_url</td>\n",
       "      <td>25947</td>\n",
       "      <td>0.0</td>\n",
       "      <td>99.996146</td>\n",
       "      <td>0.000000</td>\n",
       "    </tr>\n",
       "    <tr>\n",
       "      <th>130</th>\n",
       "      <td>carouselPhotos_206_url</td>\n",
       "      <td>25946</td>\n",
       "      <td>0.0</td>\n",
       "      <td>99.992292</td>\n",
       "      <td>0.000000</td>\n",
       "    </tr>\n",
       "    <tr>\n",
       "      <th>...</th>\n",
       "      <td>...</td>\n",
       "      <td>...</td>\n",
       "      <td>...</td>\n",
       "      <td>...</td>\n",
       "      <td>...</td>\n",
       "    </tr>\n",
       "    <tr>\n",
       "      <th>337</th>\n",
       "      <td>variableData</td>\n",
       "      <td>0</td>\n",
       "      <td>25948.0</td>\n",
       "      <td>0.000000</td>\n",
       "      <td>100.000000</td>\n",
       "    </tr>\n",
       "    <tr>\n",
       "      <th>339</th>\n",
       "      <td>variableData_data_isRead</td>\n",
       "      <td>0</td>\n",
       "      <td>25948.0</td>\n",
       "      <td>0.000000</td>\n",
       "      <td>100.000000</td>\n",
       "    </tr>\n",
       "    <tr>\n",
       "      <th>338</th>\n",
       "      <td>variableData_data_isFresh</td>\n",
       "      <td>0</td>\n",
       "      <td>25749.0</td>\n",
       "      <td>0.000000</td>\n",
       "      <td>99.233082</td>\n",
       "    </tr>\n",
       "    <tr>\n",
       "      <th>342</th>\n",
       "      <td>zestimate</td>\n",
       "      <td>0</td>\n",
       "      <td>4427.0</td>\n",
       "      <td>0.000000</td>\n",
       "      <td>17.061045</td>\n",
       "    </tr>\n",
       "    <tr>\n",
       "      <th>343</th>\n",
       "      <td>zpid</td>\n",
       "      <td>0</td>\n",
       "      <td>0.0</td>\n",
       "      <td>0.000000</td>\n",
       "      <td>0.000000</td>\n",
       "    </tr>\n",
       "  </tbody>\n",
       "</table>\n",
       "<p>344 rows × 5 columns</p>\n",
       "</div>"
      ],
      "text/plain": [
       "                        Column  Null Count  NaN Count  Null Percentage  \\\n",
       "138     carouselPhotos_213_url       25947        0.0        99.996146   \n",
       "136     carouselPhotos_211_url       25947        0.0        99.996146   \n",
       "305                info2String       25947        0.0        99.996146   \n",
       "137     carouselPhotos_212_url       25947        0.0        99.996146   \n",
       "130     carouselPhotos_206_url       25946        0.0        99.992292   \n",
       "..                         ...         ...        ...              ...   \n",
       "337               variableData           0    25948.0         0.000000   \n",
       "339   variableData_data_isRead           0    25948.0         0.000000   \n",
       "338  variableData_data_isFresh           0    25749.0         0.000000   \n",
       "342                  zestimate           0     4427.0         0.000000   \n",
       "343                       zpid           0        0.0         0.000000   \n",
       "\n",
       "     NaN Percentage  \n",
       "138        0.000000  \n",
       "136        0.000000  \n",
       "305        0.000000  \n",
       "137        0.000000  \n",
       "130        0.000000  \n",
       "..              ...  \n",
       "337      100.000000  \n",
       "339      100.000000  \n",
       "338       99.233082  \n",
       "342       17.061045  \n",
       "343        0.000000  \n",
       "\n",
       "[344 rows x 5 columns]"
      ]
     },
     "execution_count": 25,
     "metadata": {},
     "output_type": "execute_result"
    }
   ],
   "source": [
    "summary_df.sort_values('Null Percentage', ascending=False, inplace=True)\n",
    "summary_df"
   ]
  },
  {
   "cell_type": "code",
   "execution_count": 26,
   "metadata": {},
   "outputs": [
    {
     "data": {
      "text/html": [
       "<div>\n",
       "<style scoped>\n",
       "    .dataframe tbody tr th:only-of-type {\n",
       "        vertical-align: middle;\n",
       "    }\n",
       "\n",
       "    .dataframe tbody tr th {\n",
       "        vertical-align: top;\n",
       "    }\n",
       "\n",
       "    .dataframe thead th {\n",
       "        text-align: right;\n",
       "    }\n",
       "</style>\n",
       "<table border=\"1\" class=\"dataframe\">\n",
       "  <thead>\n",
       "    <tr style=\"text-align: right;\">\n",
       "      <th></th>\n",
       "      <th>Column</th>\n",
       "      <th>Null Count</th>\n",
       "      <th>NaN Count</th>\n",
       "      <th>Null Percentage</th>\n",
       "      <th>NaN Percentage</th>\n",
       "    </tr>\n",
       "  </thead>\n",
       "  <tbody>\n",
       "    <tr>\n",
       "      <th>339</th>\n",
       "      <td>variableData_data_isRead</td>\n",
       "      <td>0</td>\n",
       "      <td>25948.0</td>\n",
       "      <td>0.000000</td>\n",
       "      <td>100.000000</td>\n",
       "    </tr>\n",
       "    <tr>\n",
       "      <th>337</th>\n",
       "      <td>variableData</td>\n",
       "      <td>0</td>\n",
       "      <td>25948.0</td>\n",
       "      <td>0.000000</td>\n",
       "      <td>100.000000</td>\n",
       "    </tr>\n",
       "    <tr>\n",
       "      <th>11</th>\n",
       "      <td>carouselPhotos</td>\n",
       "      <td>0</td>\n",
       "      <td>25948.0</td>\n",
       "      <td>0.000000</td>\n",
       "      <td>100.000000</td>\n",
       "    </tr>\n",
       "    <tr>\n",
       "      <th>257</th>\n",
       "      <td>hdpData_homeInfo_listing_sub_type_is_forAuction</td>\n",
       "      <td>0</td>\n",
       "      <td>25945.0</td>\n",
       "      <td>0.000000</td>\n",
       "      <td>99.988438</td>\n",
       "    </tr>\n",
       "    <tr>\n",
       "      <th>250</th>\n",
       "      <td>hdpData_homeInfo_isRentalWithBasePrice</td>\n",
       "      <td>0</td>\n",
       "      <td>25945.0</td>\n",
       "      <td>0.000000</td>\n",
       "      <td>99.988438</td>\n",
       "    </tr>\n",
       "    <tr>\n",
       "      <th>...</th>\n",
       "      <td>...</td>\n",
       "      <td>...</td>\n",
       "      <td>...</td>\n",
       "      <td>...</td>\n",
       "      <td>...</td>\n",
       "    </tr>\n",
       "    <tr>\n",
       "      <th>25</th>\n",
       "      <td>carouselPhotos_111_url</td>\n",
       "      <td>25852</td>\n",
       "      <td>0.0</td>\n",
       "      <td>99.630029</td>\n",
       "      <td>0.000000</td>\n",
       "    </tr>\n",
       "    <tr>\n",
       "      <th>22</th>\n",
       "      <td>carouselPhotos_109_url</td>\n",
       "      <td>25849</td>\n",
       "      <td>0.0</td>\n",
       "      <td>99.618468</td>\n",
       "      <td>0.000000</td>\n",
       "    </tr>\n",
       "    <tr>\n",
       "      <th>21</th>\n",
       "      <td>carouselPhotos_108_url</td>\n",
       "      <td>25846</td>\n",
       "      <td>0.0</td>\n",
       "      <td>99.606906</td>\n",
       "      <td>0.000000</td>\n",
       "    </tr>\n",
       "    <tr>\n",
       "      <th>20</th>\n",
       "      <td>carouselPhotos_107_url</td>\n",
       "      <td>25844</td>\n",
       "      <td>0.0</td>\n",
       "      <td>99.599198</td>\n",
       "      <td>0.000000</td>\n",
       "    </tr>\n",
       "    <tr>\n",
       "      <th>210</th>\n",
       "      <td>carouselPhotos_86_url</td>\n",
       "      <td>25771</td>\n",
       "      <td>0.0</td>\n",
       "      <td>99.317867</td>\n",
       "      <td>0.000000</td>\n",
       "    </tr>\n",
       "  </tbody>\n",
       "</table>\n",
       "<p>344 rows × 5 columns</p>\n",
       "</div>"
      ],
      "text/plain": [
       "                                              Column  Null Count  NaN Count  \\\n",
       "339                         variableData_data_isRead           0    25948.0   \n",
       "337                                     variableData           0    25948.0   \n",
       "11                                    carouselPhotos           0    25948.0   \n",
       "257  hdpData_homeInfo_listing_sub_type_is_forAuction           0    25945.0   \n",
       "250           hdpData_homeInfo_isRentalWithBasePrice           0    25945.0   \n",
       "..                                               ...         ...        ...   \n",
       "25                            carouselPhotos_111_url       25852        0.0   \n",
       "22                            carouselPhotos_109_url       25849        0.0   \n",
       "21                            carouselPhotos_108_url       25846        0.0   \n",
       "20                            carouselPhotos_107_url       25844        0.0   \n",
       "210                            carouselPhotos_86_url       25771        0.0   \n",
       "\n",
       "     Null Percentage  NaN Percentage  \n",
       "339         0.000000      100.000000  \n",
       "337         0.000000      100.000000  \n",
       "11          0.000000      100.000000  \n",
       "257         0.000000       99.988438  \n",
       "250         0.000000       99.988438  \n",
       "..               ...             ...  \n",
       "25         99.630029        0.000000  \n",
       "22         99.618468        0.000000  \n",
       "21         99.606906        0.000000  \n",
       "20         99.599198        0.000000  \n",
       "210        99.317867        0.000000  \n",
       "\n",
       "[344 rows x 5 columns]"
      ]
     },
     "execution_count": 26,
     "metadata": {},
     "output_type": "execute_result"
    }
   ],
   "source": [
    "summary_df.sort_values('NaN Percentage', ascending=False, inplace=True)\n",
    "summary_df"
   ]
  },
  {
   "cell_type": "markdown",
   "metadata": {},
   "source": [
    "A lot of columns are redundant due to very high numbers of NaN or NULL values. Dropping all columns that surpass 80% NULL/NaN rate."
   ]
  },
  {
   "cell_type": "code",
   "execution_count": 27,
   "metadata": {},
   "outputs": [],
   "source": [
    "# Write a list of the columns with more than 80% NULL values\n",
    "columns_to_drop = summary_df[summary_df['Null Percentage'] > 80]['Column'].tolist()\n",
    "# Add columns with more than 80% NaN values\n",
    "columns_to_drop.extend(summary_df[summary_df['NaN Percentage'] > 80]['Column'].tolist())\n",
    "\n",
    "# Drop the columns\n",
    "silver_df_spark = silver_df_spark.drop(*columns_to_drop)\n"
   ]
  },
  {
   "cell_type": "code",
   "execution_count": 30,
   "metadata": {},
   "outputs": [
    {
     "data": {
      "text/plain": [
       "['zpid',\n",
       " 'id',\n",
       " 'rawHomeStatusCd',\n",
       " 'marketingStatusSimplifiedCd',\n",
       " 'imgSrc',\n",
       " 'hasImage',\n",
       " 'detailUrl',\n",
       " 'statusType',\n",
       " 'statusText',\n",
       " 'countryCurrency',\n",
       " 'price',\n",
       " 'unformattedPrice',\n",
       " 'address',\n",
       " 'addressStreet',\n",
       " 'addressCity',\n",
       " 'addressState',\n",
       " 'addressZipcode',\n",
       " 'isUndisclosedAddress',\n",
       " 'beds',\n",
       " 'baths',\n",
       " 'area',\n",
       " 'latLong_latitude',\n",
       " 'latLong_longitude',\n",
       " 'isZillowOwned',\n",
       " 'variableData_type',\n",
       " 'variableData_text',\n",
       " 'hdpData_homeInfo_zpid',\n",
       " 'hdpData_homeInfo_streetAddress',\n",
       " 'hdpData_homeInfo_zipcode',\n",
       " 'hdpData_homeInfo_city',\n",
       " 'hdpData_homeInfo_state',\n",
       " 'hdpData_homeInfo_latitude',\n",
       " 'hdpData_homeInfo_longitude',\n",
       " 'hdpData_homeInfo_price',\n",
       " 'hdpData_homeInfo_bathrooms',\n",
       " 'hdpData_homeInfo_bedrooms',\n",
       " 'hdpData_homeInfo_livingArea',\n",
       " 'hdpData_homeInfo_homeType',\n",
       " 'hdpData_homeInfo_homeStatus',\n",
       " 'hdpData_homeInfo_daysOnZillow',\n",
       " 'hdpData_homeInfo_isFeatured',\n",
       " 'hdpData_homeInfo_shouldHighlight',\n",
       " 'hdpData_homeInfo_zestimate',\n",
       " 'hdpData_homeInfo_rentZestimate',\n",
       " 'hdpData_homeInfo_listing_sub_type_is_FSBA',\n",
       " 'hdpData_homeInfo_isUnmappable',\n",
       " 'hdpData_homeInfo_isPreforeclosureAuction',\n",
       " 'hdpData_homeInfo_homeStatusForHDP',\n",
       " 'hdpData_homeInfo_priceForHDP',\n",
       " 'hdpData_homeInfo_timeOnZillow',\n",
       " 'hdpData_homeInfo_isNonOwnerOccupied',\n",
       " 'hdpData_homeInfo_isPremierBuilder',\n",
       " 'hdpData_homeInfo_isZillowOwned',\n",
       " 'hdpData_homeInfo_currency',\n",
       " 'hdpData_homeInfo_country',\n",
       " 'hdpData_homeInfo_taxAssessedValue',\n",
       " 'hdpData_homeInfo_lotAreaValue',\n",
       " 'hdpData_homeInfo_lotAreaUnit',\n",
       " 'hdpData_homeInfo_isShowcaseListing',\n",
       " 'isSaved',\n",
       " 'isUserClaimingOwner',\n",
       " 'isUserConfirmedClaim',\n",
       " 'pgapt',\n",
       " 'sgapt',\n",
       " 'zestimate',\n",
       " 'shouldShowZestimateAsPrice',\n",
       " 'has3DModel',\n",
       " 'hasVideo',\n",
       " 'isHomeRec',\n",
       " 'hasAdditionalAttributions',\n",
       " 'isFeaturedListing',\n",
       " 'isShowcaseListing',\n",
       " 'list',\n",
       " 'relaxed',\n",
       " 'brokerName',\n",
       " 'carouselPhotos_0_url',\n",
       " 'carouselPhotos_1_url',\n",
       " 'carouselPhotos_2_url',\n",
       " 'carouselPhotos_3_url',\n",
       " 'carouselPhotos_4_url',\n",
       " 'carouselPhotos_5_url',\n",
       " 'carouselPhotos_6_url',\n",
       " 'carouselPhotos_7_url',\n",
       " 'carouselPhotos_8_url',\n",
       " 'carouselPhotos_9_url',\n",
       " 'carouselPhotos_10_url',\n",
       " 'carouselPhotos_11_url',\n",
       " 'carouselPhotos_12_url',\n",
       " 'carouselPhotos_13_url',\n",
       " 'carouselPhotos_14_url',\n",
       " 'carouselPhotos_15_url',\n",
       " 'carouselPhotos_16_url',\n",
       " 'carouselPhotos_17_url',\n",
       " 'carouselPhotos_18_url',\n",
       " 'carouselPhotos_19_url',\n",
       " 'carouselPhotos_20_url',\n",
       " 'carouselPhotos_21_url',\n",
       " 'carouselPhotos_22_url',\n",
       " 'carouselPhotos_23_url',\n",
       " 'carouselPhotos_24_url',\n",
       " 'carouselPhotos_25_url',\n",
       " 'carouselPhotos_26_url',\n",
       " 'carouselPhotos_27_url',\n",
       " 'carouselPhotos_28_url',\n",
       " 'carouselPhotos_29_url',\n",
       " 'carouselPhotos_30_url',\n",
       " 'carouselPhotos_31_url',\n",
       " 'carouselPhotos_32_url',\n",
       " 'carouselPhotos_33_url',\n",
       " 'carouselPhotos_34_url',\n",
       " 'carouselPhotos_35_url',\n",
       " 'carouselPhotos_36_url',\n",
       " 'carouselPhotos_37_url',\n",
       " 'carouselPhotos_38_url',\n",
       " 'carouselPhotos_39_url',\n",
       " 'carouselPhotos_40_url',\n",
       " 'carouselPhotos_41_url',\n",
       " 'carouselPhotos_42_url',\n",
       " 'providerListingId',\n",
       " 'builderName',\n",
       " 'flexFieldText',\n",
       " 'flexFieldType',\n",
       " 'hdpData_homeInfo_datePriceChanged',\n",
       " 'hdpData_homeInfo_priceReduction',\n",
       " 'hdpData_homeInfo_priceChange',\n",
       " 'hdpData_homeInfo_listing_sub_type_is_newHome',\n",
       " 'hdpData_homeInfo_providerListingID',\n",
       " 'hdpData_homeInfo_newConstructionType',\n",
       " 'hdpData_homeInfo_unit']"
      ]
     },
     "execution_count": 30,
     "metadata": {},
     "output_type": "execute_result"
    }
   ],
   "source": [
    "silver_df_spark.columns"
   ]
  },
  {
   "cell_type": "markdown",
   "metadata": {},
   "source": [
    "There's multiple possible indexes, zpid (the zillow property ID), id, providerListingId and hdpData_homeInfo_zpid (which may be a duplicate of zpid).\n",
    "The first thing that needs to be confirmed is whether the hdpData_home_Info versions of some columns are duplicate data or not."
   ]
  },
  {
   "cell_type": "markdown",
   "metadata": {},
   "source": [
    "The most important data is the index (we're using zpid), unformattedPrice, beds, baths, area, address"
   ]
  },
  {
   "cell_type": "code",
   "execution_count": 33,
   "metadata": {},
   "outputs": [
    {
     "name": "stderr",
     "output_type": "stream",
     "text": [
      "24/10/04 22:03:34 WARN TaskSetManager: Stage 41 contains a task of very large size (10590 KiB). The maximum recommended task size is 1000 KiB.\n",
      "                                                                                \r"
     ]
    },
    {
     "data": {
      "text/plain": [
       "25948"
      ]
     },
     "execution_count": 33,
     "metadata": {},
     "output_type": "execute_result"
    }
   ],
   "source": [
    "silver_df_spark.count()"
   ]
  },
  {
   "cell_type": "code",
   "execution_count": 32,
   "metadata": {},
   "outputs": [
    {
     "name": "stderr",
     "output_type": "stream",
     "text": [
      "24/10/04 22:03:14 WARN TaskSetManager: Stage 38 contains a task of very large size (10590 KiB). The maximum recommended task size is 1000 KiB.\n",
      "                                                                                \r"
     ]
    },
    {
     "data": {
      "text/plain": [
       "22683"
      ]
     },
     "execution_count": 32,
     "metadata": {},
     "output_type": "execute_result"
    }
   ],
   "source": [
    "# Drop rows with nulls in critical columns\n",
    "silver_df_clean_1 = silver_df_spark.dropna(subset=['zpid', 'unformattedPrice', 'beds', 'baths', 'area', 'address'])\n",
    "silver_df_clean_1.count()"
   ]
  },
  {
   "cell_type": "code",
   "execution_count": 34,
   "metadata": {},
   "outputs": [
    {
     "name": "stderr",
     "output_type": "stream",
     "text": [
      "24/10/04 22:06:46 WARN TaskSetManager: Stage 44 contains a task of very large size (10590 KiB). The maximum recommended task size is 1000 KiB.\n"
     ]
    },
    {
     "name": "stdout",
     "output_type": "stream",
     "text": [
      "+----+-------------------------+\n",
      "|beds|hdpData_homeInfo_bedrooms|\n",
      "+----+-------------------------+\n",
      "| 4.0|                      4.0|\n",
      "| 4.0|                      4.0|\n",
      "| 5.0|                      5.0|\n",
      "| 5.0|                      5.0|\n",
      "| 4.0|                      4.0|\n",
      "+----+-------------------------+\n",
      "only showing top 5 rows\n",
      "\n"
     ]
    }
   ],
   "source": [
    "# Compare values\n",
    "silver_df_clean_1.select('beds', 'hdpData_homeInfo_bedrooms').show(5)\n"
   ]
  },
  {
   "cell_type": "code",
   "execution_count": 38,
   "metadata": {},
   "outputs": [
    {
     "name": "stderr",
     "output_type": "stream",
     "text": [
      "24/10/04 22:08:46 WARN TaskSetManager: Stage 45 contains a task of very large size (10590 KiB). The maximum recommended task size is 1000 KiB.\n"
     ]
    },
    {
     "name": "stdout",
     "output_type": "stream",
     "text": [
      "+------+---------------------------+\n",
      "|  area|hdpData_homeInfo_livingArea|\n",
      "+------+---------------------------+\n",
      "|1943.0|                     1943.0|\n",
      "|2638.0|                     2638.0|\n",
      "|3804.0|                     3804.0|\n",
      "|3042.0|                     3042.0|\n",
      "|3420.0|                     3420.0|\n",
      "+------+---------------------------+\n",
      "only showing top 5 rows\n",
      "\n"
     ]
    }
   ],
   "source": [
    "silver_df_clean_1.select('area', 'hdpData_homeInfo_livingArea').show(5)\n"
   ]
  },
  {
   "cell_type": "markdown",
   "metadata": {},
   "source": [
    "Since we're seeing duplicated data, it might be worth checking all the columns to see if more duplicated ones exist."
   ]
  },
  {
   "cell_type": "code",
   "execution_count": 41,
   "metadata": {},
   "outputs": [
    {
     "name": "stderr",
     "output_type": "stream",
     "text": [
      "24/10/04 22:14:06 WARN TaskSetManager: Stage 190 contains a task of very large size (10590 KiB). The maximum recommended task size is 1000 KiB.\n",
      "24/10/04 22:14:09 WARN TaskSetManager: Stage 193 contains a task of very large size (10590 KiB). The maximum recommended task size is 1000 KiB.\n",
      "24/10/04 22:14:11 WARN TaskSetManager: Stage 196 contains a task of very large size (10590 KiB). The maximum recommended task size is 1000 KiB.\n",
      "24/10/04 22:14:14 WARN TaskSetManager: Stage 199 contains a task of very large size (10590 KiB). The maximum recommended task size is 1000 KiB.\n",
      "24/10/04 22:14:17 WARN TaskSetManager: Stage 202 contains a task of very large size (10590 KiB). The maximum recommended task size is 1000 KiB.\n",
      "24/10/04 22:14:20 WARN TaskSetManager: Stage 205 contains a task of very large size (10590 KiB). The maximum recommended task size is 1000 KiB.\n",
      "24/10/04 22:14:22 WARN TaskSetManager: Stage 208 contains a task of very large size (10590 KiB). The maximum recommended task size is 1000 KiB.\n",
      "24/10/04 22:14:25 WARN TaskSetManager: Stage 211 contains a task of very large size (10590 KiB). The maximum recommended task size is 1000 KiB.\n",
      "24/10/04 22:14:28 WARN TaskSetManager: Stage 214 contains a task of very large size (10590 KiB). The maximum recommended task size is 1000 KiB.\n",
      "24/10/04 22:14:31 WARN TaskSetManager: Stage 217 contains a task of very large size (10590 KiB). The maximum recommended task size is 1000 KiB.\n",
      "24/10/04 22:14:34 WARN TaskSetManager: Stage 220 contains a task of very large size (10590 KiB). The maximum recommended task size is 1000 KiB.\n",
      "24/10/04 22:14:36 WARN TaskSetManager: Stage 223 contains a task of very large size (10590 KiB). The maximum recommended task size is 1000 KiB.\n",
      "24/10/04 22:14:39 WARN TaskSetManager: Stage 226 contains a task of very large size (10590 KiB). The maximum recommended task size is 1000 KiB.\n",
      "24/10/04 22:14:41 WARN TaskSetManager: Stage 229 contains a task of very large size (10590 KiB). The maximum recommended task size is 1000 KiB.\n",
      "24/10/04 22:14:44 WARN TaskSetManager: Stage 232 contains a task of very large size (10590 KiB). The maximum recommended task size is 1000 KiB.\n",
      "24/10/04 22:14:47 WARN TaskSetManager: Stage 235 contains a task of very large size (10590 KiB). The maximum recommended task size is 1000 KiB.\n",
      "24/10/04 22:14:49 WARN TaskSetManager: Stage 238 contains a task of very large size (10590 KiB). The maximum recommended task size is 1000 KiB.\n",
      "24/10/04 22:14:52 WARN TaskSetManager: Stage 241 contains a task of very large size (10590 KiB). The maximum recommended task size is 1000 KiB.\n",
      "24/10/04 22:14:55 WARN TaskSetManager: Stage 244 contains a task of very large size (10590 KiB). The maximum recommended task size is 1000 KiB.\n",
      "24/10/04 22:14:57 WARN TaskSetManager: Stage 247 contains a task of very large size (10590 KiB). The maximum recommended task size is 1000 KiB.\n",
      "24/10/04 22:15:00 WARN TaskSetManager: Stage 250 contains a task of very large size (10590 KiB). The maximum recommended task size is 1000 KiB.\n",
      "24/10/04 22:15:03 WARN TaskSetManager: Stage 253 contains a task of very large size (10590 KiB). The maximum recommended task size is 1000 KiB.\n",
      "24/10/04 22:15:05 WARN TaskSetManager: Stage 256 contains a task of very large size (10590 KiB). The maximum recommended task size is 1000 KiB.\n",
      "24/10/04 22:15:08 WARN TaskSetManager: Stage 259 contains a task of very large size (10590 KiB). The maximum recommended task size is 1000 KiB.\n",
      "24/10/04 22:15:11 WARN TaskSetManager: Stage 262 contains a task of very large size (10590 KiB). The maximum recommended task size is 1000 KiB.\n",
      "24/10/04 22:15:14 WARN TaskSetManager: Stage 265 contains a task of very large size (10590 KiB). The maximum recommended task size is 1000 KiB.\n",
      "24/10/04 22:15:16 WARN TaskSetManager: Stage 268 contains a task of very large size (10590 KiB). The maximum recommended task size is 1000 KiB.\n",
      "24/10/04 22:15:19 WARN TaskSetManager: Stage 271 contains a task of very large size (10590 KiB). The maximum recommended task size is 1000 KiB.\n",
      "24/10/04 22:15:21 WARN TaskSetManager: Stage 274 contains a task of very large size (10590 KiB). The maximum recommended task size is 1000 KiB.\n",
      "24/10/04 22:15:25 WARN TaskSetManager: Stage 277 contains a task of very large size (10590 KiB). The maximum recommended task size is 1000 KiB.\n",
      "24/10/04 22:15:27 WARN TaskSetManager: Stage 280 contains a task of very large size (10590 KiB). The maximum recommended task size is 1000 KiB.\n",
      "24/10/04 22:15:30 WARN TaskSetManager: Stage 283 contains a task of very large size (10590 KiB). The maximum recommended task size is 1000 KiB.\n",
      "24/10/04 22:15:33 WARN TaskSetManager: Stage 286 contains a task of very large size (10590 KiB). The maximum recommended task size is 1000 KiB.\n",
      "24/10/04 22:15:35 WARN TaskSetManager: Stage 289 contains a task of very large size (10590 KiB). The maximum recommended task size is 1000 KiB.\n",
      "24/10/04 22:15:38 WARN TaskSetManager: Stage 292 contains a task of very large size (10590 KiB). The maximum recommended task size is 1000 KiB.\n",
      "24/10/04 22:15:41 WARN TaskSetManager: Stage 295 contains a task of very large size (10590 KiB). The maximum recommended task size is 1000 KiB.\n",
      "24/10/04 22:15:44 WARN TaskSetManager: Stage 298 contains a task of very large size (10590 KiB). The maximum recommended task size is 1000 KiB.\n",
      "24/10/04 22:15:46 WARN TaskSetManager: Stage 301 contains a task of very large size (10590 KiB). The maximum recommended task size is 1000 KiB.\n",
      "24/10/04 22:15:49 WARN TaskSetManager: Stage 304 contains a task of very large size (10590 KiB). The maximum recommended task size is 1000 KiB.\n",
      "[Stage 304:>                                                      (0 + 12) / 12]\r"
     ]
    },
    {
     "name": "stdout",
     "output_type": "stream",
     "text": [
      "Identical columns:\n",
      "zpid is identical to id\n",
      "zpid is identical to hdpData_homeInfo_zpid\n",
      "id is identical to hdpData_homeInfo_zpid\n",
      "price is identical to unformattedPrice\n",
      "price is identical to hdpData_homeInfo_price\n",
      "price is identical to hdpData_homeInfo_priceForHDP\n",
      "price is identical to shouldShowZestimateAsPrice\n",
      "price is identical to hdpData_homeInfo_datePriceChanged\n",
      "price is identical to hdpData_homeInfo_priceChange\n",
      "address is identical to addressZipcode\n",
      "address is identical to isUndisclosedAddress\n",
      "area is identical to hdpData_homeInfo_livingArea\n",
      "area is identical to hdpData_homeInfo_lotAreaUnit\n",
      "isZillowOwned is identical to hdpData_homeInfo_isZillowOwned\n",
      "hdpData_homeInfo_price is identical to hdpData_homeInfo_priceForHDP\n",
      "hdpData_homeInfo_price is identical to hdpData_homeInfo_priceReduction\n",
      "hdpData_homeInfo_homeStatus is identical to hdpData_homeInfo_homeStatusForHDP\n",
      "hdpData_homeInfo_zestimate is identical to zestimate\n",
      "hdpData_homeInfo_isShowcaseListing is identical to isShowcaseListing\n",
      "providerListingId is identical to hdpData_homeInfo_providerListingID\n"
     ]
    },
    {
     "name": "stderr",
     "output_type": "stream",
     "text": [
      "                                                                                \r"
     ]
    }
   ],
   "source": [
    "from pyspark.sql.functions import col\n",
    "\n",
    "def find_similar_headers(df):\n",
    "    columns = [col.lower() for col in df.columns]\n",
    "    similar_columns = []\n",
    "    for i in range(len(columns)):\n",
    "        for j in range(i + 1, len(columns)):\n",
    "            if columns[i] in columns[j] or columns[j] in columns[i]:\n",
    "                similar_columns.append((df.columns[i], df.columns[j]))\n",
    "    return similar_columns\n",
    "\n",
    "def check_identical_columns(df, column_pairs):\n",
    "    identical_columns = []\n",
    "    for col1, col2 in column_pairs:\n",
    "        if df.filter(col(col1) != col(col2)).count() == 0:\n",
    "            identical_columns.append((col1, col2))\n",
    "    return identical_columns\n",
    "\n",
    "similar_headers = find_similar_headers(silver_df_clean_1)\n",
    "identical_columns = check_identical_columns(silver_df_clean_1, similar_headers)\n",
    "\n",
    "if identical_columns:\n",
    "    print(\"Identical columns:\")\n",
    "    for col_pair in identical_columns:\n",
    "        print(f\"{col_pair[0]} is identical to {col_pair[1]}\")\n",
    "else:\n",
    "    print(\"No identical columns found among similar headers.\")\n"
   ]
  },
  {
   "cell_type": "markdown",
   "metadata": {},
   "source": [
    "A lot of columns are identical to each other. Dropping all but one."
   ]
  },
  {
   "cell_type": "code",
   "execution_count": 63,
   "metadata": {},
   "outputs": [
    {
     "data": {
      "text/plain": [
       "['zpid',\n",
       " 'rawHomeStatusCd',\n",
       " 'marketingStatusSimplifiedCd',\n",
       " 'imgSrc',\n",
       " 'hasImage',\n",
       " 'detailUrl',\n",
       " 'statusType',\n",
       " 'statusText',\n",
       " 'countryCurrency',\n",
       " 'price',\n",
       " 'unformattedPrice',\n",
       " 'address',\n",
       " 'beds',\n",
       " 'baths',\n",
       " 'area',\n",
       " 'latLong_latitude',\n",
       " 'latLong_longitude',\n",
       " 'isZillowOwned',\n",
       " 'variableData_type',\n",
       " 'variableData_text',\n",
       " 'hdpData_homeInfo_zipcode',\n",
       " 'hdpData_homeInfo_city',\n",
       " 'hdpData_homeInfo_state',\n",
       " 'hdpData_homeInfo_latitude',\n",
       " 'hdpData_homeInfo_longitude',\n",
       " 'hdpData_homeInfo_bathrooms',\n",
       " 'hdpData_homeInfo_bedrooms',\n",
       " 'hdpData_homeInfo_homeType',\n",
       " 'hdpData_homeInfo_homeStatus',\n",
       " 'hdpData_homeInfo_daysOnZillow',\n",
       " 'hdpData_homeInfo_isFeatured',\n",
       " 'hdpData_homeInfo_shouldHighlight',\n",
       " 'hdpData_homeInfo_zestimate',\n",
       " 'hdpData_homeInfo_rentZestimate',\n",
       " 'hdpData_homeInfo_listing_sub_type_is_FSBA',\n",
       " 'hdpData_homeInfo_isUnmappable',\n",
       " 'hdpData_homeInfo_isPreforeclosureAuction',\n",
       " 'hdpData_homeInfo_timeOnZillow',\n",
       " 'hdpData_homeInfo_isNonOwnerOccupied',\n",
       " 'hdpData_homeInfo_isPremierBuilder',\n",
       " 'hdpData_homeInfo_currency',\n",
       " 'hdpData_homeInfo_country',\n",
       " 'hdpData_homeInfo_taxAssessedValue',\n",
       " 'hdpData_homeInfo_isShowcaseListing',\n",
       " 'isSaved',\n",
       " 'isUserClaimingOwner',\n",
       " 'isUserConfirmedClaim',\n",
       " 'pgapt',\n",
       " 'sgapt',\n",
       " 'zestimate',\n",
       " 'has3DModel',\n",
       " 'isHomeRec',\n",
       " 'hasAdditionalAttributions',\n",
       " 'isFeaturedListing',\n",
       " 'isShowcaseListing',\n",
       " 'relaxed',\n",
       " 'brokerName',\n",
       " 'carouselPhotos_0_url',\n",
       " 'carouselPhotos_1_url',\n",
       " 'carouselPhotos_2_url',\n",
       " 'carouselPhotos_3_url',\n",
       " 'carouselPhotos_4_url',\n",
       " 'carouselPhotos_5_url',\n",
       " 'carouselPhotos_6_url',\n",
       " 'carouselPhotos_7_url',\n",
       " 'carouselPhotos_8_url',\n",
       " 'carouselPhotos_9_url',\n",
       " 'carouselPhotos_10_url',\n",
       " 'carouselPhotos_11_url',\n",
       " 'carouselPhotos_12_url',\n",
       " 'carouselPhotos_13_url',\n",
       " 'carouselPhotos_14_url',\n",
       " 'carouselPhotos_15_url',\n",
       " 'carouselPhotos_16_url',\n",
       " 'carouselPhotos_17_url',\n",
       " 'carouselPhotos_18_url',\n",
       " 'carouselPhotos_19_url',\n",
       " 'carouselPhotos_20_url',\n",
       " 'carouselPhotos_21_url',\n",
       " 'carouselPhotos_22_url',\n",
       " 'carouselPhotos_23_url',\n",
       " 'carouselPhotos_24_url',\n",
       " 'carouselPhotos_25_url',\n",
       " 'carouselPhotos_26_url',\n",
       " 'carouselPhotos_27_url',\n",
       " 'carouselPhotos_28_url',\n",
       " 'carouselPhotos_29_url',\n",
       " 'carouselPhotos_30_url',\n",
       " 'carouselPhotos_31_url',\n",
       " 'carouselPhotos_32_url',\n",
       " 'carouselPhotos_33_url',\n",
       " 'carouselPhotos_34_url',\n",
       " 'carouselPhotos_35_url',\n",
       " 'carouselPhotos_36_url',\n",
       " 'carouselPhotos_37_url',\n",
       " 'carouselPhotos_38_url',\n",
       " 'carouselPhotos_39_url',\n",
       " 'carouselPhotos_40_url',\n",
       " 'carouselPhotos_41_url',\n",
       " 'carouselPhotos_42_url',\n",
       " 'providerListingId',\n",
       " 'builderName',\n",
       " 'flexFieldText',\n",
       " 'flexFieldType',\n",
       " 'hdpData_homeInfo_newConstructionType',\n",
       " 'hdpData_homeInfo_unit']"
      ]
     },
     "execution_count": 63,
     "metadata": {},
     "output_type": "execute_result"
    }
   ],
   "source": [
    "# Drop columns that are identical \n",
    "\n",
    "columns_to_keep = [\"unformattedPrice\", \"zpid\",\"address\",\"area\",\"isZillowOwned\",\"hdpData_homeInfo_homeStatus\",\"zestimate\",\"isShowcaseListing\",\"providerListingId\"]\n",
    "\n",
    "# Drop the columns in the pairs that are not in the columns_to_keep list, and keep the rest in the DataFrame\n",
    "columns_to_drop = [col_pair[1] for col_pair in similar_headers if col_pair[1] not in columns_to_keep]\n",
    "silver_df_clean_2 = silver_df_clean_1.drop(*columns_to_drop)\n",
    "\n",
    "silver_df_clean_2.columns\n"
   ]
  },
  {
   "cell_type": "markdown",
   "metadata": {},
   "source": [
    "Deal with other missing data by just filling with placeholders."
   ]
  },
  {
   "cell_type": "code",
   "execution_count": 64,
   "metadata": {},
   "outputs": [
    {
     "name": "stderr",
     "output_type": "stream",
     "text": [
      "24/10/04 22:40:31 WARN TaskSetManager: Stage 322 contains a task of very large size (10590 KiB). The maximum recommended task size is 1000 KiB.\n",
      "24/10/04 22:40:34 WARN TaskSetManager: Stage 325 contains a task of very large size (10590 KiB). The maximum recommended task size is 1000 KiB.\n",
      "24/10/04 22:40:37 WARN TaskSetManager: Stage 328 contains a task of very large size (10590 KiB). The maximum recommended task size is 1000 KiB.\n",
      "24/10/04 22:40:40 WARN TaskSetManager: Stage 331 contains a task of very large size (10590 KiB). The maximum recommended task size is 1000 KiB.\n",
      "24/10/04 22:40:43 WARN TaskSetManager: Stage 334 contains a task of very large size (10590 KiB). The maximum recommended task size is 1000 KiB.\n",
      "24/10/04 22:40:46 WARN TaskSetManager: Stage 337 contains a task of very large size (10590 KiB). The maximum recommended task size is 1000 KiB.\n",
      "24/10/04 22:40:49 WARN TaskSetManager: Stage 340 contains a task of very large size (10590 KiB). The maximum recommended task size is 1000 KiB.\n",
      "24/10/04 22:40:52 WARN TaskSetManager: Stage 343 contains a task of very large size (10590 KiB). The maximum recommended task size is 1000 KiB.\n",
      "24/10/04 22:40:55 WARN TaskSetManager: Stage 346 contains a task of very large size (10590 KiB). The maximum recommended task size is 1000 KiB.\n",
      "24/10/04 22:40:57 WARN TaskSetManager: Stage 349 contains a task of very large size (10590 KiB). The maximum recommended task size is 1000 KiB.\n",
      "24/10/04 22:41:00 WARN TaskSetManager: Stage 352 contains a task of very large size (10590 KiB). The maximum recommended task size is 1000 KiB.\n",
      "24/10/04 22:41:03 WARN TaskSetManager: Stage 355 contains a task of very large size (10590 KiB). The maximum recommended task size is 1000 KiB.\n",
      "24/10/04 22:41:06 WARN TaskSetManager: Stage 358 contains a task of very large size (10590 KiB). The maximum recommended task size is 1000 KiB.\n",
      "24/10/04 22:41:09 WARN TaskSetManager: Stage 361 contains a task of very large size (10590 KiB). The maximum recommended task size is 1000 KiB.\n",
      "24/10/04 22:41:12 WARN TaskSetManager: Stage 364 contains a task of very large size (10590 KiB). The maximum recommended task size is 1000 KiB.\n",
      "24/10/04 22:41:15 WARN TaskSetManager: Stage 367 contains a task of very large size (10590 KiB). The maximum recommended task size is 1000 KiB.\n",
      "                                                                                \r"
     ]
    }
   ],
   "source": [
    "from pyspark.sql.functions import mean, col\n",
    "\n",
    "# Fill missing values in string columns with 'Not Provided'\n",
    "string_columns = [column for column in silver_df_clean_2.columns if silver_df_clean_2.schema[column].dataType.simpleString() == 'string']\n",
    "silver_df_clean_2 = silver_df_clean_2.fillna('Not Provided', subset=string_columns)\n",
    "\n",
    "# Fill missing values in numeric columns with the mean value\n",
    "numeric_columns = [column for column in silver_df_clean_2.columns if silver_df_clean_2.schema[column].dataType.simpleString() in ['double', 'float']]\n",
    "for column in numeric_columns:\n",
    "    mean_value = silver_df_clean_2.select(mean(col(column))).collect()[0][0]\n",
    "    silver_df_clean_2 = silver_df_clean_2.fillna({column: mean_value})"
   ]
  },
  {
   "cell_type": "code",
   "execution_count": 72,
   "metadata": {},
   "outputs": [
    {
     "data": {
      "text/plain": [
       "['zpid',\n",
       " 'price',\n",
       " 'address',\n",
       " 'beds',\n",
       " 'baths',\n",
       " 'area',\n",
       " 'latLong_latitude',\n",
       " 'latLong_longitude',\n",
       " 'zipcode',\n",
       " 'city',\n",
       " 'state',\n",
       " 'latitude',\n",
       " 'longitude',\n",
       " 'homeType',\n",
       " 'homeStatus',\n",
       " 'daysOnZillow',\n",
       " 'zestimate',\n",
       " 'rentZestimate',\n",
       " 'timeOnZillow',\n",
       " 'currency',\n",
       " 'country',\n",
       " 'taxAssessedValue',\n",
       " 'zestimate',\n",
       " 'brokerName',\n",
       " 'builderName',\n",
       " 'unit']"
      ]
     },
     "execution_count": 72,
     "metadata": {},
     "output_type": "execute_result"
    }
   ],
   "source": [
    "# Drop carouselPhotos columns, hdpData_homeInfo bedrooms and bathrooms columns\n",
    "columns_to_drop_1 = [column for column in silver_df_clean_2.columns if 'carouselPhotos' in column or column in ['hdpData_homeInfo_bedrooms', 'hdpData_homeInfo_bathrooms']]\n",
    "silver_df_clean_3 = silver_df_clean_2.drop(*columns_to_drop_1)\n",
    "\n",
    "# Rename hdpData_homeInfo_ columns to remove the prefix\n",
    "for column in silver_df_clean_3.columns:\n",
    "    if 'hdpData_homeInfo_' in column:\n",
    "        silver_df_clean_3 = silver_df_clean_3.withColumnRenamed(column, column.replace('hdpData_homeInfo_', ''))\n",
    "\n",
    "columns_to_drop_2 = [\n",
    "    'rawHomeStatusCd',\n",
    "    'marketingStatusSimplifiedCd',\n",
    "    'imgSrc',\n",
    "    'hasImage',\n",
    "    'detailUrl',\n",
    "    'statusType',\n",
    "    'statusText',\n",
    "    'countryCurrency',\n",
    "    'variableData_type',\n",
    "    'variableData_text',\n",
    "    'isFeatured',\n",
    "    'shouldHighlight',\n",
    "    'isZillowOwned',\n",
    "    'listing_sub_type_is_FSBA',\n",
    "    'isUnmappable',\n",
    "    'isPreforeclosureAuction',\n",
    "    'isNonOwnerOccupied',\n",
    "    'isPremierBuilder',\n",
    "    'isSaved',\n",
    "    'isUserClaimingOwner',\n",
    "    'isUserConfirmedClaim',\n",
    "    'pgapt',\n",
    "    'sgapt',\n",
    "    'has3DModel',\n",
    "    'isHomeRec',\n",
    "    'hasAdditionalAttributions',\n",
    "    'isFeaturedListing',\n",
    "    'isShowcaseListing',\n",
    "    'relaxed',\n",
    "    'providerListingId',\n",
    "    'flexFieldText',\n",
    "    'flexFieldType',\n",
    "    'newConstructionType',\n",
    "]\n",
    "\n",
    "# Drop columns from the DataFrame\n",
    "silver_df_clean_4 = silver_df_clean_3.drop(*columns_to_drop_2)\n",
    "\n",
    "# Drop price and rename unformattedPrice to price\n",
    "silver_df_clean_4 = silver_df_clean_4.drop('price').withColumnRenamed('unformattedPrice', 'price')\n",
    "\n",
    "silver_df_clean_4.columns"
   ]
  },
  {
   "cell_type": "code",
   "execution_count": 75,
   "metadata": {},
   "outputs": [
    {
     "name": "stdout",
     "output_type": "stream",
     "text": [
      "+----------------+---------+-----------------+----------+\n",
      "|latLong_latitude| latitude|latLong_longitude| longitude|\n",
      "+----------------+---------+-----------------+----------+\n",
      "|       29.865578|29.865578|        -95.19615| -95.19615|\n",
      "|       29.894386|29.894386|        -95.21654| -95.21654|\n",
      "|        29.96752| 29.96752|        -95.15717| -95.15717|\n",
      "|        29.93202| 29.93202|       -95.185394|-95.185394|\n",
      "|        29.92655| 29.92655|        -95.16345| -95.16345|\n",
      "+----------------+---------+-----------------+----------+\n",
      "only showing top 5 rows\n",
      "\n"
     ]
    },
    {
     "name": "stderr",
     "output_type": "stream",
     "text": [
      "24/10/04 22:51:04 WARN TaskSetManager: Stage 370 contains a task of very large size (10590 KiB). The maximum recommended task size is 1000 KiB.\n"
     ]
    }
   ],
   "source": [
    "# Compare latLong_latitude and latLong_longitude with latitude and longitude\n",
    "silver_df_clean_4.select('latLong_latitude', 'latitude', 'latLong_longitude', 'longitude').show(5)"
   ]
  },
  {
   "cell_type": "code",
   "execution_count": 76,
   "metadata": {},
   "outputs": [],
   "source": [
    "# Drop latLong_latitude and latLong_longitude columns\n",
    "silver_df_clean_5 = silver_df_clean_4.drop('latLong_latitude', 'latLong_longitude')"
   ]
  },
  {
   "cell_type": "markdown",
   "metadata": {},
   "source": [
    "Add Price per Square Foot, as a common metric used in housing."
   ]
  },
  {
   "cell_type": "code",
   "execution_count": 77,
   "metadata": {},
   "outputs": [
    {
     "data": {
      "text/plain": [
       "['zpid',\n",
       " 'price',\n",
       " 'address',\n",
       " 'beds',\n",
       " 'baths',\n",
       " 'area',\n",
       " 'zipcode',\n",
       " 'city',\n",
       " 'state',\n",
       " 'latitude',\n",
       " 'longitude',\n",
       " 'homeType',\n",
       " 'homeStatus',\n",
       " 'daysOnZillow',\n",
       " 'zestimate',\n",
       " 'rentZestimate',\n",
       " 'timeOnZillow',\n",
       " 'currency',\n",
       " 'country',\n",
       " 'taxAssessedValue',\n",
       " 'zestimate',\n",
       " 'brokerName',\n",
       " 'builderName',\n",
       " 'unit',\n",
       " 'price_per_sqft']"
      ]
     },
     "execution_count": 77,
     "metadata": {},
     "output_type": "execute_result"
    }
   ],
   "source": [
    "from pyspark.sql.types import DoubleType, FloatType\n",
    "silver_df_clean_6 = silver_df_clean_5.withColumn('price_per_sqft', (col('price') / col('area')).cast(DoubleType()))\n",
    "silver_df_clean_6.columns"
   ]
  },
  {
   "cell_type": "code",
   "execution_count": 86,
   "metadata": {},
   "outputs": [
    {
     "name": "stdout",
     "output_type": "stream",
     "text": [
      "Duplicate Columns: ['zestimate', 'zestimate']\n"
     ]
    }
   ],
   "source": [
    "# Find duplicate column names\n",
    "duplicate_columns = [col for col in silver_df_clean_6.columns if silver_df_clean_6.columns.count(col) > 1]\n",
    "print(\"Duplicate Columns:\", duplicate_columns)\n",
    "\n",
    "# Drop duplicate 'zestimate' if you don't need both\n",
    "silver_df_clean_7 = silver_df_clean_6.drop('zestimate')\n"
   ]
  },
  {
   "cell_type": "markdown",
   "metadata": {},
   "source": [
    "Standardize the zipcode"
   ]
  },
  {
   "cell_type": "code",
   "execution_count": 95,
   "metadata": {},
   "outputs": [],
   "source": [
    "from pyspark.sql.functions import lpad\n",
    "silver_df_clean_8 = silver_df_clean_7.withColumn('zipcode', lpad(col('zipcode'), 5, '0'))"
   ]
  },
  {
   "cell_type": "markdown",
   "metadata": {},
   "source": [
    "Pysparks likes to save in partitions. Coalescing to one before writing."
   ]
  },
  {
   "cell_type": "code",
   "execution_count": 96,
   "metadata": {},
   "outputs": [
    {
     "name": "stderr",
     "output_type": "stream",
     "text": [
      "24/10/04 22:57:32 WARN TaskSetManager: Stage 375 contains a task of very large size (130508 KiB). The maximum recommended task size is 1000 KiB.\n",
      "                                                                                \r"
     ]
    },
    {
     "data": {
      "text/plain": [
       "0"
      ]
     },
     "execution_count": 96,
     "metadata": {},
     "output_type": "execute_result"
    }
   ],
   "source": [
    "silver_df_clean_8.coalesce(1).write.mode('ignore').option(\"header\", \"true\").csv(\"silver/houston_housing_market_2024\")\n",
    "# Move the file in the folder to the silver folder with the correct name\n",
    "import os\n",
    "os.system(\"mv silver/houston_housing_market_2024/*.csv silver/houston_housing_market_2024.csv\")\n",
    "os.system(\"rm -r silver/houston_housing_market_2024\")"
   ]
  },
  {
   "cell_type": "markdown",
   "metadata": {},
   "source": [
    "# Silver -> Gold: Pricing and listings by ZipCode"
   ]
  },
  {
   "cell_type": "code",
   "execution_count": 97,
   "metadata": {},
   "outputs": [],
   "source": [
    "from pyspark.sql import SparkSession\n",
    "\n",
    "# Initialize Spark Session\n",
    "spark = SparkSession.builder.appName('HoustonHousingGold').getOrCreate()\n",
    "\n",
    "# Load the silver dataset (replace 'path_to_silver_dataset.csv' with your actual file path)\n",
    "silver_df = spark.read.csv('silver/houston_housing_market_2024.csv', header=True, inferSchema=True)\n"
   ]
  },
  {
   "cell_type": "code",
   "execution_count": 98,
   "metadata": {},
   "outputs": [],
   "source": [
    "from pyspark.sql.types import DoubleType, IntegerType\n",
    "\n",
    "silver_df = silver_df.withColumn('price', silver_df['price'].cast(DoubleType()))\n",
    "silver_df = silver_df.withColumn('area', silver_df['area'].cast(DoubleType()))\n",
    "silver_df = silver_df.withColumn('price_per_sqft', silver_df['price_per_sqft'].cast(DoubleType()))\n",
    "silver_df = silver_df.withColumn('days_on_zillow', silver_df['daysOnZillow'].cast(IntegerType()))"
   ]
  },
  {
   "cell_type": "code",
   "execution_count": 109,
   "metadata": {},
   "outputs": [],
   "source": [
    "from pyspark.sql.functions import avg, count, round\n",
    "\n",
    "# Group by zipcode and calculate the average price, price_per_sqft, days_on_zillow, and total listings\n",
    "gold_df = silver_df.groupBy('zipcode').agg(\n",
    "    round(avg('price'), 2).alias('average_price'),\n",
    "    round(avg('price_per_sqft'), 2).alias('average_price_per_sqft'),\n",
    "    round(avg('days_on_zillow'), 2).alias('average_days_on_market'),\n",
    "    count('*').alias('total_listings')\n",
    ")\n",
    "\n",
    "# Add back the city and state columns to the DataFrame from the silver DataFrame\n",
    "gold_df = gold_df.join(silver_df.select('zipcode','city', 'state').distinct(), 'zipcode')"
   ]
  },
  {
   "cell_type": "code",
   "execution_count": 110,
   "metadata": {},
   "outputs": [
    {
     "name": "stdout",
     "output_type": "stream",
     "text": [
      "+-------+-------------+----------------------+----------------------+--------------+--------+-----+\n",
      "|zipcode|average_price|average_price_per_sqft|average_days_on_market|total_listings|    city|state|\n",
      "+-------+-------------+----------------------+----------------------+--------------+--------+-----+\n",
      "|  77024|   2706102.39|                419.75|                 64.96|           137| Houston|   TX|\n",
      "|  77019|   2487279.77|                538.24|                 79.54|           148| Houston|   TX|\n",
      "|  77005|   1986926.81|                511.86|                 59.12|            78| Houston|   TX|\n",
      "|  77027|   1523645.22|                419.01|                  65.6|           114| Houston|   TX|\n",
      "|  77401|   1338937.73|                360.35|                 48.89|            45|Bellaire|   TX|\n",
      "+-------+-------------+----------------------+----------------------+--------------+--------+-----+\n",
      "only showing top 5 rows\n",
      "\n"
     ]
    }
   ],
   "source": [
    "# Show the first 5 rows of the gold DataFrame sorted by average_price in descending order\n",
    "gold_df.orderBy('average_price', ascending=False).show(5)"
   ]
  },
  {
   "cell_type": "code",
   "execution_count": 111,
   "metadata": {},
   "outputs": [
    {
     "data": {
      "text/plain": [
       "0"
      ]
     },
     "execution_count": 111,
     "metadata": {},
     "output_type": "execute_result"
    }
   ],
   "source": [
    "import os\n",
    "# Save the gold DataFrame as a CSV file then move it to the gold folder with the correct name\n",
    "gold_df.coalesce(1).write.mode('ignore').option(\"header\", \"true\").csv(\"gold/houston_housing_market_2024\")\n",
    "os.system(\"mv gold/houston_housing_market_2024/*.csv gold/houston_housing_market_2024.csv\")\n",
    "os.system(\"rm -r gold/houston_housing_market_2024\")"
   ]
  }
 ],
 "metadata": {
  "kernelspec": {
   "display_name": "Python 3",
   "language": "python",
   "name": "python3"
  },
  "language_info": {
   "codemirror_mode": {
    "name": "ipython",
    "version": 3
   },
   "file_extension": ".py",
   "mimetype": "text/x-python",
   "name": "python",
   "nbconvert_exporter": "python",
   "pygments_lexer": "ipython3",
   "version": "3.12.6"
  }
 },
 "nbformat": 4,
 "nbformat_minor": 2
}
